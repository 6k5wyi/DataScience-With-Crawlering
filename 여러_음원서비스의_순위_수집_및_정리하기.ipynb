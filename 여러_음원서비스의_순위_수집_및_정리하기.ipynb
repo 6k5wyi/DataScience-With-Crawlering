{
  "nbformat": 4,
  "nbformat_minor": 0,
  "metadata": {
    "colab": {
      "name": "여러_음원서비스의_순위_수집_및_정리하기.ipynb",
      "provenance": [],
      "collapsed_sections": [],
      "include_colab_link": true
    },
    "kernelspec": {
      "display_name": "Python 3",
      "language": "python",
      "name": "python3"
    },
    "language_info": {
      "codemirror_mode": {
        "name": "ipython",
        "version": 3
      },
      "file_extension": ".py",
      "mimetype": "text/x-python",
      "name": "python",
      "nbconvert_exporter": "python",
      "pygments_lexer": "ipython3",
      "version": "3.7.6"
    }
  },
  "cells": [
    {
      "cell_type": "markdown",
      "metadata": {
        "id": "view-in-github",
        "colab_type": "text"
      },
      "source": [
        "<a href=\"https://colab.research.google.com/github/6k5wyi/DataScience-With-Crawlering/blob/main/%EC%97%AC%EB%9F%AC_%EC%9D%8C%EC%9B%90%EC%84%9C%EB%B9%84%EC%8A%A4%EC%9D%98_%EC%88%9C%EC%9C%84_%EC%88%98%EC%A7%91_%EB%B0%8F_%EC%A0%95%EB%A6%AC%ED%95%98%EA%B8%B0.ipynb\" target=\"_parent\"><img src=\"https://colab.research.google.com/assets/colab-badge.svg\" alt=\"Open In Colab\"/></a>"
      ]
    },
    {
      "cell_type": "markdown",
      "metadata": {
        "id": "T9Cn3zGFrG2B"
      },
      "source": [
        "# 여러 음원 서비스의 순위 수집 및 정리하기\n",
        "멜론과 벅스를 이용하여"
      ]
    },
    {
      "cell_type": "markdown",
      "metadata": {
        "id": "cVqiBemVrSmr"
      },
      "source": [
        "## 사전작업"
      ]
    },
    {
      "cell_type": "markdown",
      "metadata": {
        "id": "hILRany-lUry"
      },
      "source": [
        "### Colab에서 실행시 실행시켜야 할 부분"
      ]
    },
    {
      "cell_type": "code",
      "metadata": {
        "colab": {
          "base_uri": "https://localhost:8080/"
        },
        "id": "n_ySEkU9kTZk",
        "outputId": "1b949277-be58-4ff1-85ee-751712f5ded6"
      },
      "source": [
        "!pip install selenium \n",
        "!apt-get update # apt install을 정확히 실행하기 위해 ubuntu 업데이트 \n",
        "!apt install chromium-chromedriver \n",
        "!cp /usr/lib/chromium-browser/chromedriver /usr/bin \n",
        "import sys \n",
        "sys.path.insert(0,'/usr/lib/chromium-browser/chromedriver') \n",
        "from selenium import webdriver \n",
        "chrome_options = webdriver.ChromeOptions() \n",
        "chrome_options.add_argument('--headless')\n",
        "chrome_options.add_argument('--no-sandbox') \n",
        "chrome_options.add_argument('--disable-dev-shm-usage') \n",
        "driver = webdriver.Chrome('chromedriver',chrome_options=chrome_options)"
      ],
      "execution_count": 2,
      "outputs": [
        {
          "output_type": "stream",
          "text": [
            "Requirement already satisfied: selenium in /usr/local/lib/python3.6/dist-packages (3.141.0)\n",
            "Requirement already satisfied: urllib3 in /usr/local/lib/python3.6/dist-packages (from selenium) (1.24.3)\n",
            "Hit:1 https://cloud.r-project.org/bin/linux/ubuntu bionic-cran40/ InRelease\n",
            "Ign:2 https://developer.download.nvidia.com/compute/cuda/repos/ubuntu1804/x86_64  InRelease\n",
            "Ign:3 https://developer.download.nvidia.com/compute/machine-learning/repos/ubuntu1804/x86_64  InRelease\n",
            "Hit:4 https://developer.download.nvidia.com/compute/cuda/repos/ubuntu1804/x86_64  Release\n",
            "Hit:5 https://developer.download.nvidia.com/compute/machine-learning/repos/ubuntu1804/x86_64  Release\n",
            "Hit:6 http://security.ubuntu.com/ubuntu bionic-security InRelease\n",
            "Hit:7 http://ppa.launchpad.net/c2d4u.team/c2d4u4.0+/ubuntu bionic InRelease\n",
            "Hit:8 http://archive.ubuntu.com/ubuntu bionic InRelease\n",
            "Hit:10 http://archive.ubuntu.com/ubuntu bionic-updates InRelease\n",
            "Hit:12 http://ppa.launchpad.net/graphics-drivers/ppa/ubuntu bionic InRelease\n",
            "Hit:13 http://archive.ubuntu.com/ubuntu bionic-backports InRelease\n",
            "Reading package lists... Done\n",
            "Reading package lists... Done\n",
            "Building dependency tree       \n",
            "Reading state information... Done\n",
            "chromium-chromedriver is already the newest version (87.0.4280.66-0ubuntu0.18.04.1).\n",
            "0 upgraded, 0 newly installed, 0 to remove and 56 not upgraded.\n",
            "cp: '/usr/lib/chromium-browser/chromedriver' and '/usr/bin/chromedriver' are the same file\n"
          ],
          "name": "stdout"
        },
        {
          "output_type": "stream",
          "text": [
            "/usr/local/lib/python3.6/dist-packages/ipykernel_launcher.py:12: DeprecationWarning: use options instead of chrome_options\n",
            "  if sys.path[0] == '':\n"
          ],
          "name": "stderr"
        }
      ]
    },
    {
      "cell_type": "markdown",
      "metadata": {
        "id": "L8FAr2XdmHYz"
      },
      "source": [
        "### local에서 실행시 실행시켜야할 부분"
      ]
    },
    {
      "cell_type": "code",
      "metadata": {
        "id": "44ubbbGWj_D9"
      },
      "source": [
        "# from selenium import webdriver\n",
        "# installedwebdriver = 'c:/Temp/chromedriver.exe' #웹드라이버 설치 경로 설정\n",
        "# driver = webdriver.Chrome(installedwebdriver) "
      ],
      "execution_count": 3,
      "outputs": []
    },
    {
      "cell_type": "markdown",
      "metadata": {
        "id": "dqqf1UXTrO6S"
      },
      "source": [
        "## 멜론사이트 웹크롤링"
      ]
    },
    {
      "cell_type": "code",
      "metadata": {
        "id": "n77yA-D5rM9n"
      },
      "source": [
        "#멜론 사이트 접속하기\n",
        "url = 'http://www.melon.com/chart/index.htm'\n",
        "driver.get(url)"
      ],
      "execution_count": 4,
      "outputs": []
    },
    {
      "cell_type": "code",
      "metadata": {
        "id": "gk-kyLiUqy99"
      },
      "source": [
        "#크롤링 툴 가져오기\n",
        "from bs4 import BeautifulSoup\n",
        "html = driver.page_source\n",
        "soup = BeautifulSoup(html,'html.parser')"
      ],
      "execution_count": 5,
      "outputs": []
    },
    {
      "cell_type": "code",
      "metadata": {
        "colab": {
          "base_uri": "https://localhost:8080/"
        },
        "id": "QD-hrcNisb9o",
        "outputId": "3cea3be9-95bf-4dd2-c76b-7e408d013328"
      },
      "source": [
        "#반복문을 이용하여 곡과 가수명을 song_data에 저장하기\n",
        "song_data = []\n",
        "rank = 1\n",
        "songs = soup.select('table > tbody > tr')\n",
        "for song in songs:\n",
        "    title = song.select('div.rank01 > span > a')[0].text\n",
        "    singer = song.select('div.rank02 > span > a')[0].text\n",
        "    song_data.append(['Melon', rank, title, singer])\n",
        "    rank = rank + 1\n",
        "\n",
        "print(song_data)"
      ],
      "execution_count": 6,
      "outputs": [
        {
          "output_type": "stream",
          "text": [
            "[['Melon', 1, 'VVS (Feat. JUSTHIS) (Prod. GroovyRoom)', '미란이 (Mirani)'], ['Melon', 2, 'Dynamite', '방탄소년단'], ['Melon', 3, '밤하늘의 별을(2020)', '경서'], ['Melon', 4, '내일이 오면 (Feat. 기리보이, BIG Naughty (서동현))', '릴보이 (lIlBOI)'], ['Melon', 5, '잠이 오질 않네요', '장범준'], ['Melon', 6, 'All I Want For Christmas Is You', 'Mariah Carey'], ['Melon', 7, '힘든 건 사랑이 아니다', '임창정'], ['Melon', 8, '취기를 빌려 (취향저격 그녀 X 산들)', '산들'], ['Melon', 9, 'Lovesick Girls', 'BLACKPINK'], ['Melon', 10, 'Life Goes On', '방탄소년단'], ['Melon', 11, 'Achoo (Feat. pH-1, HAON) (Prod. GroovyRoom)', '미란이 (Mirani)'], ['Melon', 12, 'Santa Tell Me', 'Ariana Grande'], ['Melon', 13, '악역 (Feat. 이하이 & 사이먼 도미닉) (Prod. 코드 쿤스트)', '스윙스'], ['Melon', 14, 'What Do I Call You', '태연 (TAEYEON)'], ['Melon', 15, 'For You (Feat. Crush)', '이하이'], ['Melon', 16, 'Savage Love (Laxed - Siren Beat) (BTS Remix)', 'Jawsh 685'], ['Melon', 17, '오래된 노래', '스탠딩 에그'], ['Melon', 18, 'Freak (Prod. Slom)', '릴보이 (lIlBOI)'], ['Melon', 19, '내 마음이 움찔했던 순간 (취향저격 그녀 X 규현)', '규현 (KYUHYUN)'], ['Melon', 20, '뿌리 (Feat. JUSTHIS) (Prod. GroovyRoom)', 'Khundi Panda'], ['Melon', 21, '미리 메리 크리스마스 (Feat. 천둥 Of MBLAQ)', '아이유'], ['Melon', 22, '나랑 같이 걸을래 (바른연애 길잡이 X 적재)', '적재'], ['Melon', 23, '어떻게 이별까지 사랑하겠어, 널 사랑하는 거지', 'AKMU (악동뮤지션)'], ['Melon', 24, 'When We Disco (Duet with 선미)', '박진영'], ['Melon', 25, 'Snowman', 'Sia'], ['Melon', 26, '딩가딩가 (Dingga)', '마마무 (Mamamoo)'], ['Melon', 27, \"DON'T TOUCH ME\", '환불원정대'], ['Melon', 28, '혼술하고 싶은 밤', '벤'], ['Melon', 29, '에잇(Prod.&Feat. SUGA of BTS)', '아이유'], ['Melon', 30, '고독하구만 (Feat. 수퍼비) (Prod. GroovyRoom)', '머쉬베놈 (MUSHVENOM)'], ['Melon', 31, '흔들리는 꽃들 속에서 네 샴푸향이 느껴진거야', '장범준'], ['Melon', 32, '늦은 밤 너의 집 앞 골목길에서', '노을'], ['Melon', 33, '뻔한남자', '이승기'], ['Melon', 34, '어떻게 지내 (Prod. By VAN.C)', '오반 (OVAN)'], ['Melon', 35, 'How You Like That', 'BLACKPINK'], ['Melon', 36, 'I CAN’T STOP ME', 'TWICE (트와이스)'], ['Melon', 37, '아로하', '조정석'], ['Melon', 38, '모든 날, 모든 순간 (Every day, Every Moment)', '폴킴'], ['Melon', 39, 'Dolphin', '오마이걸 (OH MY GIRL)'], ['Melon', 40, '적외선 카메라', '원슈타인'], ['Melon', 41, 'METEOR', '창모 (CHANGMO)'], ['Melon', 42, 'Blueming', '아이유'], ['Melon', 43, '거짓말이라도 해서 널 보고싶어', '백지영'], ['Melon', 44, '작은 것들을 위한 시 (Boy With Luv) (Feat. Halsey)', '방탄소년단'], ['Melon', 45, '사실 나는 (Feat.전건호)', '경서예지'], ['Melon', 46, '홀로', '이하이'], ['Melon', 47, '가을밤에 든 생각', '잔나비'], ['Melon', 48, '마리아 (Maria)', '화사 (Hwa Sa)'], ['Melon', 49, '크리스마스니까', '성시경'], ['Melon', 50, '눈누난나 (NUNU NANA)', '제시 (Jessi)'], ['Melon', 51, '서면역에서', '순순희'], ['Melon', 52, 'Memories', 'Maroon 5'], ['Melon', 53, '마음을 드려요', '아이유'], ['Melon', 54, '오늘도 빛나는 너에게 (To You My Light) (Feat.이라온)', '마크툽 (MAKTUB)'], ['Melon', 55, '지켜줄게 (바니와 오빠들 X 노을)', '노을'], ['Melon', 56, '사랑은 지날수록 더욱 선명하게 남아', '전상근'], ['Melon', 57, '원해 (Feat. 팔로알토) (Prod. 코드 쿤스트)', '스윙스'], ['Melon', 58, 'Dance Monkey', 'Tones And I'], ['Melon', 59, '봄날', '방탄소년단'], ['Melon', 60, '우리 왜 헤어져야 해', '신예영'], ['Melon', 61, 'Downtown Baby', '블루 (BLOO)'], ['Melon', 62, '한잔이면 지워질까', '황인욱'], ['Melon', 63, '사랑 못해, 남들 쉽게 다 하는 거', '먼데이 키즈 (Monday Kiz)'], ['Melon', 64, '2002', 'Anne-Marie'], ['Melon', 65, '소확행', '임창정'], ['Melon', 66, '부어라 비워라 (Tricker) (Prod. GroovyRoom)', '머쉬베놈 (MUSHVENOM)'], ['Melon', 67, '살짝 설렜어 (Nonstop)', '오마이걸 (OH MY GIRL)'], ['Melon', 68, '잘할게', '이승기'], ['Melon', 69, '시작', '가호 (Gaho)'], ['Melon', 70, '행복해', '송하예'], ['Melon', 71, '이제 나만 믿어요', '임영웅'], ['Melon', 72, '놓아줘 (with 태연)', 'Crush'], ['Melon', 73, '처음처럼', '엠씨더맥스 (M.C the MAX)'], ['Melon', 74, '안녕', '폴킴'], ['Melon', 75, '너도 아는', '폴킴'], ['Melon', 76, 'Bad Boy', '청하'], ['Melon', 77, '너를 만나', '폴킴'], ['Melon', 78, '사랑하게 될 줄 알았어', '전미도'], ['Melon', 79, 'Blue & Grey', '방탄소년단'], ['Melon', 80, 'Panorama', 'IZ*ONE (아이즈원)'], ['Melon', 81, '내 방을 여행하는 법', '방탄소년단'], ['Melon', 82, 'Bad News Cypher vol.2 (Feat. TakeOne)', '릴보이 (lIlBOI)'], ['Melon', 83, '별을 담은 시 (Ode To The Stars)', '마크툽 (MAKTUB)'], ['Melon', 84, \"Don't Start Now\", 'Dua Lipa'], ['Melon', 85, 'Hero (Feat. JUSTHIS, Golden) (Prod. GroovyRoom)', 'Khundi Panda'], ['Melon', 86, '다시 여기 바닷가', '싹쓰리 (유두래곤, 린다G, 비룡)'], ['Melon', 87, 'ON', '방탄소년단'], ['Melon', 88, '12:45 (Stripped)', 'Etham'], ['Melon', 89, 'Black Mamba', 'aespa'], ['Melon', 90, 'Love poem', '아이유'], ['Melon', 91, '아무노래', '지코 (ZICO)'], ['Melon', 92, 'Hate you', '백예린 (Yerin Baek)'], ['Melon', 93, 'AYA', '마마무 (Mamamoo)'], ['Melon', 94, 'iii (Feat. 베이식, Kid Milli & 팔로알토) (Prod. 코드 쿤스트)', '래원 (Layone)'], ['Melon', 95, 'Maniac', 'Conan Gray'], ['Melon', 96, 'Paris In The Rain', 'Lauv'], ['Melon', 97, '윈윈 (Feat. 개코, BewhY) (Prod. BewhY)', '허성현 (Rose de Penny)'], ['Melon', 98, '어김없이 이 거리에', '정승환'], ['Melon', 99, 'Pretty Savage', 'BLACKPINK'], ['Melon', 100, '덤디덤디 (DUMDi DUMDi)', '(여자)아이들']]\n"
          ],
          "name": "stdout"
        }
      ]
    },
    {
      "cell_type": "code",
      "metadata": {
        "colab": {
          "base_uri": "https://localhost:8080/",
          "height": 204
        },
        "id": "iwDdWQ__s5FJ",
        "outputId": "c2d55d18-e85f-467b-e21d-984d31e18f98"
      },
      "source": [
        "# 데이터 프레임 만들기\n",
        "import pandas as pd\n",
        "columns = ['서비스', '순위', '타이틀', '가수']\n",
        "pd_data = pd.DataFrame(song_data, columns = columns)\n",
        "pd_data.head()"
      ],
      "execution_count": 7,
      "outputs": [
        {
          "output_type": "execute_result",
          "data": {
            "text/html": [
              "<div>\n",
              "<style scoped>\n",
              "    .dataframe tbody tr th:only-of-type {\n",
              "        vertical-align: middle;\n",
              "    }\n",
              "\n",
              "    .dataframe tbody tr th {\n",
              "        vertical-align: top;\n",
              "    }\n",
              "\n",
              "    .dataframe thead th {\n",
              "        text-align: right;\n",
              "    }\n",
              "</style>\n",
              "<table border=\"1\" class=\"dataframe\">\n",
              "  <thead>\n",
              "    <tr style=\"text-align: right;\">\n",
              "      <th></th>\n",
              "      <th>서비스</th>\n",
              "      <th>순위</th>\n",
              "      <th>타이틀</th>\n",
              "      <th>가수</th>\n",
              "    </tr>\n",
              "  </thead>\n",
              "  <tbody>\n",
              "    <tr>\n",
              "      <th>0</th>\n",
              "      <td>Melon</td>\n",
              "      <td>1</td>\n",
              "      <td>VVS (Feat. JUSTHIS) (Prod. GroovyRoom)</td>\n",
              "      <td>미란이 (Mirani)</td>\n",
              "    </tr>\n",
              "    <tr>\n",
              "      <th>1</th>\n",
              "      <td>Melon</td>\n",
              "      <td>2</td>\n",
              "      <td>Dynamite</td>\n",
              "      <td>방탄소년단</td>\n",
              "    </tr>\n",
              "    <tr>\n",
              "      <th>2</th>\n",
              "      <td>Melon</td>\n",
              "      <td>3</td>\n",
              "      <td>밤하늘의 별을(2020)</td>\n",
              "      <td>경서</td>\n",
              "    </tr>\n",
              "    <tr>\n",
              "      <th>3</th>\n",
              "      <td>Melon</td>\n",
              "      <td>4</td>\n",
              "      <td>내일이 오면 (Feat. 기리보이, BIG Naughty (서동현))</td>\n",
              "      <td>릴보이 (lIlBOI)</td>\n",
              "    </tr>\n",
              "    <tr>\n",
              "      <th>4</th>\n",
              "      <td>Melon</td>\n",
              "      <td>5</td>\n",
              "      <td>잠이 오질 않네요</td>\n",
              "      <td>장범준</td>\n",
              "    </tr>\n",
              "  </tbody>\n",
              "</table>\n",
              "</div>"
            ],
            "text/plain": [
              "     서비스  순위                                     타이틀            가수\n",
              "0  Melon   1  VVS (Feat. JUSTHIS) (Prod. GroovyRoom)  미란이 (Mirani)\n",
              "1  Melon   2                                Dynamite         방탄소년단\n",
              "2  Melon   3                           밤하늘의 별을(2020)            경서\n",
              "3  Melon   4  내일이 오면 (Feat. 기리보이, BIG Naughty (서동현))  릴보이 (lIlBOI)\n",
              "4  Melon   5                               잠이 오질 않네요           장범준"
            ]
          },
          "metadata": {
            "tags": []
          },
          "execution_count": 7
        }
      ]
    },
    {
      "cell_type": "code",
      "metadata": {
        "id": "PEh_WTDyuoM5"
      },
      "source": [
        "#엑셀로 저장하기\n",
        "pd_data.to_excel('./melon.xlsx',index=False)"
      ],
      "execution_count": 8,
      "outputs": []
    },
    {
      "cell_type": "markdown",
      "metadata": {
        "id": "Js7uU4ml6AU7"
      },
      "source": [
        "## 벅스 사이트 웹크롤링"
      ]
    },
    {
      "cell_type": "code",
      "metadata": {
        "id": "S4vD0xBou8DK"
      },
      "source": [
        "#벅스사이트 접속하기\n",
        "\n",
        "url = 'https://music.bugs.co.kr/chart'\n",
        "driver.get(url)"
      ],
      "execution_count": 9,
      "outputs": []
    },
    {
      "cell_type": "code",
      "metadata": {
        "id": "IgxxkyfG6AU8"
      },
      "source": [
        "#크롤링 툴 가져오기\n",
        "from bs4 import BeautifulSoup\n",
        "html = driver.page_source\n",
        "soup = BeautifulSoup(html,'html.parser')"
      ],
      "execution_count": 10,
      "outputs": []
    },
    {
      "cell_type": "code",
      "metadata": {
        "colab": {
          "base_uri": "https://localhost:8080/"
        },
        "id": "lYT4dfTV6AU8",
        "outputId": "299a2da1-d08a-4bdd-a714-ea10662d3fe6"
      },
      "source": [
        "songs = soup.select('table > tbody > tr')\n",
        "print(len(songs))\n",
        "print(songs[0])"
      ],
      "execution_count": 11,
      "outputs": [
        {
          "output_type": "stream",
          "text": [
            "103\n",
            "<tr albumid=\"20367316\" artistid=\"80026437\" multiartist=\"N\" mvid=\"582066\" rowtype=\"track\" trackid=\"32099906\">\n",
            "<input name=\"_isStream\" type=\"hidden\" value=\"32099906\"/>\n",
            "<input name=\"_isDown\" type=\"hidden\" value=\"32099906\"/>\n",
            "<td class=\"check\"><input buyminquality=\"T\" disc_id=\"1\" name=\"check\" title=\"What Do I Call You\" type=\"checkbox\" value=\"32099906\"/></td>\n",
            "<td>\n",
            "<div class=\"ranking\">\n",
            "<strong>1</strong>\n",
            "<p class=\"change none\"><em>0</em><span>변동없음</span></p>\n",
            "</div>\n",
            "</td>\n",
            "<td>\n",
            "<a class=\"thumbnail\" href=\"https://music.bugs.co.kr/album/20367316?wl_ref=list_tr_07_chart\" onclick=\"\n",
            "\">\n",
            "<span class=\"mask\"></span>\n",
            "<img alt=\"What Do I Call You - The 4th Mini Album 대표이미지\" onerror=\"bugs.utils.imgError(this);\" src=\"https://image.bugsm.co.kr/album/images/50/203673/20367316.jpg?version=20201215185833.0\"/>\n",
            "</a>\n",
            "</td>\n",
            "<td>\n",
            "<a class=\"trackInfo\" href=\"https://music.bugs.co.kr/track/32099906?wl_ref=list_tr_08_chart\" onclick=\"\n",
            "\">곡정보</a>\n",
            "</td>\n",
            "<th scope=\"row\">\n",
            "<p adult_yn=\"N\" class=\"title\">\n",
            "<a adultcheckval=\"1\" aria-label=\"새창\" href=\"javascript:;\" onclick=\"bugs.wiselog.area('list_tr_09_chart');bugs.music.listen('32099906',true);\n",
            "\" title=\"What Do I Call You\">What Do I Call You</a>\n",
            "</p>\n",
            "</th>\n",
            "<td class=\"left\">\n",
            "<p class=\"artist\">\n",
            "<a href=\"https://music.bugs.co.kr/artist/80026437?wl_ref=list_tr_10_chart\" onclick=\"\n",
            "\" title=\"태연 (TAEYEON)\">태연 (TAEYEON)</a>\n",
            "</p>\n",
            "</td>\n",
            "<td class=\"left\">\n",
            "<a class=\"album\" href=\"https://music.bugs.co.kr/album/20367316?wl_ref=list_tr_11_chart\" onclick=\"\n",
            "\" title=\"What Do I Call You - The 4th Mini Album\">What Do I Call You - The 4th Mini Album</a>\n",
            "</td>\n",
            "<td>\n",
            "<a adultcheckval=\"1\" aria-label=\"새창\" class=\"btn play\" href=\"javascript:;\" onclick=\"bugs.wiselog.area('list_tr_12_chart');bugs.music.listen('32099906',true);\n",
            "\">듣기</a>\n",
            "</td>\n",
            "<td>\n",
            "<a adultcheckval=\"1\" aria-label=\"새창\" class=\"btn addPlaylist\" href=\"javascript:;\" onclick=\"bugs.wiselog.area('list_tr_13_chart');bugs.music.listen('32099906');\n",
            "\">재생목록에 추가</a>\n",
            "</td>\n",
            "<td>\n",
            "<a class=\"btn addAlbum\" href=\"javascript:;\" onclick=\"bugs.wiselog.area('list_tr_14_chart');bugs.music.addTrackToMyAlbum(this,'32099906');\n",
            "\" track_title=\"What Do I Call You\">내 앨범에 담기</a>\n",
            "</td>\n",
            "<td>\n",
            "<a adultcheckval=\"1\" aria-label=\"새창\" class=\"btn download flac\" href=\"javascript:;\" onclick=\"bugs.wiselog.area('list_tr_15_chart');bugs.layermenu.down(this,'32099906','true','true','44.1','false','', null );\n",
            "\"><em class=\"flac\">flac </em>다운로드</a>\n",
            "</td>\n",
            "<td>\n",
            "<a aria-label=\"새창\" class=\"btn viewMV\" href=\"javascript:;\" onclick=\"bugs.wiselog.area('list_tr_16_chart');\n",
            "bugs.layermenu.mv(this,32099906, 582066, 'Y', 'Y', 'Y', 'Y', 32099906, 'N','ALL', 'Y');\n",
            "\">영상 재생</a>\n",
            "</td>\n",
            "<td>\n",
            "<a artist_disp_nm=\"태연 (TAEYEON)\" artist_id=\"80026437\" class=\"btnActions\" href=\"javascript:;\" layer_type=\"CHART\" layerpositiontarget=\"td\" onclick=\"bugs.wiselog.area('list_tr_17_chart');\n",
            "bugs.layermenu.trackMoreAction(this,'32099906','0','20367316','bugs.music.listenRadioFromSeed(\\'32099906\\',\\'track\\');','N', 'Y', '_chart');\n",
            "\" track_title=\"What Do I Call You\">기타 기능</a>\n",
            "</td>\n",
            "</tr>\n"
          ],
          "name": "stdout"
        }
      ]
    },
    {
      "cell_type": "code",
      "metadata": {
        "colab": {
          "base_uri": "https://localhost:8080/"
        },
        "id": "TYif2m8P6AU8",
        "outputId": "3086810c-3147-430c-fc15-08b85085d9cf"
      },
      "source": [
        "song = songs[0]\n",
        "song"
      ],
      "execution_count": 12,
      "outputs": [
        {
          "output_type": "execute_result",
          "data": {
            "text/plain": [
              "<tr albumid=\"20367316\" artistid=\"80026437\" multiartist=\"N\" mvid=\"582066\" rowtype=\"track\" trackid=\"32099906\">\n",
              "<input name=\"_isStream\" type=\"hidden\" value=\"32099906\"/>\n",
              "<input name=\"_isDown\" type=\"hidden\" value=\"32099906\"/>\n",
              "<td class=\"check\"><input buyminquality=\"T\" disc_id=\"1\" name=\"check\" title=\"What Do I Call You\" type=\"checkbox\" value=\"32099906\"/></td>\n",
              "<td>\n",
              "<div class=\"ranking\">\n",
              "<strong>1</strong>\n",
              "<p class=\"change none\"><em>0</em><span>변동없음</span></p>\n",
              "</div>\n",
              "</td>\n",
              "<td>\n",
              "<a class=\"thumbnail\" href=\"https://music.bugs.co.kr/album/20367316?wl_ref=list_tr_07_chart\" onclick=\"\n",
              "\">\n",
              "<span class=\"mask\"></span>\n",
              "<img alt=\"What Do I Call You - The 4th Mini Album 대표이미지\" onerror=\"bugs.utils.imgError(this);\" src=\"https://image.bugsm.co.kr/album/images/50/203673/20367316.jpg?version=20201215185833.0\"/>\n",
              "</a>\n",
              "</td>\n",
              "<td>\n",
              "<a class=\"trackInfo\" href=\"https://music.bugs.co.kr/track/32099906?wl_ref=list_tr_08_chart\" onclick=\"\n",
              "\">곡정보</a>\n",
              "</td>\n",
              "<th scope=\"row\">\n",
              "<p adult_yn=\"N\" class=\"title\">\n",
              "<a adultcheckval=\"1\" aria-label=\"새창\" href=\"javascript:;\" onclick=\"bugs.wiselog.area('list_tr_09_chart');bugs.music.listen('32099906',true);\n",
              "\" title=\"What Do I Call You\">What Do I Call You</a>\n",
              "</p>\n",
              "</th>\n",
              "<td class=\"left\">\n",
              "<p class=\"artist\">\n",
              "<a href=\"https://music.bugs.co.kr/artist/80026437?wl_ref=list_tr_10_chart\" onclick=\"\n",
              "\" title=\"태연 (TAEYEON)\">태연 (TAEYEON)</a>\n",
              "</p>\n",
              "</td>\n",
              "<td class=\"left\">\n",
              "<a class=\"album\" href=\"https://music.bugs.co.kr/album/20367316?wl_ref=list_tr_11_chart\" onclick=\"\n",
              "\" title=\"What Do I Call You - The 4th Mini Album\">What Do I Call You - The 4th Mini Album</a>\n",
              "</td>\n",
              "<td>\n",
              "<a adultcheckval=\"1\" aria-label=\"새창\" class=\"btn play\" href=\"javascript:;\" onclick=\"bugs.wiselog.area('list_tr_12_chart');bugs.music.listen('32099906',true);\n",
              "\">듣기</a>\n",
              "</td>\n",
              "<td>\n",
              "<a adultcheckval=\"1\" aria-label=\"새창\" class=\"btn addPlaylist\" href=\"javascript:;\" onclick=\"bugs.wiselog.area('list_tr_13_chart');bugs.music.listen('32099906');\n",
              "\">재생목록에 추가</a>\n",
              "</td>\n",
              "<td>\n",
              "<a class=\"btn addAlbum\" href=\"javascript:;\" onclick=\"bugs.wiselog.area('list_tr_14_chart');bugs.music.addTrackToMyAlbum(this,'32099906');\n",
              "\" track_title=\"What Do I Call You\">내 앨범에 담기</a>\n",
              "</td>\n",
              "<td>\n",
              "<a adultcheckval=\"1\" aria-label=\"새창\" class=\"btn download flac\" href=\"javascript:;\" onclick=\"bugs.wiselog.area('list_tr_15_chart');bugs.layermenu.down(this,'32099906','true','true','44.1','false','', null );\n",
              "\"><em class=\"flac\">flac </em>다운로드</a>\n",
              "</td>\n",
              "<td>\n",
              "<a aria-label=\"새창\" class=\"btn viewMV\" href=\"javascript:;\" onclick=\"bugs.wiselog.area('list_tr_16_chart');\n",
              "bugs.layermenu.mv(this,32099906, 582066, 'Y', 'Y', 'Y', 'Y', 32099906, 'N','ALL', 'Y');\n",
              "\">영상 재생</a>\n",
              "</td>\n",
              "<td>\n",
              "<a artist_disp_nm=\"태연 (TAEYEON)\" artist_id=\"80026437\" class=\"btnActions\" href=\"javascript:;\" layer_type=\"CHART\" layerpositiontarget=\"td\" onclick=\"bugs.wiselog.area('list_tr_17_chart');\n",
              "bugs.layermenu.trackMoreAction(this,'32099906','0','20367316','bugs.music.listenRadioFromSeed(\\'32099906\\',\\'track\\');','N', 'Y', '_chart');\n",
              "\" track_title=\"What Do I Call You\">기타 기능</a>\n",
              "</td>\n",
              "</tr>"
            ]
          },
          "metadata": {
            "tags": []
          },
          "execution_count": 12
        }
      ]
    },
    {
      "cell_type": "code",
      "metadata": {
        "colab": {
          "base_uri": "https://localhost:8080/",
          "height": 35
        },
        "id": "_aRAF96t6AU8",
        "outputId": "450f13d1-3b43-4a57-d755-3af8ba1b87b0"
      },
      "source": [
        "title = song.select('p.title > a')[0].text\n",
        "title"
      ],
      "execution_count": 13,
      "outputs": [
        {
          "output_type": "execute_result",
          "data": {
            "application/vnd.google.colaboratory.intrinsic+json": {
              "type": "string"
            },
            "text/plain": [
              "'What Do I Call You'"
            ]
          },
          "metadata": {
            "tags": []
          },
          "execution_count": 13
        }
      ]
    },
    {
      "cell_type": "code",
      "metadata": {
        "colab": {
          "base_uri": "https://localhost:8080/",
          "height": 35
        },
        "id": "kTb9wVZs6AU9",
        "outputId": "208c8b4c-e3ae-4beb-edef-818c5f374557"
      },
      "source": [
        "singer = song.select('p.artist > a')[0].text\n",
        "singer"
      ],
      "execution_count": 14,
      "outputs": [
        {
          "output_type": "execute_result",
          "data": {
            "application/vnd.google.colaboratory.intrinsic+json": {
              "type": "string"
            },
            "text/plain": [
              "'태연 (TAEYEON)'"
            ]
          },
          "metadata": {
            "tags": []
          },
          "execution_count": 14
        }
      ]
    },
    {
      "cell_type": "code",
      "metadata": {
        "colab": {
          "base_uri": "https://localhost:8080/"
        },
        "id": "_9XfAcaM6AU9",
        "outputId": "c4193bc0-f950-42d3-b2b8-0de04997671f"
      },
      "source": [
        "songs = soup.select('table.byChart > tbody > tr')\n",
        "for song in songs:\n",
        "    title = song.select('p.title > a')[0].text\n",
        "    singer = song.select('p.artist > a')[0].text\n",
        "    print(title,\" I \",singer)"
      ],
      "execution_count": 15,
      "outputs": [
        {
          "output_type": "stream",
          "text": [
            "What Do I Call You  I  태연 (TAEYEON)\n",
            "For You (Feat. Crush)  I  이하이\n",
            "불면증 (Vocal by 윤하)  I  에피톤 프로젝트(Epitone Project)\n",
            "Playlist  I  태연 (TAEYEON)\n",
            "VVS (Feat. JUSTHIS) (Prod. GroovyRoom)  I  미란이\n",
            "악역 (Feat. 이하이 & 사이먼 도미닉) (Prod. 코드 쿤스트)  I  스윙스(Swings)\n",
            "Lovegame  I  백예린 (Yerin Baek)\n",
            "Dynamite  I  방탄소년단\n",
            "Panorama  I  IZ*ONE(아이즈원)\n",
            "To the moon  I  태연 (TAEYEON)\n",
            "Achoo (Feat. pH-1, HAON) (Prod. GroovyRoom)  I  미란이\n",
            "Life Goes On  I  방탄소년단\n",
            "내일이 오면 (Feat. 기리보이, BIG Naughty (서동현))  I  릴보이(lIlBOI)\n",
            "Santa Tell Me  I  Ariana Grande(아리아나 그란데)\n",
            "All I Want for Christmas Is You  I  Mariah Carey(머라이어 캐리)\n",
            "밤하늘의 별을(2020)  I  경서\n",
            "Galaxy  I  태연 (TAEYEON)\n",
            "Hate you  I  백예린 (Yerin Baek)\n",
            "들불 (Wildfire)  I  태연 (TAEYEON)\n",
            "Black Mamba  I  aespa\n",
            "Lovesick Girls  I  BLACKPINK\n",
            "잠이 오질 않네요  I  장범준\n",
            "한잔이면 지워질까  I  황인욱\n",
            "잘할게  I  이승기\n",
            "미리 메리 크리스마스 (feat. 천둥 Of MBLAQ)  I  아이유(IU)\n",
            "Snowman  I  Sia(시아)\n",
            "취기를 빌려 (취향저격 그녀 X 산들)  I  산들\n",
            "뿌리 (Feat. JUSTHIS) (Prod. GroovyRoom)  I  KHUNDI PANDA\n",
            "I CAN’T STOP ME  I  TWICE (트와이스)\n",
            "고독하구만 (Feat. 수퍼비) (Prod. GroovyRoom)  I  머쉬베놈(MUSHVENOM)\n",
            "혼술하고 싶은 밤  I  벤\n",
            "사라진 모든 것들에게(with ELLE KOREA)  I  코드 쿤스트\n",
            "어김없이 이 거리에  I  정승환\n",
            "Better  I  보아 (BoA)\n",
            "적외선 카메라  I  원슈타인\n",
            "가을밤에 든 생각  I  잔나비\n",
            "딩가딩가 (Dingga)  I  마마무(Mamamoo)\n",
            "Savage Love (Laxed - Siren Beat) (BTS Remix)  I  Jawsh 685\n",
            "나랑 같이 걸을래 (바른연애 길잡이 X 적재)  I  적재\n",
            "MAGO  I  여자친구(GFRIEND)\n",
            "34+35  I  Ariana Grande(아리아나 그란데)\n",
            "힘든 건 사랑이 아니다  I  임창정\n",
            "에잇(Prod.&Feat. SUGA of BTS)  I  아이유(IU)\n",
            "흔들리는 꽃들 속에서 네 샴푸향이 느껴진거야  I  장범준\n",
            "Freak (Prod. Slom)  I  릴보이(lIlBOI)\n",
            "한 번에 알아본 사랑 (바른연애 길잡이 X 양요섭)  I  양요섭\n",
            "어떻게 이별까지 사랑하겠어, 널 사랑하는 거지  I  AKMU (악동뮤지션)\n",
            "지켜줄게 (바니와 오빠들 X 노을)  I  노을\n",
            "크리스마스니까  I  성시경\n",
            "내 마음이 움찔했던 순간 (취향저격 그녀 X 규현)  I  규현 (KYUHYUN)\n",
            "0415  I  백예린 (Yerin Baek)\n",
            "I am not your ocean anymore  I  백예린 (Yerin Baek)\n",
            "You’re so lonely now, so you need me back by your side again  I  백예린 (Yerin Baek)\n",
            "SO BAD  I  STAYC(스테이씨)\n",
            "너도 아는  I  폴킴(Paul Kim)\n",
            "Hero (Feat. JUSTHIS, Golden) (Prod. GroovyRoom)  I  KHUNDI PANDA\n",
            "내 방을 여행하는 법  I  방탄소년단\n",
            "Dolphin  I  오마이걸(OH MY GIRL)\n",
            "Bad News Cypher vol.2 (Feat. TakeOne)  I  릴보이(lIlBOI)\n",
            "HAPPENING  I  AKMU (악동뮤지션)\n",
            "Blueming  I  아이유(IU)\n",
            "오래된 노래  I  스탠딩 에그(Standing Egg)\n",
            "Bad Boy  I  청하\n",
            "이제 나만 믿어요  I  임영웅\n",
            "마음을 드려요  I  아이유(IU)\n",
            "AYA  I  마마무(Mamamoo)\n",
            "DON'T TOUCH ME  I  환불원정대\n",
            "How You Like That  I  BLACKPINK\n",
            "뻔한남자  I  이승기\n",
            "모든 날, 모든 순간 (Every day, Every Moment)  I  폴킴(Paul Kim)\n",
            "Blue & Grey  I  방탄소년단\n",
            "Square (2017)  I  백예린 (Yerin Baek)\n",
            "When We Disco (Duet with 선미)  I  박진영\n",
            "Hall&Oates  I  백예린 (Yerin Baek)\n",
            "METEOR  I  창모(CHANGMO)\n",
            "Text Me Merry Christmas (feat. Kristen Bell)  I  Straight No Chaser(스트레이트 노 체이서)\n",
            "90's Love  I  NCT U\n",
            "세상에 나쁜 개는 없다 (Feat. YDG, Zion.T) (Prod. Slom)  I  원슈타인\n",
            "밤하늘의 저 별처럼  I  헤이즈(Heize)\n",
            "밤편지  I  아이유(IU)\n",
            "늦은 밤 너의 집 앞 골목길에서  I  노을\n",
            "I'm in the Mood for Dancing  I  유주(여자친구)\n",
            "부어라 비워라 (Tricker) (Prod. GroovyRoom)  I  머쉬베놈(MUSHVENOM)\n",
            "iii (Feat. 베이식, Kid Milli & 팔로알토) (Prod. 코드 쿤스트)  I  래원 (Layone)\n",
            "사랑은 (Feat.원슈타인)  I  마미손\n",
            "놓아줘 (with 태연)  I  Crush\n",
            "밤새 (취향저격 그녀 X 카더가든)  I  카더가든\n",
            "홀로  I  이하이\n",
            "어떻게 지내 (Prod. By VAN.C)  I  오반 (OVAN)\n",
            "주저하는 연인들을 위해  I  잔나비\n",
            "마리아 (Maria)  I  화사(Hwa Sa)\n",
            "잠시  I  방탄소년단\n",
            "정 (Prod. By VAN.C)  I  빈첸\n",
            "Dancing Cartoon  I  볼빨간사춘기\n",
            "Ms. Delicate  I  백예린 (Yerin Baek)\n",
            "I’ll be your family!  I  백예린 (Yerin Baek)\n",
            "Pretty Savage  I  BLACKPINK\n",
            "살짝 설렜어 (Nonstop)  I  오마이걸(OH MY GIRL)\n",
            "작은 것들을 위한 시 (Boy With Luv) (Feat. Halsey)  I  방탄소년단\n",
            "“HOMESWEETHOME”  I  백예린 (Yerin Baek)\n"
          ],
          "name": "stdout"
        }
      ]
    },
    {
      "cell_type": "code",
      "metadata": {
        "scrolled": true,
        "colab": {
          "base_uri": "https://localhost:8080/"
        },
        "id": "epF79Ble6AU9",
        "outputId": "70484126-ffe0-4c94-f488-75f5c8d02696"
      },
      "source": [
        "#반복문을 이용하여 곡과 가수명을 song_data에 저장하기\n",
        "song_data = []\n",
        "rank = 1\n",
        "songs = soup.select('table.byChart > tbody > tr')\n",
        "for song in songs:\n",
        "    title = song.select('p.title > a')[0].text\n",
        "    singer = song.select('p.artist > a')[0].text\n",
        "    song_data.append(['Bugs', rank, title, singer])\n",
        "    rank = rank + 1\n",
        "\n",
        "print(song_data)"
      ],
      "execution_count": 16,
      "outputs": [
        {
          "output_type": "stream",
          "text": [
            "[['Bugs', 1, 'What Do I Call You', '태연 (TAEYEON)'], ['Bugs', 2, 'For You (Feat. Crush)', '이하이'], ['Bugs', 3, '불면증 (Vocal by 윤하)', '에피톤 프로젝트(Epitone Project)'], ['Bugs', 4, 'Playlist', '태연 (TAEYEON)'], ['Bugs', 5, 'VVS (Feat. JUSTHIS) (Prod. GroovyRoom)', '미란이'], ['Bugs', 6, '악역 (Feat. 이하이 & 사이먼 도미닉) (Prod. 코드 쿤스트)', '스윙스(Swings)'], ['Bugs', 7, 'Lovegame', '백예린 (Yerin Baek)'], ['Bugs', 8, 'Dynamite', '방탄소년단'], ['Bugs', 9, 'Panorama', 'IZ*ONE(아이즈원)'], ['Bugs', 10, 'To the moon', '태연 (TAEYEON)'], ['Bugs', 11, 'Achoo (Feat. pH-1, HAON) (Prod. GroovyRoom)', '미란이'], ['Bugs', 12, 'Life Goes On', '방탄소년단'], ['Bugs', 13, '내일이 오면 (Feat. 기리보이, BIG Naughty (서동현))', '릴보이(lIlBOI)'], ['Bugs', 14, 'Santa Tell Me', 'Ariana Grande(아리아나 그란데)'], ['Bugs', 15, 'All I Want for Christmas Is You', 'Mariah Carey(머라이어 캐리)'], ['Bugs', 16, '밤하늘의 별을(2020)', '경서'], ['Bugs', 17, 'Galaxy', '태연 (TAEYEON)'], ['Bugs', 18, 'Hate you', '백예린 (Yerin Baek)'], ['Bugs', 19, '들불 (Wildfire)', '태연 (TAEYEON)'], ['Bugs', 20, 'Black Mamba', 'aespa'], ['Bugs', 21, 'Lovesick Girls', 'BLACKPINK'], ['Bugs', 22, '잠이 오질 않네요', '장범준'], ['Bugs', 23, '한잔이면 지워질까', '황인욱'], ['Bugs', 24, '잘할게', '이승기'], ['Bugs', 25, '미리 메리 크리스마스 (feat. 천둥 Of MBLAQ)', '아이유(IU)'], ['Bugs', 26, 'Snowman', 'Sia(시아)'], ['Bugs', 27, '취기를 빌려 (취향저격 그녀 X 산들)', '산들'], ['Bugs', 28, '뿌리 (Feat. JUSTHIS) (Prod. GroovyRoom)', 'KHUNDI PANDA'], ['Bugs', 29, 'I CAN’T STOP ME', 'TWICE (트와이스)'], ['Bugs', 30, '고독하구만 (Feat. 수퍼비) (Prod. GroovyRoom)', '머쉬베놈(MUSHVENOM)'], ['Bugs', 31, '혼술하고 싶은 밤', '벤'], ['Bugs', 32, '사라진 모든 것들에게(with ELLE KOREA)', '코드 쿤스트'], ['Bugs', 33, '어김없이 이 거리에', '정승환'], ['Bugs', 34, 'Better', '보아 (BoA)'], ['Bugs', 35, '적외선 카메라', '원슈타인'], ['Bugs', 36, '가을밤에 든 생각', '잔나비'], ['Bugs', 37, '딩가딩가 (Dingga)', '마마무(Mamamoo)'], ['Bugs', 38, 'Savage Love (Laxed - Siren Beat) (BTS Remix)', 'Jawsh 685'], ['Bugs', 39, '나랑 같이 걸을래 (바른연애 길잡이 X 적재)', '적재'], ['Bugs', 40, 'MAGO', '여자친구(GFRIEND)'], ['Bugs', 41, '34+35', 'Ariana Grande(아리아나 그란데)'], ['Bugs', 42, '힘든 건 사랑이 아니다', '임창정'], ['Bugs', 43, '에잇(Prod.&Feat. SUGA of BTS)', '아이유(IU)'], ['Bugs', 44, '흔들리는 꽃들 속에서 네 샴푸향이 느껴진거야', '장범준'], ['Bugs', 45, 'Freak (Prod. Slom)', '릴보이(lIlBOI)'], ['Bugs', 46, '한 번에 알아본 사랑 (바른연애 길잡이 X 양요섭)', '양요섭'], ['Bugs', 47, '어떻게 이별까지 사랑하겠어, 널 사랑하는 거지', 'AKMU (악동뮤지션)'], ['Bugs', 48, '지켜줄게 (바니와 오빠들 X 노을)', '노을'], ['Bugs', 49, '크리스마스니까', '성시경'], ['Bugs', 50, '내 마음이 움찔했던 순간 (취향저격 그녀 X 규현)', '규현 (KYUHYUN)'], ['Bugs', 51, '0415', '백예린 (Yerin Baek)'], ['Bugs', 52, 'I am not your ocean anymore', '백예린 (Yerin Baek)'], ['Bugs', 53, 'You’re so lonely now, so you need me back by your side again', '백예린 (Yerin Baek)'], ['Bugs', 54, 'SO BAD', 'STAYC(스테이씨)'], ['Bugs', 55, '너도 아는', '폴킴(Paul Kim)'], ['Bugs', 56, 'Hero (Feat. JUSTHIS, Golden) (Prod. GroovyRoom)', 'KHUNDI PANDA'], ['Bugs', 57, '내 방을 여행하는 법', '방탄소년단'], ['Bugs', 58, 'Dolphin', '오마이걸(OH MY GIRL)'], ['Bugs', 59, 'Bad News Cypher vol.2 (Feat. TakeOne)', '릴보이(lIlBOI)'], ['Bugs', 60, 'HAPPENING', 'AKMU (악동뮤지션)'], ['Bugs', 61, 'Blueming', '아이유(IU)'], ['Bugs', 62, '오래된 노래', '스탠딩 에그(Standing Egg)'], ['Bugs', 63, 'Bad Boy', '청하'], ['Bugs', 64, '이제 나만 믿어요', '임영웅'], ['Bugs', 65, '마음을 드려요', '아이유(IU)'], ['Bugs', 66, 'AYA', '마마무(Mamamoo)'], ['Bugs', 67, \"DON'T TOUCH ME\", '환불원정대'], ['Bugs', 68, 'How You Like That', 'BLACKPINK'], ['Bugs', 69, '뻔한남자', '이승기'], ['Bugs', 70, '모든 날, 모든 순간 (Every day, Every Moment)', '폴킴(Paul Kim)'], ['Bugs', 71, 'Blue & Grey', '방탄소년단'], ['Bugs', 72, 'Square (2017)', '백예린 (Yerin Baek)'], ['Bugs', 73, 'When We Disco (Duet with 선미)', '박진영'], ['Bugs', 74, 'Hall&Oates', '백예린 (Yerin Baek)'], ['Bugs', 75, 'METEOR', '창모(CHANGMO)'], ['Bugs', 76, 'Text Me Merry Christmas (feat. Kristen Bell)', 'Straight No Chaser(스트레이트 노 체이서)'], ['Bugs', 77, \"90's Love\", 'NCT U'], ['Bugs', 78, '세상에 나쁜 개는 없다 (Feat. YDG, Zion.T) (Prod. Slom)', '원슈타인'], ['Bugs', 79, '밤하늘의 저 별처럼', '헤이즈(Heize)'], ['Bugs', 80, '밤편지', '아이유(IU)'], ['Bugs', 81, '늦은 밤 너의 집 앞 골목길에서', '노을'], ['Bugs', 82, \"I'm in the Mood for Dancing\", '유주(여자친구)'], ['Bugs', 83, '부어라 비워라 (Tricker) (Prod. GroovyRoom)', '머쉬베놈(MUSHVENOM)'], ['Bugs', 84, 'iii (Feat. 베이식, Kid Milli & 팔로알토) (Prod. 코드 쿤스트)', '래원 (Layone)'], ['Bugs', 85, '사랑은 (Feat.원슈타인)', '마미손'], ['Bugs', 86, '놓아줘 (with 태연)', 'Crush'], ['Bugs', 87, '밤새 (취향저격 그녀 X 카더가든)', '카더가든'], ['Bugs', 88, '홀로', '이하이'], ['Bugs', 89, '어떻게 지내 (Prod. By VAN.C)', '오반 (OVAN)'], ['Bugs', 90, '주저하는 연인들을 위해', '잔나비'], ['Bugs', 91, '마리아 (Maria)', '화사(Hwa Sa)'], ['Bugs', 92, '잠시', '방탄소년단'], ['Bugs', 93, '정 (Prod. By VAN.C)', '빈첸'], ['Bugs', 94, 'Dancing Cartoon', '볼빨간사춘기'], ['Bugs', 95, 'Ms. Delicate', '백예린 (Yerin Baek)'], ['Bugs', 96, 'I’ll be your family!', '백예린 (Yerin Baek)'], ['Bugs', 97, 'Pretty Savage', 'BLACKPINK'], ['Bugs', 98, '살짝 설렜어 (Nonstop)', '오마이걸(OH MY GIRL)'], ['Bugs', 99, '작은 것들을 위한 시 (Boy With Luv) (Feat. Halsey)', '방탄소년단'], ['Bugs', 100, '“HOMESWEETHOME”', '백예린 (Yerin Baek)']]\n"
          ],
          "name": "stdout"
        }
      ]
    },
    {
      "cell_type": "code",
      "metadata": {
        "colab": {
          "base_uri": "https://localhost:8080/",
          "height": 204
        },
        "id": "B_j65ZI66AU-",
        "outputId": "977a2362-c2d4-44c4-cc02-79e24c56610d"
      },
      "source": [
        "import pandas as pd\n",
        "columns = ['서비스', '순위', '타이틀', '가수']\n",
        "pd_data = pd.DataFrame(song_data, columns = columns)\n",
        "pd_data.head()"
      ],
      "execution_count": 17,
      "outputs": [
        {
          "output_type": "execute_result",
          "data": {
            "text/html": [
              "<div>\n",
              "<style scoped>\n",
              "    .dataframe tbody tr th:only-of-type {\n",
              "        vertical-align: middle;\n",
              "    }\n",
              "\n",
              "    .dataframe tbody tr th {\n",
              "        vertical-align: top;\n",
              "    }\n",
              "\n",
              "    .dataframe thead th {\n",
              "        text-align: right;\n",
              "    }\n",
              "</style>\n",
              "<table border=\"1\" class=\"dataframe\">\n",
              "  <thead>\n",
              "    <tr style=\"text-align: right;\">\n",
              "      <th></th>\n",
              "      <th>서비스</th>\n",
              "      <th>순위</th>\n",
              "      <th>타이틀</th>\n",
              "      <th>가수</th>\n",
              "    </tr>\n",
              "  </thead>\n",
              "  <tbody>\n",
              "    <tr>\n",
              "      <th>0</th>\n",
              "      <td>Bugs</td>\n",
              "      <td>1</td>\n",
              "      <td>What Do I Call You</td>\n",
              "      <td>태연 (TAEYEON)</td>\n",
              "    </tr>\n",
              "    <tr>\n",
              "      <th>1</th>\n",
              "      <td>Bugs</td>\n",
              "      <td>2</td>\n",
              "      <td>For You (Feat. Crush)</td>\n",
              "      <td>이하이</td>\n",
              "    </tr>\n",
              "    <tr>\n",
              "      <th>2</th>\n",
              "      <td>Bugs</td>\n",
              "      <td>3</td>\n",
              "      <td>불면증 (Vocal by 윤하)</td>\n",
              "      <td>에피톤 프로젝트(Epitone Project)</td>\n",
              "    </tr>\n",
              "    <tr>\n",
              "      <th>3</th>\n",
              "      <td>Bugs</td>\n",
              "      <td>4</td>\n",
              "      <td>Playlist</td>\n",
              "      <td>태연 (TAEYEON)</td>\n",
              "    </tr>\n",
              "    <tr>\n",
              "      <th>4</th>\n",
              "      <td>Bugs</td>\n",
              "      <td>5</td>\n",
              "      <td>VVS (Feat. JUSTHIS) (Prod. GroovyRoom)</td>\n",
              "      <td>미란이</td>\n",
              "    </tr>\n",
              "  </tbody>\n",
              "</table>\n",
              "</div>"
            ],
            "text/plain": [
              "    서비스  순위                                     타이틀                         가수\n",
              "0  Bugs   1                      What Do I Call You               태연 (TAEYEON)\n",
              "1  Bugs   2                   For You (Feat. Crush)                        이하이\n",
              "2  Bugs   3                       불면증 (Vocal by 윤하)  에피톤 프로젝트(Epitone Project)\n",
              "3  Bugs   4                                Playlist               태연 (TAEYEON)\n",
              "4  Bugs   5  VVS (Feat. JUSTHIS) (Prod. GroovyRoom)                        미란이"
            ]
          },
          "metadata": {
            "tags": []
          },
          "execution_count": 17
        }
      ]
    },
    {
      "cell_type": "code",
      "metadata": {
        "colab": {
          "base_uri": "https://localhost:8080/"
        },
        "id": "YNBdNKfw6AU-",
        "outputId": "1fb9e992-d24e-4aa6-cb86-5c2fd6bc13fb"
      },
      "source": [
        "pd_data.info()"
      ],
      "execution_count": 18,
      "outputs": [
        {
          "output_type": "stream",
          "text": [
            "<class 'pandas.core.frame.DataFrame'>\n",
            "RangeIndex: 100 entries, 0 to 99\n",
            "Data columns (total 4 columns):\n",
            " #   Column  Non-Null Count  Dtype \n",
            "---  ------  --------------  ----- \n",
            " 0   서비스     100 non-null    object\n",
            " 1   순위      100 non-null    int64 \n",
            " 2   타이틀     100 non-null    object\n",
            " 3   가수      100 non-null    object\n",
            "dtypes: int64(1), object(3)\n",
            "memory usage: 3.2+ KB\n"
          ],
          "name": "stdout"
        }
      ]
    },
    {
      "cell_type": "code",
      "metadata": {
        "id": "9DxdvTkr6AU-"
      },
      "source": [
        "#엑셀로 저장하기\n",
        "pd_data.to_excel('./bugs.xlsx',index=False)"
      ],
      "execution_count": 19,
      "outputs": []
    },
    {
      "cell_type": "markdown",
      "metadata": {
        "id": "m__rkK_L6AU_"
      },
      "source": [
        "## 지니 사이트 웹크롤링"
      ]
    },
    {
      "cell_type": "code",
      "metadata": {
        "id": "cOfpkBfT6AU_"
      },
      "source": [
        "#벅스사이트 접속하기\n",
        "\n",
        "url = 'https://www.genie.co.kr/chart/top200'\n",
        "driver.get(url)"
      ],
      "execution_count": 20,
      "outputs": []
    },
    {
      "cell_type": "code",
      "metadata": {
        "id": "e8SrtZzk6AU_"
      },
      "source": [
        "#크롤링 툴 가져오기\n",
        "from bs4 import BeautifulSoup\n",
        "html = driver.page_source\n",
        "soup = BeautifulSoup(html,'html.parser')"
      ],
      "execution_count": 21,
      "outputs": []
    },
    {
      "cell_type": "code",
      "metadata": {
        "colab": {
          "base_uri": "https://localhost:8080/"
        },
        "id": "ynFW-m636AU_",
        "outputId": "8d10b6f8-fef6-47ab-c81c-74fa734a9f95"
      },
      "source": [
        "songs = soup.select('table > tbody > tr')\n",
        "print(len(songs))"
      ],
      "execution_count": 22,
      "outputs": [
        {
          "output_type": "stream",
          "text": [
            "50\n"
          ],
          "name": "stdout"
        }
      ]
    },
    {
      "cell_type": "code",
      "metadata": {
        "colab": {
          "base_uri": "https://localhost:8080/"
        },
        "id": "mSc9MEe_6AU_",
        "outputId": "491af925-5ada-4769-c634-7faf39b1f183"
      },
      "source": [
        "song = songs[0]\n",
        "print(song)"
      ],
      "execution_count": 23,
      "outputs": [
        {
          "output_type": "stream",
          "text": [
            "<tr class=\"list\" songid=\"91613328\">\n",
            "<td class=\"check\"><input class=\"select-check\" title=\"For You (Feat. Crush)\" type=\"checkbox\"/></td>\n",
            "<td class=\"number\">1\n",
            "                                        \n",
            "                                    <span class=\"rank\">\n",
            "<span class=\"rank\"><span class=\"rank-none\"><span class=\"hide\">유지</span></span></span>\n",
            "</span>\n",
            "</td>\n",
            "<td><a class=\"cover\" href=\"#\" onclick=\"fnViewAlbumLayer('81777866');return false;\"><span class=\"mask\"></span><img alt=\"For You\" onerror=\"this.src='//image.genie.co.kr/imageg/web/common/blank_68.gif';\" src=\"//image.genie.co.kr/Y/IMAGE/IMG_ALBUM/081/777/866/81777866_1608095940216_1_140x140.JPG/dims/resize/Q_80,0\"/></a></td>\n",
            "<td class=\"link\"><a class=\"btn-basic btn-info\" href=\"#\" onclick=\"fnViewSongInfo('91613328');return false;\">곡 제목 정보 페이지</a></td>\n",
            "<td class=\"info\">\n",
            "<a class=\"title ellipsis\" href=\"#\" onclick=\"fnPlaySong('91613328','1');return false;\" title=\"재생\">\n",
            "                                        \n",
            "                                            \n",
            "                                        \n",
            "                                        \n",
            "                                        \n",
            "                                        \n",
            "                                            \n",
            "                                                For You (Feat. Crush)</a>\n",
            "<a class=\"artist ellipsis\" href=\"#\" onclick=\"fnViewArtist('80158970');return false;\">이하이</a>\n",
            "<div class=\"toggle-button-box\">\n",
            "<button class=\"btn artist-etc\" onclick=\"fnRelationArtistList('91613328');\" type=\"button\">외</button>\n",
            "<ul class=\"list\" id=\"RelationArtist_91613328\"></ul>\n",
            "</div>\n",
            "<i class=\"bar\">|</i>\n",
            "<a class=\"albumtitle ellipsis\" href=\"#\" onclick=\"fnViewAlbumLayer('81777866');return false;\">For You</a>\n",
            "</td>\n",
            "<td class=\"btns\"><a class=\"btn-basic btn-listen\" href=\"#\" onclick=\"fnPlaySong('91613328;' ,'1'); return false;\" title=\"재생\">듣기</a></td>\n",
            "<td class=\"btns\"><a class=\"btn-basic btn-add\" href=\"#\" onclick=\"fnPlaySong('91613328;' ,'3'); return false;\" title=\"추가\">재생목록에 추가</a></td>\n",
            "<td class=\"btns\"><button class=\"btn-basic btn-album\" id=\"add_my_album_91613328\" onclick=\"fnAddMyAlbumForm('#add_my_album_91613328' , '91613328' ,10, 10);return false;\" songid=\"91613328\" type=\"button\">플레이리스트에 담기</button></td>\n",
            "<td class=\"btns\"><a class=\"btn-basic btn-down\" href=\"#\" onclick=\"fnDownSong('91613328');return false;\" title=\"다운\">다운로드</a></td>\n",
            "<td class=\"btns\">\n",
            "<div class=\"toggle-button-box lyr-mv\" id=\"list-mv_91613328\">\n",
            "<a alt=\"For You (Feat. Crush)\" class=\"btn btn-basic btn-mv disabled\" href=\"#\" onclick=\"return false;\" style=\"pointer-events: none;\" title=\"재생 불가\">뮤직비디오 보기</a>\n",
            "</div>\n",
            "</td>\n",
            "<td class=\"more\">\n",
            "<div class=\"toggle-button-box\">\n",
            "<button class=\"btn btn-basic btn-more\" type=\"button\">더보기</button>\n",
            "<ul class=\"list\">\n",
            "<li><a class=\"item\" href=\"#\" onclick=\"shareDo('91613328');return false;\" title=\"공유\">공유하기/음악나누기</a></li>\n",
            "<li><a class=\"item\" href=\"#\" onclick=\"fnGiftSong('91613328');return false;\" title=\"선물\">선물하기</a></li>\n",
            "</ul>\n",
            "</div>\n",
            "</td>\n",
            "</tr>\n"
          ],
          "name": "stdout"
        }
      ]
    },
    {
      "cell_type": "code",
      "metadata": {
        "colab": {
          "base_uri": "https://localhost:8080/",
          "height": 35
        },
        "id": "GG4dt0ar6AVA",
        "outputId": "a17da16d-15bc-43d6-f284-573e38469943"
      },
      "source": [
        "title = song.select('a.title')[0].text.strip()\n",
        "title"
      ],
      "execution_count": 24,
      "outputs": [
        {
          "output_type": "execute_result",
          "data": {
            "application/vnd.google.colaboratory.intrinsic+json": {
              "type": "string"
            },
            "text/plain": [
              "'For You (Feat. Crush)'"
            ]
          },
          "metadata": {
            "tags": []
          },
          "execution_count": 24
        }
      ]
    },
    {
      "cell_type": "code",
      "metadata": {
        "colab": {
          "base_uri": "https://localhost:8080/",
          "height": 35
        },
        "id": "fySYPNN46AVA",
        "outputId": "4ce88888-2c90-4fb8-b10e-074dd68c1f0e"
      },
      "source": [
        "singer = song.select('a.artist')[0].text.strip()\n",
        "singer"
      ],
      "execution_count": 25,
      "outputs": [
        {
          "output_type": "execute_result",
          "data": {
            "application/vnd.google.colaboratory.intrinsic+json": {
              "type": "string"
            },
            "text/plain": [
              "'이하이'"
            ]
          },
          "metadata": {
            "tags": []
          },
          "execution_count": 25
        }
      ]
    },
    {
      "cell_type": "code",
      "metadata": {
        "colab": {
          "base_uri": "https://localhost:8080/"
        },
        "id": "majZHcHA6AVB",
        "outputId": "771942a8-1181-401b-a46b-7d973c0a1c28"
      },
      "source": [
        "songs = soup.select('table.list-wrap > tbody > tr')\n",
        "for song in songs:\n",
        "    title = song.select('a.title')[0].text.strip()\n",
        "    singer = song.select('a.artist')[0].text.strip()\n",
        "    print(title,\" I \",singer)"
      ],
      "execution_count": 26,
      "outputs": [
        {
          "output_type": "stream",
          "text": [
            "For You (Feat. Crush)  I  이하이\n",
            "What Do I Call You  I  태연 (TAEYEON)\n",
            "VVS (Feat. JUSTHIS) (Prod. by GroovyRoom)  I  미란이 (Mirani) & 먼치맨 & Khundi Panda & 머쉬베놈 (MUSHVENOM)\n",
            "한잔이면 지워질까  I  황인욱\n",
            "악역 (Feat. 이하이 & 사이먼 도미닉) (Prod. by 코드 쿤스트)  I  스윙스 (Swings)\n",
            "내일이 오면 (Feat. 기리보이 & BIG Naughty (서동현))  I  릴보이 (lIlBOI)\n",
            "Dynamite  I  방탄소년단\n",
            "밤하늘의 별을 (2020)  I  경서\n",
            "Hate you  I  백예린 (Yerin Baek)\n",
            "Achoo (Feat. pH-1 & HAON) (Prod. by GroovyRoom)  I  미란이 (Mirani)\n",
            "Life Goes On  I  방탄소년단\n",
            "잠이 오질 않네요  I  장범준\n",
            "고독하구만 (Feat. 수퍼비) (Prod. by GroovyRoom)  I  머쉬베놈 (MUSHVENOM)\n",
            "Santa Tell Me  I  Ariana Grande\n",
            "혼술하고 싶은 밤  I  벤\n",
            "All I Want for Christmas Is You  I  Mariah Carey\n",
            "뿌리 (Feat. JUSTHIS) (Prod. by GroovyRoom)  I  Khundi Panda\n",
            "이제 나만 믿어요  I  임영웅\n",
            "잘할게  I  이승기\n",
            "Savage Love (Laxed - Siren Beat) (BTS Remix)  I  Jawsh 685 & Jason Derulo & 방탄소년단\n",
            "Lovesick Girls  I  BLACKPINK\n",
            "힘든 건 사랑이 아니다  I  임창정\n",
            "취기를 빌려 (취향저격 그녀 X 산들)  I  산들\n",
            "HERO  I  임영웅\n",
            "Panorama  I  IZ*ONE (아이즈원)\n",
            "Freak (Prod. by Slom)  I  릴보이 (lIlBOI) & 원슈타인 & Chillin Homie & 스카이민혁 (Skyminhyuk)\n",
            "Playlist  I  태연 (TAEYEON)\n",
            "정 (Prod. by VAN.C)  I  빈첸 & 오반 (OVAN) & 임수\n",
            "Snowman  I  Sia\n",
            "어김없이 이 거리에  I  정승환\n",
            "오래된 노래  I  Standing Egg (스탠딩 에그)\n",
            "미리 메리 크리스마스 (Feat. 천둥 of MBLAQ)  I  아이유 (IU)\n",
            "뻔한남자  I  이승기\n",
            "내 마음이 움찔했던 순간 (취향저격 그녀 X 규현)  I  규현 (KYUHYUN)\n",
            "작은 것들을 위한 시 (Boy With Luv) (Feat. Halsey)  I  방탄소년단\n",
            "1＋1  I  GOT7 (갓세븐)\n",
            "가을밤에 든 생각  I  잔나비\n",
            "적외선 카메라  I  원슈타인\n",
            "내 방을 여행하는 법  I  방탄소년단\n",
            "I CAN'T STOP ME  I  TWICE (트와이스)\n",
            "딩가딩가 (Dingga)  I  마마무(Mamamoo)\n",
            "Hero (Feat. JUSTHIS & Golden) (Prod. by GroovyRoom)  I  Khundi Panda\n",
            "어느 60대 노부부이야기  I  임영웅\n",
            "오래된 노래  I  임영웅\n",
            "부어라 비워라 (Tricker) (Prod. by GroovyRoom)  I  머쉬베놈 (MUSHVENOM)\n",
            "에잇 (Prod. & Feat. SUGA of BTS)  I  아이유 (IU)\n",
            "흔들리는 꽃들 속에서 네 샴푸향이 느껴진거야  I  장범준\n",
            "Blue & Grey  I  방탄소년단\n",
            "만개 (Prod. 신지후)  I  김호중\n",
            "I'm in the Mood for Dancing  I  유주 (여자친구)\n"
          ],
          "name": "stdout"
        }
      ]
    },
    {
      "cell_type": "code",
      "metadata": {
        "colab": {
          "base_uri": "https://localhost:8080/"
        },
        "id": "aT8qTtIH6AVC",
        "outputId": "9a594637-2699-4768-e948-7d9b0921a59e"
      },
      "source": [
        "#반복문을 이용하여 곡과 가수명을 song_data에 저장하기\n",
        "song_data = []\n",
        "rank = 1\n",
        "songs = soup.select('table.list-wrap > tbody > tr')\n",
        "for song in songs:\n",
        "    title = song.select('a.title')[0].text.strip()\n",
        "    singer = song.select('a.artist')[0].text.strip()\n",
        "    song_data.append(['Genie', rank, title, singer])\n",
        "    rank = rank + 1\n",
        "\n",
        "print(song_data)"
      ],
      "execution_count": 27,
      "outputs": [
        {
          "output_type": "stream",
          "text": [
            "[['Genie', 1, 'For You (Feat. Crush)', '이하이'], ['Genie', 2, 'What Do I Call You', '태연 (TAEYEON)'], ['Genie', 3, 'VVS (Feat. JUSTHIS) (Prod. by GroovyRoom)', '미란이 (Mirani) & 먼치맨 & Khundi Panda & 머쉬베놈 (MUSHVENOM)'], ['Genie', 4, '한잔이면 지워질까', '황인욱'], ['Genie', 5, '악역 (Feat. 이하이 & 사이먼 도미닉) (Prod. by 코드 쿤스트)', '스윙스 (Swings)'], ['Genie', 6, '내일이 오면 (Feat. 기리보이 & BIG Naughty (서동현))', '릴보이 (lIlBOI)'], ['Genie', 7, 'Dynamite', '방탄소년단'], ['Genie', 8, '밤하늘의 별을 (2020)', '경서'], ['Genie', 9, 'Hate you', '백예린 (Yerin Baek)'], ['Genie', 10, 'Achoo (Feat. pH-1 & HAON) (Prod. by GroovyRoom)', '미란이 (Mirani)'], ['Genie', 11, 'Life Goes On', '방탄소년단'], ['Genie', 12, '잠이 오질 않네요', '장범준'], ['Genie', 13, '고독하구만 (Feat. 수퍼비) (Prod. by GroovyRoom)', '머쉬베놈 (MUSHVENOM)'], ['Genie', 14, 'Santa Tell Me', 'Ariana Grande'], ['Genie', 15, '혼술하고 싶은 밤', '벤'], ['Genie', 16, 'All I Want for Christmas Is You', 'Mariah Carey'], ['Genie', 17, '뿌리 (Feat. JUSTHIS) (Prod. by GroovyRoom)', 'Khundi Panda'], ['Genie', 18, '이제 나만 믿어요', '임영웅'], ['Genie', 19, '잘할게', '이승기'], ['Genie', 20, 'Savage Love (Laxed - Siren Beat) (BTS Remix)', 'Jawsh 685 & Jason Derulo & 방탄소년단'], ['Genie', 21, 'Lovesick Girls', 'BLACKPINK'], ['Genie', 22, '힘든 건 사랑이 아니다', '임창정'], ['Genie', 23, '취기를 빌려 (취향저격 그녀 X 산들)', '산들'], ['Genie', 24, 'HERO', '임영웅'], ['Genie', 25, 'Panorama', 'IZ*ONE (아이즈원)'], ['Genie', 26, 'Freak (Prod. by Slom)', '릴보이 (lIlBOI) & 원슈타인 & Chillin Homie & 스카이민혁 (Skyminhyuk)'], ['Genie', 27, 'Playlist', '태연 (TAEYEON)'], ['Genie', 28, '정 (Prod. by VAN.C)', '빈첸 & 오반 (OVAN) & 임수'], ['Genie', 29, 'Snowman', 'Sia'], ['Genie', 30, '어김없이 이 거리에', '정승환'], ['Genie', 31, '오래된 노래', 'Standing Egg (스탠딩 에그)'], ['Genie', 32, '미리 메리 크리스마스 (Feat. 천둥 of MBLAQ)', '아이유 (IU)'], ['Genie', 33, '뻔한남자', '이승기'], ['Genie', 34, '내 마음이 움찔했던 순간 (취향저격 그녀 X 규현)', '규현 (KYUHYUN)'], ['Genie', 35, '작은 것들을 위한 시 (Boy With Luv) (Feat. Halsey)', '방탄소년단'], ['Genie', 36, '1＋1', 'GOT7 (갓세븐)'], ['Genie', 37, '가을밤에 든 생각', '잔나비'], ['Genie', 38, '적외선 카메라', '원슈타인'], ['Genie', 39, '내 방을 여행하는 법', '방탄소년단'], ['Genie', 40, \"I CAN'T STOP ME\", 'TWICE (트와이스)'], ['Genie', 41, '딩가딩가 (Dingga)', '마마무(Mamamoo)'], ['Genie', 42, 'Hero (Feat. JUSTHIS & Golden) (Prod. by GroovyRoom)', 'Khundi Panda'], ['Genie', 43, '어느 60대 노부부이야기', '임영웅'], ['Genie', 44, '오래된 노래', '임영웅'], ['Genie', 45, '부어라 비워라 (Tricker) (Prod. by GroovyRoom)', '머쉬베놈 (MUSHVENOM)'], ['Genie', 46, '에잇 (Prod. & Feat. SUGA of BTS)', '아이유 (IU)'], ['Genie', 47, '흔들리는 꽃들 속에서 네 샴푸향이 느껴진거야', '장범준'], ['Genie', 48, 'Blue & Grey', '방탄소년단'], ['Genie', 49, '만개 (Prod. 신지후)', '김호중'], ['Genie', 50, \"I'm in the Mood for Dancing\", '유주 (여자친구)']]\n"
          ],
          "name": "stdout"
        }
      ]
    },
    {
      "cell_type": "code",
      "metadata": {
        "colab": {
          "base_uri": "https://localhost:8080/",
          "height": 204
        },
        "id": "QLoOorq56AVC",
        "outputId": "2efc60f5-8d83-4466-d7a6-5237a3d4b008"
      },
      "source": [
        "import pandas as pd\n",
        "columns = ['서비스', '순위', '타이틀', '가수']\n",
        "pd_data = pd.DataFrame(song_data, columns = columns)\n",
        "pd_data.head()"
      ],
      "execution_count": 28,
      "outputs": [
        {
          "output_type": "execute_result",
          "data": {
            "text/html": [
              "<div>\n",
              "<style scoped>\n",
              "    .dataframe tbody tr th:only-of-type {\n",
              "        vertical-align: middle;\n",
              "    }\n",
              "\n",
              "    .dataframe tbody tr th {\n",
              "        vertical-align: top;\n",
              "    }\n",
              "\n",
              "    .dataframe thead th {\n",
              "        text-align: right;\n",
              "    }\n",
              "</style>\n",
              "<table border=\"1\" class=\"dataframe\">\n",
              "  <thead>\n",
              "    <tr style=\"text-align: right;\">\n",
              "      <th></th>\n",
              "      <th>서비스</th>\n",
              "      <th>순위</th>\n",
              "      <th>타이틀</th>\n",
              "      <th>가수</th>\n",
              "    </tr>\n",
              "  </thead>\n",
              "  <tbody>\n",
              "    <tr>\n",
              "      <th>0</th>\n",
              "      <td>Genie</td>\n",
              "      <td>1</td>\n",
              "      <td>For You (Feat. Crush)</td>\n",
              "      <td>이하이</td>\n",
              "    </tr>\n",
              "    <tr>\n",
              "      <th>1</th>\n",
              "      <td>Genie</td>\n",
              "      <td>2</td>\n",
              "      <td>What Do I Call You</td>\n",
              "      <td>태연 (TAEYEON)</td>\n",
              "    </tr>\n",
              "    <tr>\n",
              "      <th>2</th>\n",
              "      <td>Genie</td>\n",
              "      <td>3</td>\n",
              "      <td>VVS (Feat. JUSTHIS) (Prod. by GroovyRoom)</td>\n",
              "      <td>미란이 (Mirani) &amp; 먼치맨 &amp; Khundi Panda &amp; 머쉬베놈 (MUSH...</td>\n",
              "    </tr>\n",
              "    <tr>\n",
              "      <th>3</th>\n",
              "      <td>Genie</td>\n",
              "      <td>4</td>\n",
              "      <td>한잔이면 지워질까</td>\n",
              "      <td>황인욱</td>\n",
              "    </tr>\n",
              "    <tr>\n",
              "      <th>4</th>\n",
              "      <td>Genie</td>\n",
              "      <td>5</td>\n",
              "      <td>악역 (Feat. 이하이 &amp; 사이먼 도미닉) (Prod. by 코드 쿤스트)</td>\n",
              "      <td>스윙스 (Swings)</td>\n",
              "    </tr>\n",
              "  </tbody>\n",
              "</table>\n",
              "</div>"
            ],
            "text/plain": [
              "     서비스  ...                                                 가수\n",
              "0  Genie  ...                                                이하이\n",
              "1  Genie  ...                                       태연 (TAEYEON)\n",
              "2  Genie  ...  미란이 (Mirani) & 먼치맨 & Khundi Panda & 머쉬베놈 (MUSH...\n",
              "3  Genie  ...                                                황인욱\n",
              "4  Genie  ...                                       스윙스 (Swings)\n",
              "\n",
              "[5 rows x 4 columns]"
            ]
          },
          "metadata": {
            "tags": []
          },
          "execution_count": 28
        }
      ]
    },
    {
      "cell_type": "code",
      "metadata": {
        "colab": {
          "base_uri": "https://localhost:8080/",
          "height": 204
        },
        "id": "ZTvHrUqM6AVC",
        "outputId": "e217ff26-470c-437c-92ab-a016e4e807aa"
      },
      "source": [
        "pd_data.tail()"
      ],
      "execution_count": 29,
      "outputs": [
        {
          "output_type": "execute_result",
          "data": {
            "text/html": [
              "<div>\n",
              "<style scoped>\n",
              "    .dataframe tbody tr th:only-of-type {\n",
              "        vertical-align: middle;\n",
              "    }\n",
              "\n",
              "    .dataframe tbody tr th {\n",
              "        vertical-align: top;\n",
              "    }\n",
              "\n",
              "    .dataframe thead th {\n",
              "        text-align: right;\n",
              "    }\n",
              "</style>\n",
              "<table border=\"1\" class=\"dataframe\">\n",
              "  <thead>\n",
              "    <tr style=\"text-align: right;\">\n",
              "      <th></th>\n",
              "      <th>서비스</th>\n",
              "      <th>순위</th>\n",
              "      <th>타이틀</th>\n",
              "      <th>가수</th>\n",
              "    </tr>\n",
              "  </thead>\n",
              "  <tbody>\n",
              "    <tr>\n",
              "      <th>45</th>\n",
              "      <td>Genie</td>\n",
              "      <td>46</td>\n",
              "      <td>에잇 (Prod. &amp; Feat. SUGA of BTS)</td>\n",
              "      <td>아이유 (IU)</td>\n",
              "    </tr>\n",
              "    <tr>\n",
              "      <th>46</th>\n",
              "      <td>Genie</td>\n",
              "      <td>47</td>\n",
              "      <td>흔들리는 꽃들 속에서 네 샴푸향이 느껴진거야</td>\n",
              "      <td>장범준</td>\n",
              "    </tr>\n",
              "    <tr>\n",
              "      <th>47</th>\n",
              "      <td>Genie</td>\n",
              "      <td>48</td>\n",
              "      <td>Blue &amp; Grey</td>\n",
              "      <td>방탄소년단</td>\n",
              "    </tr>\n",
              "    <tr>\n",
              "      <th>48</th>\n",
              "      <td>Genie</td>\n",
              "      <td>49</td>\n",
              "      <td>만개 (Prod. 신지후)</td>\n",
              "      <td>김호중</td>\n",
              "    </tr>\n",
              "    <tr>\n",
              "      <th>49</th>\n",
              "      <td>Genie</td>\n",
              "      <td>50</td>\n",
              "      <td>I'm in the Mood for Dancing</td>\n",
              "      <td>유주 (여자친구)</td>\n",
              "    </tr>\n",
              "  </tbody>\n",
              "</table>\n",
              "</div>"
            ],
            "text/plain": [
              "      서비스  순위                             타이틀         가수\n",
              "45  Genie  46  에잇 (Prod. & Feat. SUGA of BTS)   아이유 (IU)\n",
              "46  Genie  47        흔들리는 꽃들 속에서 네 샴푸향이 느껴진거야        장범준\n",
              "47  Genie  48                     Blue & Grey      방탄소년단\n",
              "48  Genie  49                  만개 (Prod. 신지후)        김호중\n",
              "49  Genie  50     I'm in the Mood for Dancing  유주 (여자친구)"
            ]
          },
          "metadata": {
            "tags": []
          },
          "execution_count": 29
        }
      ]
    },
    {
      "cell_type": "code",
      "metadata": {
        "id": "Ny1Ki9846AVD"
      },
      "source": [
        "#엑셀로 저장하기\n",
        "pd_data.to_excel('./genie.xlsx',index=False)"
      ],
      "execution_count": 30,
      "outputs": []
    },
    {
      "cell_type": "code",
      "metadata": {
        "colab": {
          "base_uri": "https://localhost:8080/"
        },
        "id": "XHE8Q2Tv6AVD",
        "outputId": "21bb3713-33b5-4a47-b70e-b6db477e968b"
      },
      "source": [
        "## 멜론, 벅스, 지니 크롤링 엑셀 파일 통합하기\n",
        "import pandas as pd\n",
        "excel_names = ['./melon.xlsx', './bugs.xlsx','./genie.xlsx'] \n",
        "excel_names"
      ],
      "execution_count": 31,
      "outputs": [
        {
          "output_type": "execute_result",
          "data": {
            "text/plain": [
              "['./melon.xlsx', './bugs.xlsx', './genie.xlsx']"
            ]
          },
          "metadata": {
            "tags": []
          },
          "execution_count": 31
        }
      ]
    },
    {
      "cell_type": "code",
      "metadata": {
        "id": "O890w80O6AVD"
      },
      "source": [
        "# 판다스 데이터 프레임에 넣기\n",
        "appended_data = pd.DataFrame()\n",
        "for name in excel_names:\n",
        "    pd_data = pd.read_excel(name)\n",
        "    appended_data=appended_data.append(pd_data)"
      ],
      "execution_count": 32,
      "outputs": []
    },
    {
      "cell_type": "code",
      "metadata": {
        "colab": {
          "base_uri": "https://localhost:8080/"
        },
        "id": "v9YFg8Qk6AVD",
        "outputId": "dcecd1af-0a3c-4bc9-c80a-e69916c2a0b6"
      },
      "source": [
        "appended_data.info()"
      ],
      "execution_count": 33,
      "outputs": [
        {
          "output_type": "stream",
          "text": [
            "<class 'pandas.core.frame.DataFrame'>\n",
            "Int64Index: 250 entries, 0 to 49\n",
            "Data columns (total 4 columns):\n",
            " #   Column  Non-Null Count  Dtype \n",
            "---  ------  --------------  ----- \n",
            " 0   서비스     250 non-null    object\n",
            " 1   순위      250 non-null    int64 \n",
            " 2   타이틀     250 non-null    object\n",
            " 3   가수      250 non-null    object\n",
            "dtypes: int64(1), object(3)\n",
            "memory usage: 9.8+ KB\n"
          ],
          "name": "stdout"
        }
      ]
    },
    {
      "cell_type": "code",
      "metadata": {
        "id": "LY-HO_Tj6AVE"
      },
      "source": [
        "appended_data.to_excel('./total.xlsx',index=False)"
      ],
      "execution_count": 34,
      "outputs": []
    },
    {
      "cell_type": "code",
      "metadata": {
        "id": "RiprUjYe6AVE"
      },
      "source": [
        ""
      ],
      "execution_count": 34,
      "outputs": []
    }
  ]
}