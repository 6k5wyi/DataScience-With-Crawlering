{
  "nbformat": 4,
  "nbformat_minor": 0,
  "metadata": {
    "colab": {
      "name": "인스타그램_크롤링.ipynb",
      "provenance": [],
      "collapsed_sections": [],
      "include_colab_link": true
    },
    "kernelspec": {
      "display_name": "Python 3",
      "language": "python",
      "name": "python3"
    },
    "language_info": {
      "codemirror_mode": {
        "name": "ipython",
        "version": 3
      },
      "file_extension": ".py",
      "mimetype": "text/x-python",
      "name": "python",
      "nbconvert_exporter": "python",
      "pygments_lexer": "ipython3",
      "version": "3.7.6"
    }
  },
  "cells": [
    {
      "cell_type": "markdown",
      "metadata": {
        "id": "view-in-github",
        "colab_type": "text"
      },
      "source": [
        "<a href=\"https://colab.research.google.com/github/6k5wyi/DataScience-With-Crawlering/blob/main/%EC%9D%B8%EC%8A%A4%ED%83%80%EA%B7%B8%EB%9E%A8_%ED%81%AC%EB%A1%A4%EB%A7%81.ipynb\" target=\"_parent\"><img src=\"https://colab.research.google.com/assets/colab-badge.svg\" alt=\"Open In Colab\"/></a>"
      ]
    },
    {
      "cell_type": "markdown",
      "metadata": {
        "id": "ywyc0RSiig0G"
      },
      "source": [
        "# 인스타그램 크롤링"
      ]
    },
    {
      "cell_type": "markdown",
      "metadata": {
        "id": "cVqiBemVrSmr"
      },
      "source": [
        "## 사전작업"
      ]
    },
    {
      "cell_type": "markdown",
      "metadata": {
        "id": "hILRany-lUry"
      },
      "source": [
        "### Colab에서 실행시 실행시켜야 할 부분"
      ]
    },
    {
      "cell_type": "code",
      "metadata": {
        "colab": {
          "base_uri": "https://localhost:8080/"
        },
        "id": "n_ySEkU9kTZk",
        "outputId": "89906b8b-cd4c-4ff6-a496-d4dea55949f4"
      },
      "source": [
        "!pip install selenium \n",
        "!apt-get update # apt install을 정확히 실행하기 위해 ubuntu 업데이트 \n",
        "!apt install chromium-chromedriver \n",
        "!cp /usr/lib/chromium-browser/chromedriver /usr/bin \n",
        "import sys \n",
        "sys.path.insert(0,'/usr/lib/chromium-browser/chromedriver') \n",
        "from selenium import webdriver \n",
        "chrome_options = webdriver.ChromeOptions() \n",
        "chrome_options.add_argument('--headless')\n",
        "chrome_options.add_argument('--no-sandbox') \n",
        "chrome_options.add_argument('--disable-dev-shm-usage') \n",
        "driver = webdriver.Chrome('chromedriver',chrome_options=chrome_options)"
      ],
      "execution_count": 1,
      "outputs": [
        {
          "output_type": "stream",
          "text": [
            "Collecting selenium\n",
            "\u001b[?25l  Downloading https://files.pythonhosted.org/packages/80/d6/4294f0b4bce4de0abf13e17190289f9d0613b0a44e5dd6a7f5ca98459853/selenium-3.141.0-py2.py3-none-any.whl (904kB)\n",
            "\r\u001b[K     |▍                               | 10kB 15.9MB/s eta 0:00:01\r\u001b[K     |▊                               | 20kB 20.6MB/s eta 0:00:01\r\u001b[K     |█                               | 30kB 11.4MB/s eta 0:00:01\r\u001b[K     |█▌                              | 40kB 8.0MB/s eta 0:00:01\r\u001b[K     |█▉                              | 51kB 4.4MB/s eta 0:00:01\r\u001b[K     |██▏                             | 61kB 4.3MB/s eta 0:00:01\r\u001b[K     |██▌                             | 71kB 4.9MB/s eta 0:00:01\r\u001b[K     |███                             | 81kB 5.1MB/s eta 0:00:01\r\u001b[K     |███▎                            | 92kB 5.4MB/s eta 0:00:01\r\u001b[K     |███▋                            | 102kB 5.8MB/s eta 0:00:01\r\u001b[K     |████                            | 112kB 5.8MB/s eta 0:00:01\r\u001b[K     |████▍                           | 122kB 5.8MB/s eta 0:00:01\r\u001b[K     |████▊                           | 133kB 5.8MB/s eta 0:00:01\r\u001b[K     |█████                           | 143kB 5.8MB/s eta 0:00:01\r\u001b[K     |█████▍                          | 153kB 5.8MB/s eta 0:00:01\r\u001b[K     |█████▉                          | 163kB 5.8MB/s eta 0:00:01\r\u001b[K     |██████▏                         | 174kB 5.8MB/s eta 0:00:01\r\u001b[K     |██████▌                         | 184kB 5.8MB/s eta 0:00:01\r\u001b[K     |██████▉                         | 194kB 5.8MB/s eta 0:00:01\r\u001b[K     |███████▎                        | 204kB 5.8MB/s eta 0:00:01\r\u001b[K     |███████▋                        | 215kB 5.8MB/s eta 0:00:01\r\u001b[K     |████████                        | 225kB 5.8MB/s eta 0:00:01\r\u001b[K     |████████▎                       | 235kB 5.8MB/s eta 0:00:01\r\u001b[K     |████████▊                       | 245kB 5.8MB/s eta 0:00:01\r\u001b[K     |█████████                       | 256kB 5.8MB/s eta 0:00:01\r\u001b[K     |█████████▍                      | 266kB 5.8MB/s eta 0:00:01\r\u001b[K     |█████████▉                      | 276kB 5.8MB/s eta 0:00:01\r\u001b[K     |██████████▏                     | 286kB 5.8MB/s eta 0:00:01\r\u001b[K     |██████████▌                     | 296kB 5.8MB/s eta 0:00:01\r\u001b[K     |██████████▉                     | 307kB 5.8MB/s eta 0:00:01\r\u001b[K     |███████████▎                    | 317kB 5.8MB/s eta 0:00:01\r\u001b[K     |███████████▋                    | 327kB 5.8MB/s eta 0:00:01\r\u001b[K     |████████████                    | 337kB 5.8MB/s eta 0:00:01\r\u001b[K     |████████████▎                   | 348kB 5.8MB/s eta 0:00:01\r\u001b[K     |████████████▊                   | 358kB 5.8MB/s eta 0:00:01\r\u001b[K     |█████████████                   | 368kB 5.8MB/s eta 0:00:01\r\u001b[K     |█████████████▍                  | 378kB 5.8MB/s eta 0:00:01\r\u001b[K     |█████████████▊                  | 389kB 5.8MB/s eta 0:00:01\r\u001b[K     |██████████████▏                 | 399kB 5.8MB/s eta 0:00:01\r\u001b[K     |██████████████▌                 | 409kB 5.8MB/s eta 0:00:01\r\u001b[K     |██████████████▉                 | 419kB 5.8MB/s eta 0:00:01\r\u001b[K     |███████████████▏                | 430kB 5.8MB/s eta 0:00:01\r\u001b[K     |███████████████▋                | 440kB 5.8MB/s eta 0:00:01\r\u001b[K     |████████████████                | 450kB 5.8MB/s eta 0:00:01\r\u001b[K     |████████████████▎               | 460kB 5.8MB/s eta 0:00:01\r\u001b[K     |████████████████▋               | 471kB 5.8MB/s eta 0:00:01\r\u001b[K     |█████████████████               | 481kB 5.8MB/s eta 0:00:01\r\u001b[K     |█████████████████▍              | 491kB 5.8MB/s eta 0:00:01\r\u001b[K     |█████████████████▊              | 501kB 5.8MB/s eta 0:00:01\r\u001b[K     |██████████████████▏             | 512kB 5.8MB/s eta 0:00:01\r\u001b[K     |██████████████████▌             | 522kB 5.8MB/s eta 0:00:01\r\u001b[K     |██████████████████▉             | 532kB 5.8MB/s eta 0:00:01\r\u001b[K     |███████████████████▏            | 542kB 5.8MB/s eta 0:00:01\r\u001b[K     |███████████████████▋            | 552kB 5.8MB/s eta 0:00:01\r\u001b[K     |████████████████████            | 563kB 5.8MB/s eta 0:00:01\r\u001b[K     |████████████████████▎           | 573kB 5.8MB/s eta 0:00:01\r\u001b[K     |████████████████████▋           | 583kB 5.8MB/s eta 0:00:01\r\u001b[K     |█████████████████████           | 593kB 5.8MB/s eta 0:00:01\r\u001b[K     |█████████████████████▍          | 604kB 5.8MB/s eta 0:00:01\r\u001b[K     |█████████████████████▊          | 614kB 5.8MB/s eta 0:00:01\r\u001b[K     |██████████████████████          | 624kB 5.8MB/s eta 0:00:01\r\u001b[K     |██████████████████████▌         | 634kB 5.8MB/s eta 0:00:01\r\u001b[K     |██████████████████████▉         | 645kB 5.8MB/s eta 0:00:01\r\u001b[K     |███████████████████████▏        | 655kB 5.8MB/s eta 0:00:01\r\u001b[K     |███████████████████████▌        | 665kB 5.8MB/s eta 0:00:01\r\u001b[K     |████████████████████████        | 675kB 5.8MB/s eta 0:00:01\r\u001b[K     |████████████████████████▎       | 686kB 5.8MB/s eta 0:00:01\r\u001b[K     |████████████████████████▋       | 696kB 5.8MB/s eta 0:00:01\r\u001b[K     |█████████████████████████       | 706kB 5.8MB/s eta 0:00:01\r\u001b[K     |█████████████████████████▍      | 716kB 5.8MB/s eta 0:00:01\r\u001b[K     |█████████████████████████▊      | 727kB 5.8MB/s eta 0:00:01\r\u001b[K     |██████████████████████████      | 737kB 5.8MB/s eta 0:00:01\r\u001b[K     |██████████████████████████▍     | 747kB 5.8MB/s eta 0:00:01\r\u001b[K     |██████████████████████████▉     | 757kB 5.8MB/s eta 0:00:01\r\u001b[K     |███████████████████████████▏    | 768kB 5.8MB/s eta 0:00:01\r\u001b[K     |███████████████████████████▌    | 778kB 5.8MB/s eta 0:00:01\r\u001b[K     |████████████████████████████    | 788kB 5.8MB/s eta 0:00:01\r\u001b[K     |████████████████████████████▎   | 798kB 5.8MB/s eta 0:00:01\r\u001b[K     |████████████████████████████▋   | 808kB 5.8MB/s eta 0:00:01\r\u001b[K     |█████████████████████████████   | 819kB 5.8MB/s eta 0:00:01\r\u001b[K     |█████████████████████████████▍  | 829kB 5.8MB/s eta 0:00:01\r\u001b[K     |█████████████████████████████▊  | 839kB 5.8MB/s eta 0:00:01\r\u001b[K     |██████████████████████████████  | 849kB 5.8MB/s eta 0:00:01\r\u001b[K     |██████████████████████████████▍ | 860kB 5.8MB/s eta 0:00:01\r\u001b[K     |██████████████████████████████▉ | 870kB 5.8MB/s eta 0:00:01\r\u001b[K     |███████████████████████████████▏| 880kB 5.8MB/s eta 0:00:01\r\u001b[K     |███████████████████████████████▌| 890kB 5.8MB/s eta 0:00:01\r\u001b[K     |███████████████████████████████▉| 901kB 5.8MB/s eta 0:00:01\r\u001b[K     |████████████████████████████████| 911kB 5.8MB/s \n",
            "\u001b[?25hRequirement already satisfied: urllib3 in /usr/local/lib/python3.6/dist-packages (from selenium) (1.24.3)\n",
            "Installing collected packages: selenium\n",
            "Successfully installed selenium-3.141.0\n",
            "Ign:1 https://developer.download.nvidia.com/compute/cuda/repos/ubuntu1804/x86_64  InRelease\n",
            "Get:2 http://security.ubuntu.com/ubuntu bionic-security InRelease [88.7 kB]\n",
            "Get:3 https://cloud.r-project.org/bin/linux/ubuntu bionic-cran40/ InRelease [3,626 B]\n",
            "Ign:4 https://developer.download.nvidia.com/compute/machine-learning/repos/ubuntu1804/x86_64  InRelease\n",
            "Get:5 https://developer.download.nvidia.com/compute/cuda/repos/ubuntu1804/x86_64  Release [697 B]\n",
            "Get:6 http://ppa.launchpad.net/c2d4u.team/c2d4u4.0+/ubuntu bionic InRelease [15.9 kB]\n",
            "Hit:7 http://archive.ubuntu.com/ubuntu bionic InRelease\n",
            "Hit:8 https://developer.download.nvidia.com/compute/machine-learning/repos/ubuntu1804/x86_64  Release\n",
            "Get:9 https://developer.download.nvidia.com/compute/cuda/repos/ubuntu1804/x86_64  Release.gpg [836 B]\n",
            "Get:10 http://archive.ubuntu.com/ubuntu bionic-updates InRelease [88.7 kB]\n",
            "Get:11 http://ppa.launchpad.net/graphics-drivers/ppa/ubuntu bionic InRelease [21.3 kB]\n",
            "Get:12 https://cloud.r-project.org/bin/linux/ubuntu bionic-cran40/ Packages [40.7 kB]\n",
            "Get:13 http://archive.ubuntu.com/ubuntu bionic-backports InRelease [74.6 kB]\n",
            "Get:14 http://security.ubuntu.com/ubuntu bionic-security/main amd64 Packages [1,816 kB]\n",
            "Get:15 http://security.ubuntu.com/ubuntu bionic-security/multiverse amd64 Packages [15.3 kB]\n",
            "Get:16 http://security.ubuntu.com/ubuntu bionic-security/universe amd64 Packages [1,372 kB]\n",
            "Get:17 http://security.ubuntu.com/ubuntu bionic-security/restricted amd64 Packages [237 kB]\n",
            "Ign:19 https://developer.download.nvidia.com/compute/cuda/repos/ubuntu1804/x86_64  Packages\n",
            "Get:19 https://developer.download.nvidia.com/compute/cuda/repos/ubuntu1804/x86_64  Packages [506 kB]\n",
            "Get:20 http://ppa.launchpad.net/c2d4u.team/c2d4u4.0+/ubuntu bionic/main Sources [1,699 kB]\n",
            "Get:21 http://archive.ubuntu.com/ubuntu bionic-updates/universe amd64 Packages [2,136 kB]\n",
            "Get:22 http://archive.ubuntu.com/ubuntu bionic-updates/multiverse amd64 Packages [53.8 kB]\n",
            "Get:23 http://archive.ubuntu.com/ubuntu bionic-updates/restricted amd64 Packages [266 kB]\n",
            "Get:24 http://archive.ubuntu.com/ubuntu bionic-updates/main amd64 Packages [2,244 kB]\n",
            "Get:25 http://ppa.launchpad.net/c2d4u.team/c2d4u4.0+/ubuntu bionic/main amd64 Packages [870 kB]\n",
            "Get:26 http://ppa.launchpad.net/graphics-drivers/ppa/ubuntu bionic/main amd64 Packages [46.5 kB]\n",
            "Fetched 11.6 MB in 3s (3,459 kB/s)\n",
            "Reading package lists... Done\n",
            "Reading package lists... Done\n",
            "Building dependency tree       \n",
            "Reading state information... Done\n",
            "The following additional packages will be installed:\n",
            "  chromium-browser chromium-browser-l10n chromium-codecs-ffmpeg-extra\n",
            "Suggested packages:\n",
            "  webaccounts-chromium-extension unity-chromium-extension adobe-flashplugin\n",
            "The following NEW packages will be installed:\n",
            "  chromium-browser chromium-browser-l10n chromium-chromedriver\n",
            "  chromium-codecs-ffmpeg-extra\n",
            "0 upgraded, 4 newly installed, 0 to remove and 59 not upgraded.\n",
            "Need to get 81.0 MB of archives.\n",
            "After this operation, 273 MB of additional disk space will be used.\n",
            "Get:1 http://archive.ubuntu.com/ubuntu bionic-updates/universe amd64 chromium-codecs-ffmpeg-extra amd64 87.0.4280.66-0ubuntu0.18.04.1 [1,122 kB]\n",
            "Get:2 http://archive.ubuntu.com/ubuntu bionic-updates/universe amd64 chromium-browser amd64 87.0.4280.66-0ubuntu0.18.04.1 [71.7 MB]\n",
            "Get:3 http://archive.ubuntu.com/ubuntu bionic-updates/universe amd64 chromium-browser-l10n all 87.0.4280.66-0ubuntu0.18.04.1 [3,716 kB]\n",
            "Get:4 http://archive.ubuntu.com/ubuntu bionic-updates/universe amd64 chromium-chromedriver amd64 87.0.4280.66-0ubuntu0.18.04.1 [4,488 kB]\n",
            "Fetched 81.0 MB in 3s (24.3 MB/s)\n",
            "Selecting previously unselected package chromium-codecs-ffmpeg-extra.\n",
            "(Reading database ... 144865 files and directories currently installed.)\n",
            "Preparing to unpack .../chromium-codecs-ffmpeg-extra_87.0.4280.66-0ubuntu0.18.04.1_amd64.deb ...\n",
            "Unpacking chromium-codecs-ffmpeg-extra (87.0.4280.66-0ubuntu0.18.04.1) ...\n",
            "Selecting previously unselected package chromium-browser.\n",
            "Preparing to unpack .../chromium-browser_87.0.4280.66-0ubuntu0.18.04.1_amd64.deb ...\n",
            "Unpacking chromium-browser (87.0.4280.66-0ubuntu0.18.04.1) ...\n",
            "Selecting previously unselected package chromium-browser-l10n.\n",
            "Preparing to unpack .../chromium-browser-l10n_87.0.4280.66-0ubuntu0.18.04.1_all.deb ...\n",
            "Unpacking chromium-browser-l10n (87.0.4280.66-0ubuntu0.18.04.1) ...\n",
            "Selecting previously unselected package chromium-chromedriver.\n",
            "Preparing to unpack .../chromium-chromedriver_87.0.4280.66-0ubuntu0.18.04.1_amd64.deb ...\n",
            "Unpacking chromium-chromedriver (87.0.4280.66-0ubuntu0.18.04.1) ...\n",
            "Setting up chromium-codecs-ffmpeg-extra (87.0.4280.66-0ubuntu0.18.04.1) ...\n",
            "Setting up chromium-browser (87.0.4280.66-0ubuntu0.18.04.1) ...\n",
            "update-alternatives: using /usr/bin/chromium-browser to provide /usr/bin/x-www-browser (x-www-browser) in auto mode\n",
            "update-alternatives: using /usr/bin/chromium-browser to provide /usr/bin/gnome-www-browser (gnome-www-browser) in auto mode\n",
            "Setting up chromium-chromedriver (87.0.4280.66-0ubuntu0.18.04.1) ...\n",
            "Setting up chromium-browser-l10n (87.0.4280.66-0ubuntu0.18.04.1) ...\n",
            "Processing triggers for hicolor-icon-theme (0.17-2) ...\n",
            "Processing triggers for mime-support (3.60ubuntu1) ...\n",
            "Processing triggers for man-db (2.8.3-2ubuntu0.1) ...\n",
            "cp: '/usr/lib/chromium-browser/chromedriver' and '/usr/bin/chromedriver' are the same file\n"
          ],
          "name": "stdout"
        },
        {
          "output_type": "stream",
          "text": [
            "/usr/local/lib/python3.6/dist-packages/ipykernel_launcher.py:12: DeprecationWarning: use options instead of chrome_options\n",
            "  if sys.path[0] == '':\n"
          ],
          "name": "stderr"
        }
      ]
    },
    {
      "cell_type": "markdown",
      "metadata": {
        "id": "L8FAr2XdmHYz"
      },
      "source": [
        "### local에서 실행시 실행시켜야할 부분"
      ]
    },
    {
      "cell_type": "code",
      "metadata": {
        "id": "44ubbbGWj_D9"
      },
      "source": [
        "# from selenium import webdriver\n",
        "# installedwebdriver = 'c:/Temp/chromedriver.exe' #웹드라이버 설치 경로 설정\n",
        "# driver = webdriver.Chrome(installedwebdriver) "
      ],
      "execution_count": 2,
      "outputs": []
    },
    {
      "cell_type": "markdown",
      "metadata": {
        "id": "OEeI43AqjOEe"
      },
      "source": [
        "## 인스타그램 접속하기"
      ]
    },
    {
      "cell_type": "code",
      "metadata": {
        "id": "j6GE9pS0jRwJ"
      },
      "source": [
        "import time\n",
        "driver.get('https://www.instagram.com')\n",
        "time.sleep(2)"
      ],
      "execution_count": 3,
      "outputs": []
    },
    {
      "cell_type": "markdown",
      "metadata": {
        "id": "Bekv_ExPi36V"
      },
      "source": [
        "## 인스타그램 로그인 하기"
      ]
    },
    {
      "cell_type": "code",
      "metadata": {
        "colab": {
          "base_uri": "https://localhost:8080/",
          "height": 244
        },
        "id": "SvGk_b_TibFK",
        "outputId": "b6fb66c1-91cb-4941-c737-c2153510937d"
      },
      "source": [
        "import time\n",
        "\n",
        "email = '인스타아이디''\n",
        "input_id = driver.find_elements_by_css_selector('input._2hvTZ.pexuQ.zyHYP')[0]\n",
        "input_id.clear()\n",
        "input_id.send_keys(email)\n",
        "\n",
        "password = '인스타비번'\n",
        "input_pw = driver.find_elements_by_css_selector('input._2hvTZ.pexuQ.zyHYP')[1]\n",
        "input_pw.clear()\n",
        "input_pw.send_keys(password)\n",
        "input_pw.submit()\n",
        "time.sleep(3)"
      ],
      "execution_count": 4,
      "outputs": [
        {
          "output_type": "error",
          "ename": "IndexError",
          "evalue": "ignored",
          "traceback": [
            "\u001b[0;31m---------------------------------------------------------------------------\u001b[0m",
            "\u001b[0;31mIndexError\u001b[0m                                Traceback (most recent call last)",
            "\u001b[0;32m<ipython-input-4-1ad6cc1cc170>\u001b[0m in \u001b[0;36m<module>\u001b[0;34m()\u001b[0m\n\u001b[1;32m      2\u001b[0m \u001b[0;34m\u001b[0m\u001b[0m\n\u001b[1;32m      3\u001b[0m \u001b[0memail\u001b[0m \u001b[0;34m=\u001b[0m \u001b[0;34m'soonchan83'\u001b[0m\u001b[0;34m\u001b[0m\u001b[0;34m\u001b[0m\u001b[0m\n\u001b[0;32m----> 4\u001b[0;31m \u001b[0minput_id\u001b[0m \u001b[0;34m=\u001b[0m \u001b[0mdriver\u001b[0m\u001b[0;34m.\u001b[0m\u001b[0mfind_elements_by_css_selector\u001b[0m\u001b[0;34m(\u001b[0m\u001b[0;34m'input._2hvTZ.pexuQ.zyHYP'\u001b[0m\u001b[0;34m)\u001b[0m\u001b[0;34m[\u001b[0m\u001b[0;36m0\u001b[0m\u001b[0;34m]\u001b[0m\u001b[0;34m\u001b[0m\u001b[0;34m\u001b[0m\u001b[0m\n\u001b[0m\u001b[1;32m      5\u001b[0m \u001b[0minput_id\u001b[0m\u001b[0;34m.\u001b[0m\u001b[0mclear\u001b[0m\u001b[0;34m(\u001b[0m\u001b[0;34m)\u001b[0m\u001b[0;34m\u001b[0m\u001b[0;34m\u001b[0m\u001b[0m\n\u001b[1;32m      6\u001b[0m \u001b[0minput_id\u001b[0m\u001b[0;34m.\u001b[0m\u001b[0msend_keys\u001b[0m\u001b[0;34m(\u001b[0m\u001b[0memail\u001b[0m\u001b[0;34m)\u001b[0m\u001b[0;34m\u001b[0m\u001b[0;34m\u001b[0m\u001b[0m\n",
            "\u001b[0;31mIndexError\u001b[0m: list index out of range"
          ]
        }
      ]
    },
    {
      "cell_type": "markdown",
      "metadata": {
        "id": "pOnioQSc7BnD"
      },
      "source": [
        "## 인스타그램 검색 결과를 URL로 만들어 주는 함수"
      ]
    },
    {
      "cell_type": "code",
      "metadata": {
        "id": "IsH8O2FClTdo"
      },
      "source": [
        "def insta_searching(word):\n",
        "    url = \"http://www.instagram.com/explore/tags/\" + word\n",
        "    return url"
      ],
      "execution_count": null,
      "outputs": []
    },
    {
      "cell_type": "markdown",
      "metadata": {
        "id": "Tc_hRSo97BnE"
      },
      "source": [
        "## 검색 결과 페이지 접속"
      ]
    },
    {
      "cell_type": "code",
      "metadata": {
        "id": "5D1pibzv7BnE"
      },
      "source": [
        "word = '제주도맛집'\n",
        "url = insta_searching(word)\n",
        "driver.get(url)"
      ],
      "execution_count": null,
      "outputs": []
    },
    {
      "cell_type": "markdown",
      "metadata": {
        "id": "6Q9nI93i7BnE"
      },
      "source": [
        "## HTML 에서 첫번째 게시글 찾아서 클릭하기"
      ]
    },
    {
      "cell_type": "code",
      "metadata": {
        "id": "Njpsekc87BnE"
      },
      "source": [
        "def select_first(driver):\n",
        "    first = driver.find_element_by_css_selector(\"div._9AhH0\")\n",
        "    first.click()\n",
        "    time.sleep(3)\n",
        "\n",
        "select_first(driver)"
      ],
      "execution_count": null,
      "outputs": []
    },
    {
      "cell_type": "markdown",
      "metadata": {
        "id": "qCeQ-WiA7BnF"
      },
      "source": [
        "## 게시글 정보 가져오기"
      ]
    },
    {
      "cell_type": "code",
      "metadata": {
        "id": "5v3Kk3-27BnF"
      },
      "source": [
        "import re\n",
        "from bs4 import BeautifulSoup\n",
        "import unicodedata\n",
        "\n",
        "def get_content(driver):\n",
        "    html = driver.page_source\n",
        "    soup = BeautifulSoup(html, 'lxml')\n",
        "    \n",
        "    try:\n",
        "        content = soup.select('div.C4VMK > span')[0].text\n",
        "        content = unicodedata.normalize('NFC',content)\n",
        "    except:\n",
        "        content = ''\n",
        "        \n",
        "    tags = re.findall(r'#[^\\s#,\\\\]+',content) #본문 내용에서 해시태그 가져오기 (정규식 활용)\n",
        "    date = soup.select('time._1o9PC.Nzb55')[0]['datetime'][:10] #작성일자 정보가져오기\n",
        "    \n",
        "    try : # 좋아요 수 가져오기\n",
        "        like = soup.select('div.Nm9Fw > button')[0].text[4:-1]\n",
        "    except : \n",
        "        like = 0\n",
        "        \n",
        "    try : # 위치정보 가져오기\n",
        "        place = soup.select('div.M30cS')[0].text[0]\n",
        "        place = unicodedata.normalize('NFC',content)\n",
        "    except : \n",
        "        place = ''\n",
        "    \n",
        "    data = [content,date,like,place,tags] # 수집된 정보 저장\n",
        "    return data\n",
        "    \n",
        "get_content(driver)    "
      ],
      "execution_count": null,
      "outputs": []
    },
    {
      "cell_type": "markdown",
      "metadata": {
        "id": "A3Avxpen7BnF"
      },
      "source": [
        "## 다음 게시글 열기"
      ]
    },
    {
      "cell_type": "code",
      "metadata": {
        "id": "Rw8sWPj87BnG"
      },
      "source": [
        "def move_next(driver):\n",
        "    right = driver.find_element_by_css_selector('a.coreSpriteRightPaginationArrow')\n",
        "    right.click()\n",
        "    time.sleep(3)\n",
        "    \n",
        "move_next(driver)"
      ],
      "execution_count": null,
      "outputs": []
    },
    {
      "cell_type": "markdown",
      "metadata": {
        "id": "wC2__hXd7BnG"
      },
      "source": [
        "## 여러 게시글 정보 수집하기"
      ]
    },
    {
      "cell_type": "code",
      "metadata": {
        "id": "fN0DAJ-47BnG"
      },
      "source": [
        "from selenium import webdriver\n",
        "from bs4 import BeautifulSoup\n",
        "import time\n",
        "import re\n",
        "\n",
        "driver = webdriver.Chrome('c:/Temp/chromedriver.exe') \n",
        "\n",
        "driver.get('https://www.instargram.com')\n",
        "time.sleep(2)\n",
        "\n",
        "\n",
        "email = '인스타아이디' \n",
        "input_id = driver.find_elements_by_css_selector('input._2hvTZ.pexuQ.zyHYP')[0]\n",
        "input_id.clear()\n",
        "input_id.send_keys(email)\n",
        "\n",
        "password = '인스타비번' \n",
        "input_pw = driver.find_elements_by_css_selector('input._2hvTZ.pexuQ.zyHYP')[1]\n",
        "input_pw.clear()\n",
        "input_pw.send_keys(password)\n",
        "input_pw.submit()"
      ],
      "execution_count": null,
      "outputs": []
    },
    {
      "cell_type": "code",
      "metadata": {
        "id": "nVJtOFnn7BnG"
      },
      "source": [
        "word = \"제주도맛집\"   \n",
        "url = insta_searching(word)\n",
        "\n",
        "\n",
        "driver.get(url)\n",
        "time.sleep(3)\n",
        "\n",
        "\n",
        "select_first(driver)\n",
        "\n",
        "\n",
        "results = [ ] # 비어있는 변수(results)만들기\n",
        "\n",
        "\n",
        "# 여러 게시물 수집하기\n",
        "target = 500      # 크롤링할 게시글 수\n",
        "for i in range(target):\n",
        "    # 게시글 수집에 오류 발생시(네트워크 문제 등의 이유로)  2초 대기 후, 다음 게시글로 넘어가도록 try, except 구문 활용\n",
        "    try:\n",
        "        data = get_content(driver)    # 게시글 정보 가져오기\n",
        "        results.append(data)\n",
        "        move_next(driver)\n",
        "    except:\n",
        "        time.sleep(2)\n",
        "        move_next(driver)\n",
        "    \n",
        "\n",
        "print(results[:2])"
      ],
      "execution_count": null,
      "outputs": []
    },
    {
      "cell_type": "markdown",
      "metadata": {
        "id": "S9VrCI8Z7BnH"
      },
      "source": [
        "## 수집 데이터 저장하기"
      ]
    },
    {
      "cell_type": "code",
      "metadata": {
        "id": "6ix-w5o-7BnH"
      },
      "source": [
        "import pandas as pd\n",
        "\n",
        "results_df = pd.DataFrame(results)\n",
        "results_df.columns = ['content','data','like','place','tags']\n",
        "# results_df.to_excel('./insta_crawling_jejudoMatJip.xlsx', index=False)\n",
        "results_df.to_excel('./Soonchan.xlsx', index=False)"
      ],
      "execution_count": null,
      "outputs": []
    },
    {
      "cell_type": "markdown",
      "metadata": {
        "id": "HB_oFne97BnH"
      },
      "source": [
        "## 중복 데이터 제거"
      ]
    },
    {
      "cell_type": "code",
      "metadata": {
        "id": "hjKP-hSW7BnH"
      },
      "source": [
        "results_df.drop_duplicates(subset=['content'], inplace = True)\n",
        "results_df.to_excel('./no_jungbok_insta_crawling_jejudoMatJip.xlsx', index=False)"
      ],
      "execution_count": null,
      "outputs": []
    },
    {
      "cell_type": "code",
      "metadata": {
        "id": "PmffaHuV7BnH"
      },
      "source": [
        ""
      ],
      "execution_count": null,
      "outputs": []
    }
  ]
}