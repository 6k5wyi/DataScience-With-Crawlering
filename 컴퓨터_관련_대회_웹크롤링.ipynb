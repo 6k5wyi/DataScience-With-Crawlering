{
  "nbformat": 4,
  "nbformat_minor": 0,
  "metadata": {
    "kernelspec": {
      "display_name": "Python 3",
      "language": "python",
      "name": "python3"
    },
    "language_info": {
      "codemirror_mode": {
        "name": "ipython",
        "version": 3
      },
      "file_extension": ".py",
      "mimetype": "text/x-python",
      "name": "python",
      "nbconvert_exporter": "python",
      "pygments_lexer": "ipython3",
      "version": "3.7.6"
    },
    "colab": {
      "name": "컴퓨터 관련 대회 웹크롤링.ipynb",
      "provenance": [],
      "collapsed_sections": [],
      "include_colab_link": true
    }
  },
  "cells": [
    {
      "cell_type": "markdown",
      "metadata": {
        "id": "view-in-github",
        "colab_type": "text"
      },
      "source": [
        "<a href=\"https://colab.research.google.com/github/6k5wyi/DataScience-With-Crawlering/blob/main/%EC%BB%B4%ED%93%A8%ED%84%B0_%EA%B4%80%EB%A0%A8_%EB%8C%80%ED%9A%8C_%EC%9B%B9%ED%81%AC%EB%A1%A4%EB%A7%81.ipynb\" target=\"_parent\"><img src=\"https://colab.research.google.com/assets/colab-badge.svg\" alt=\"Open In Colab\"/></a>"
      ]
    },
    {
      "cell_type": "markdown",
      "metadata": {
        "id": "PRsRKHDQj_D4"
      },
      "source": [
        "# 컴퓨터 괸련 대회 웹크롤링"
      ]
    },
    {
      "cell_type": "markdown",
      "metadata": {
        "id": "hILRany-lUry"
      },
      "source": [
        "## Colab에서 실행시 실행시켜야 할 부분"
      ]
    },
    {
      "cell_type": "code",
      "metadata": {
        "colab": {
          "base_uri": "https://localhost:8080/"
        },
        "id": "n_ySEkU9kTZk",
        "outputId": "2e0aa510-c788-46b5-b3f7-4dfa81b1b999"
      },
      "source": [
        "!pip install selenium \n",
        "!apt-get update # apt install을 정확히 실행하기 위해 ubuntu 업데이트 \n",
        "!apt install chromium-chromedriver \n",
        "!cp /usr/lib/chromium-browser/chromedriver /usr/bin \n",
        "import sys \n",
        "sys.path.insert(0,'/usr/lib/chromium-browser/chromedriver') \n",
        "from selenium import webdriver \n",
        "chrome_options = webdriver.ChromeOptions() \n",
        "chrome_options.add_argument('--headless')\n",
        "chrome_options.add_argument('--no-sandbox') \n",
        "chrome_options.add_argument('--disable-dev-shm-usage') \n",
        "wd = webdriver.Chrome('chromedriver',chrome_options=chrome_options)"
      ],
      "execution_count": 37,
      "outputs": [
        {
          "output_type": "stream",
          "text": [
            "Requirement already satisfied: selenium in /usr/local/lib/python3.7/dist-packages (3.141.0)\n",
            "Requirement already satisfied: urllib3 in /usr/local/lib/python3.7/dist-packages (from selenium) (1.24.3)\n",
            "Hit:1 https://cloud.r-project.org/bin/linux/ubuntu bionic-cran40/ InRelease\n",
            "Get:2 http://security.ubuntu.com/ubuntu bionic-security InRelease [88.7 kB]\n",
            "Ign:3 https://developer.download.nvidia.com/compute/cuda/repos/ubuntu1804/x86_64  InRelease\n",
            "Hit:4 http://ppa.launchpad.net/c2d4u.team/c2d4u4.0+/ubuntu bionic InRelease\n",
            "Ign:5 https://developer.download.nvidia.com/compute/machine-learning/repos/ubuntu1804/x86_64  InRelease\n",
            "Hit:6 https://developer.download.nvidia.com/compute/cuda/repos/ubuntu1804/x86_64  Release\n",
            "Hit:7 https://developer.download.nvidia.com/compute/machine-learning/repos/ubuntu1804/x86_64  Release\n",
            "Hit:8 http://archive.ubuntu.com/ubuntu bionic InRelease\n",
            "Hit:9 http://ppa.launchpad.net/cran/libgit2/ubuntu bionic InRelease\n",
            "Hit:10 http://archive.ubuntu.com/ubuntu bionic-updates InRelease\n",
            "Hit:11 http://archive.ubuntu.com/ubuntu bionic-backports InRelease\n",
            "Hit:12 http://ppa.launchpad.net/deadsnakes/ppa/ubuntu bionic InRelease\n",
            "Hit:13 http://ppa.launchpad.net/graphics-drivers/ppa/ubuntu bionic InRelease\n",
            "Fetched 88.7 kB in 2s (41.2 kB/s)\n",
            "Reading package lists... Done\n",
            "Reading package lists... Done\n",
            "Building dependency tree       \n",
            "Reading state information... Done\n",
            "chromium-chromedriver is already the newest version (90.0.4430.93-0ubuntu0.18.04.1).\n",
            "The following package was automatically installed and is no longer required:\n",
            "  libnvidia-common-460\n",
            "Use 'apt autoremove' to remove it.\n",
            "0 upgraded, 0 newly installed, 0 to remove and 72 not upgraded.\n",
            "cp: '/usr/lib/chromium-browser/chromedriver' and '/usr/bin/chromedriver' are the same file\n"
          ],
          "name": "stdout"
        },
        {
          "output_type": "stream",
          "text": [
            "/usr/local/lib/python3.7/dist-packages/ipykernel_launcher.py:12: DeprecationWarning: use options instead of chrome_options\n",
            "  if sys.path[0] == '':\n"
          ],
          "name": "stderr"
        }
      ]
    },
    {
      "cell_type": "markdown",
      "metadata": {
        "id": "8Ifciq-HmXEb"
      },
      "source": [
        "## 본격적인 웹크롤링 시작"
      ]
    },
    {
      "cell_type": "code",
      "metadata": {
        "id": "FawzYp0tj_D9",
        "colab": {
          "base_uri": "https://localhost:8080/"
        },
        "outputId": "5b43a8e2-b7bf-4343-aa27-88483a1f0698"
      },
      "source": [
        "#웹페이지 접속\n",
        "from bs4 import BeautifulSoup\n",
        "\n",
        "ends = int(input(\"몇번까지 있나요? : \"))\n",
        "tagtxt = []\n",
        "\n",
        "for i in range(1,ends+1):\n",
        "  url = 'https://www.contestkorea.com/sub/list.php?displayrow=12&int_gbn=1&Txt_sGn=1&Txt_key=all&Txt_word=&Txt_bcode=030210001&Txt_code1%5B0%5D=26&Txt_code1%5B1%5D=29&Txt_aarea=&Txt_area%5B0%5D=97&Txt_area%5B1%5D=75&Txt_sortkey=a.int_sort&Txt_sortword=desc&Txt_host=&Txt_tipyn=&Txt_actcode=&page='+str(i)\n",
        "  wd.get(url)\n",
        "  html = wd.page_source\n",
        "  soup = BeautifulSoup(html, 'html.parser')\n",
        "  tags = soup.select('span.txt') \n",
        "  for tag in tags:\n",
        "    tagtxt.append(tag.text)\n",
        "\n"
      ],
      "execution_count": 63,
      "outputs": [
        {
          "output_type": "stream",
          "text": [
            "몇번까지 있나요? : 11\n"
          ],
          "name": "stdout"
        }
      ]
    },
    {
      "cell_type": "code",
      "metadata": {
        "id": "LuRa0wc-j_D-",
        "colab": {
          "base_uri": "https://localhost:8080/"
        },
        "outputId": "14e6954f-ac06-4417-d77f-bf4b111a3108"
      },
      "source": [
        "tagtxt"
      ],
      "execution_count": 64,
      "outputs": [
        {
          "output_type": "execute_result",
          "data": {
            "text/plain": [
              "['MechClick x AutoCAD 유저 공모전! 어디까지 써봤니?',\n",
              " '제2회 스마트도시 주민 아이디어 공모전',\n",
              " '제23회 전국학생통계활용대회',\n",
              " '4차산업혁명위원회, 4차산업혁명과 내 삶 속 데이터 영상 공모전',\n",
              " '대구 메이커 페스타 마인크래프트 스토리 영상 공모전',\n",
              " '온라인 메이커 영상 공모전',\n",
              " '2021 빅데이터 분석 및 아이디어 공모전',\n",
              " '포스코ICT 2021 AI 챌린지 (청소년 AI 창의경진대회)',\n",
              " '2021 전자정부표준프레임워크 컨트리뷰션 참가자 모집 ',\n",
              " '제7회 한글 창의·산업 아이디어 공모전',\n",
              " '[한국데이터산업진흥원] 2021 DATA-STARS(데이터 활용 사업화 지원) 모집',\n",
              " '2021 창의아이디어 발명디자인 경진대회',\n",
              " '[행정안전부] 환경 온라인 해커톤 참가자 모집 (기간연장)',\n",
              " '사회보장정보와 공공민간 빅데이터를 활용한 국민행복 서비스 발굴 창업경진대회',\n",
              " '제11회 e-ICON 세계대회',\n",
              " '2021 글로벌 인디 게임 제작 경연대회',\n",
              " '2021년도 대구 발명아이디어 콘테스트 ',\n",
              " '바른ICT연구소 집콕ICT챌린지',\n",
              " '제20회 대한민국 청소년 발명 아이디어 경진대회 ',\n",
              " '2021 지식재산 정보 활용 창업 경진대회',\n",
              " '2021년도 한전KDN 대국민 혁신 아이디어 공모',\n",
              " '제3회 교육 공공데이터 활용대회',\n",
              " '2021 전주시 빅데이터 분석 공모전',\n",
              " '2021 스마일게이트 인디게임 창작 공모전',\n",
              " '[브리온/스타트업엑스] XYZ Startup Challenge Program 1기 모집',\n",
              " '(주)율인터내셔널 청년 START UP IDEA 공모전',\n",
              " '제 2회 ICT 장애인 보조공학 기기 공모전&개발사업',\n",
              " '2021 Microsoft Azure 온라인 해커톤',\n",
              " '지오플릭 작품 공모전',\n",
              " '이지태스크 홈페이지(반응형) 디자인 공모전',\n",
              " '세종시 주택 시장 특성분석 ',\n",
              " '제28회 대한민국 ImpaCT-ech 대상',\n",
              " '제1회 아이딜레이저 레이저 작품 공모전',\n",
              " '[한국수자원공사] 대국민 혁신서비스 아이디어 공모전',\n",
              " '2021 ITS 혁신기술 공모',\n",
              " '2021 추적 영상 인식 알고리즘 개발 경진대회',\n",
              " '신경계질환 빅데이터 활용 AI 경진대회',\n",
              " '하남시 스마트시티 아이디어 공모전',\n",
              " '청년 일자리 1,000개의 꿈 아이디어 공모전',\n",
              " '해양수산 빅데이터 활용 혁신 아이디어 공모전',\n",
              " '2021 써모피셔 과학 크리에이터 UCC 콘테스트',\n",
              " '[LG X DACON] 시스템 품질 변화로 인한 사용자 불편 예지 AI 경진대회  ',\n",
              " '[공지요]공부는 지원받고하자! 요즘것들에서',\n",
              " '혁신적인 ICT 제품·서비스 발굴을 위한 아이디어 공모전',\n",
              " '제3기 대원불교 학술 · 콘텐츠 공모',\n",
              " '코로나19 가족간 감염 방지를 위한 광진구 아이디어뱅크 특별공모',\n",
              " '인공지능 학습용 데이터 활용 아이디어 공모전',\n",
              " '스마트산림기술 활용 우수사례 공모전',\n",
              " '2021 대한민국 학생 창의력 올림피아드',\n",
              " '제1회 홈런찬스 론칭 기념 이벤트 \"상상이 현실이 되는 홈런찬스\"',\n",
              " '2020 국토도시 데이터 분석과제 2차',\n",
              " '2020 대한민국 과학기술대전 <겨울밤 과학산책>',\n",
              " '국회 입법활동 빅데이터 시각화 경진대회',\n",
              " '태양광 발전량 예측 AI 경진대회',\n",
              " '2020년 보건의료 데이터 활용사례·아이디어 공모전',\n",
              " '제18회 순천향대 정보보호 페스티벌',\n",
              " 'YGPA 공공데이터 활용 비즈니스 아이디어 공모전',\n",
              " '드론영상 작물수분스트레스지수 탐지 알고리즘 경진대회',\n",
              " '시각정보 기반 질의응답 알고리즘 경진대회',\n",
              " '수리·수질 예측을 위한 알고리즘 경진대회',\n",
              " '제1회 K-EDU 인공지능 창작 FEST [2020 AIOT Online 방구석 챌린지]',\n",
              " '제4회 정부혁신제안 끝장개발대회(해커톤)',\n",
              " '2020 제주콘텐츠코리아랩 콘텐츠 피칭매칭',\n",
              " '게임 기획 & 게임 프로그래밍 공모전',\n",
              " '2020 AI학습용 한국인 두피데이터 온라인 아이디어 해커톤 대회',\n",
              " '2020 메이커스 달란트 경진대회',\n",
              " '해양 침적 쓰레기 이미지 데이터 해커톤 참가자 추가모집(~11/30)',\n",
              " '인공지능을 활용한 비즈니스 창작 해커톤 참가자 추가모집(~11/30)',\n",
              " '작물 질병 해충 AI 공개데이터 기반 인공지능 해커톤 참가자 추가모집(~11/30)',\n",
              " '숲길 연결망 공공데이터 활용 아이디어 공모전',\n",
              " '2020년도 체육종합 데이터 활용 경진대회',\n",
              " '해상교량 주변 유휴공간 활용 아이디어 공모전',\n",
              " '경북대와 함께하는 소프트웨어 사고력 페스티벌(아이디어 공모전)',\n",
              " '제1회 농산물 수급 예측모형 경진대회',\n",
              " '국민공유형 기술평가시스템(KPAS, KFIT) 활용 우수사례 공모',\n",
              " '제7회 전국 ICT융합 공모전',\n",
              " \"2020 시민 도시계획 아이디어 공모전 '빅데이터를 통해 바꾸는 서울'\",\n",
              " '제3회 KB 국민은행 소프트웨어 경진대회',\n",
              " 'HUAWEI KOREA ICT Challenge 2020 (한국화웨이 ICT 챌린지 2020)',\n",
              " '제3회 KETI 모비우스 2.0 IoT 서비스 개발자 대회',\n",
              " '2019 국제로봇올림피아드 대회',\n",
              " '2019 삼성전자 주니어 SW 창작대회',\n",
              " '제6회 해양수산 공공데이터 활용 경진대회',\n",
              " '2019 주니어닥터 및 엑스사이언스 체험수기 공모전',\n",
              " '2019년도 대국민 ICT 아이디어/R&D 기획 공모',\n",
              " '2019 국제 청소년 환경 미디어 콘테스트',\n",
              " 'SW 아이디어 콘서트및 코드챌린지',\n",
              " '2018 환경 기상 빅데이터 경진대회',\n",
              " 'Hack the KISA',\n",
              " '2018 EDAILY CODING CHALLENGE',\n",
              " '공공 빅데이터 우수사례 경진대회',\n",
              " '제15회 해킹방어대회(HDCON)',\n",
              " '제4회 무한상상 생활발명품 경진대회',\n",
              " '국민은행 소프트웨어 경진대회',\n",
              " '2018 SW 교육 페스티벌 디지털 과거 Code+',\n",
              " '2018 서을시 빅데이터 캠퍼스 공모전',\n",
              " 'WSCW 2018 스마트시티 해커톤',\n",
              " '제5회 대한민국 SW융합 해커톤 대회',\n",
              " '한국 메이커&코딩 경진대회',\n",
              " '제2회 통일준비를 위한 코딩대회',\n",
              " '제12회 공개소프트웨어 개발자대회',\n",
              " '남양주 해커톤 대회',\n",
              " '대한민국 세계여성발명대회',\n",
              " '제1회 DGB 금융그룹  플랫폼및 핀테크 경진대회',\n",
              " '2018 제3회 공공 빅데이터 분석 공모전',\n",
              " '2018 서울시 빅데이터캠퍼스 공모전',\n",
              " '제40회 전국학생과학발명품 경진대회',\n",
              " '부산 ICT융합 해커톤 대회',\n",
              " '2018년 금융정보보호 및 금융 빅데이터 공모전',\n",
              " '2018년 제11회 전국 창업발명 경진대회',\n",
              " '2018 KP 지능형 물류 해커톤',\n",
              " '골드버그 대회',\n",
              " '2018 국토교통 빅데이터 해커톤',\n",
              " '2018년 제1회 KO-WORLD 해킹방어 대회',\n",
              " 'T&B code chanllenge',\n",
              " '2018 Security Hackathon',\n",
              " '제5회 해양수산 공공데이터 및 빅데이터 활용 경진대회',\n",
              " '인공지능 R&D 챌린지 대회',\n",
              " '2018 KP 핀테크 해커톤',\n",
              " '무한상상 로봇 생활발명 경진대회',\n",
              " '사물인터넷 정보보호 해커톤',\n",
              " '국립대구과학관 골드버그 창작대회',\n",
              " '클로바 인공지능 아이디어 챌린지',\n",
              " 'DIT 전국학생과학발명 경진대회',\n",
              " '울산 공공데이터 활용 창업 경진대회',\n",
              " '제19회 전국교원발명품경진대회']"
            ]
          },
          "metadata": {
            "tags": []
          },
          "execution_count": 64
        }
      ]
    }
  ]
}