{
 "cells": [
  {
   "cell_type": "markdown",
   "metadata": {},
   "source": [
    "# 어떤 무선 청소기가 인기가 좋을까?"
   ]
  },
  {
   "cell_type": "markdown",
   "metadata": {},
   "source": [
    "## 1. 데이터 수집"
   ]
  },
  {
   "cell_type": "code",
   "execution_count": 1,
   "metadata": {},
   "outputs": [],
   "source": [
    "from selenium import webdriver\n",
    "from bs4 import BeautifulSoup\n",
    "import pandas as pd"
   ]
  },
  {
   "cell_type": "code",
   "execution_count": 2,
   "metadata": {},
   "outputs": [],
   "source": [
    "driver = webdriver.Chrome('c:/Temp/chromedriver.exe')\n",
    "url = 'http://search.danawa.com/dsearch.php?k1=%EB%AC%B4%EC%84%A0%EC%B2%AD%EC%86%8C%EA%B8%B0&module=goods&act=dispMain'\n",
    "driver.get(url)"
   ]
  },
  {
   "cell_type": "markdown",
   "metadata": {},
   "source": [
    "### 1) 상품정보 가져오기"
   ]
  },
  {
   "cell_type": "code",
   "execution_count": 3,
   "metadata": {},
   "outputs": [],
   "source": [
    "html = driver.page_source\n",
    "soup = BeautifulSoup(html, 'html.parser')"
   ]
  },
  {
   "cell_type": "code",
   "execution_count": 4,
   "metadata": {},
   "outputs": [
    {
     "data": {
      "text/plain": [
       "0"
      ]
     },
     "execution_count": 4,
     "metadata": {},
     "output_type": "execute_result"
    }
   ],
   "source": [
    "prod_item = soup.select('li.prod_item')\n",
    "len(prod_item)"
   ]
  },
  {
   "cell_type": "code",
   "execution_count": 5,
   "metadata": {},
   "outputs": [
    {
     "data": {
      "text/plain": [
       "0"
      ]
     },
     "execution_count": 5,
     "metadata": {},
     "output_type": "execute_result"
    }
   ],
   "source": [
    "# 1페이지의 무선 청소기 정보가져오기\n",
    "prod_items = soup.select('ul.product_list > li.prod_item')\n",
    "len(prod_items)"
   ]
  },
  {
   "cell_type": "code",
   "execution_count": 6,
   "metadata": {},
   "outputs": [
    {
     "data": {
      "text/plain": [
       "0"
      ]
     },
     "execution_count": 6,
     "metadata": {},
     "output_type": "execute_result"
    }
   ],
   "source": [
    "prod_items = soup.select('div.main_prodlist.main_prodlist_list > ul.product_list > li.prod_item')\n",
    "len(prod_items)"
   ]
  },
  {
   "cell_type": "code",
   "execution_count": 8,
   "metadata": {},
   "outputs": [
    {
     "ename": "IndexError",
     "evalue": "list index out of range",
     "output_type": "error",
     "traceback": [
      "\u001b[1;31m---------------------------------------------------------------------------\u001b[0m",
      "\u001b[1;31mIndexError\u001b[0m                                Traceback (most recent call last)",
      "\u001b[1;32m<ipython-input-8-aa8363770f79>\u001b[0m in \u001b[0;36m<module>\u001b[1;34m\u001b[0m\n\u001b[1;32m----> 1\u001b[1;33m \u001b[0mtitle\u001b[0m \u001b[1;33m=\u001b[0m \u001b[0mprod_items\u001b[0m\u001b[1;33m[\u001b[0m\u001b[1;36m0\u001b[0m\u001b[1;33m]\u001b[0m\u001b[1;33m.\u001b[0m\u001b[0mselect\u001b[0m\u001b[1;33m(\u001b[0m\u001b[1;34m'p.prod_name > a'\u001b[0m\u001b[1;33m)\u001b[0m\u001b[1;33m[\u001b[0m\u001b[1;36m0\u001b[0m\u001b[1;33m]\u001b[0m\u001b[1;33m.\u001b[0m\u001b[0mtext\u001b[0m\u001b[1;33m.\u001b[0m\u001b[0mstrip\u001b[0m\u001b[1;33m(\u001b[0m\u001b[1;33m)\u001b[0m\u001b[1;33m\u001b[0m\u001b[1;33m\u001b[0m\u001b[0m\n\u001b[0m\u001b[0;32m      2\u001b[0m \u001b[0mtitle\u001b[0m\u001b[1;33m\u001b[0m\u001b[1;33m\u001b[0m\u001b[0m\n",
      "\u001b[1;31mIndexError\u001b[0m: list index out of range"
     ]
    }
   ],
   "source": [
    "title = prod_items[0].select('p.prod_name > a')[0].text.strip()\n",
    "title"
   ]
  },
  {
   "cell_type": "code",
   "execution_count": null,
   "metadata": {},
   "outputs": [],
   "source": [
    "spec_list = prod_items[0].select('div.spec_list')[0].text.strip()\n",
    "spec_list"
   ]
  },
  {
   "cell_type": "code",
   "execution_count": null,
   "metadata": {},
   "outputs": [],
   "source": [
    "price = prod_items[0].select('li.rank_one > p.price_sect > a > strong')[0].text.strip().replace(',','')\n",
    "price"
   ]
  },
  {
   "cell_type": "markdown",
   "metadata": {},
   "source": [
    "### 2) 상품명 모두 가져오기 "
   ]
  },
  {
   "cell_type": "code",
   "execution_count": null,
   "metadata": {},
   "outputs": [],
   "source": [
    "prod_data = []\n",
    "\n",
    "for prod_item in prod_items:\n",
    "    try: # 상품명 가져오기\n",
    "        title = prod_item.select('p.prod_name > a')[0].text.strip()\n",
    "    except:\n",
    "        title = ''\n",
    "    try: # 스펙 목록 가져오기\n",
    "        spec_list = prod_item.select('div.spec_list')[0].text.strip()\n",
    "    except:\n",
    "        spec_list = ''\n",
    "    try: # 가격 정보 가져오기 \n",
    "        price = prod_item.select('li.rank_one > p.price_sect > a > strong')[0].text.strip().replace(\",\",\"\")\n",
    "    except:\n",
    "        price = 0\n",
    "    prod_data.append([title, spec_list, price])\n",
    "    \n",
    "print(len(prod_data))\n",
    "print(prod_data)"
   ]
  },
  {
   "cell_type": "markdown",
   "metadata": {},
   "source": [
    "### 3) 상품 정보 태그에서 원하는 정보 추출 함수 "
   ]
  },
  {
   "cell_type": "code",
   "execution_count": null,
   "metadata": {},
   "outputs": [],
   "source": [
    "def get_prod_items(prod_items):\n",
    "    prod_data = []\n",
    "    \n",
    "    for prod_item in prod_items:\n",
    "        # 상품명 가져오기\n",
    "        try:\n",
    "            title = prod_item.select('p.prod_name > a')[0].text.strip()\n",
    "        except:\n",
    "            title = ''\n",
    "        # 스펙 목록 가져오기\n",
    "        try: \n",
    "            spec_list = prod_item.select('div.spec_list')[0].text.strip()\n",
    "        except:\n",
    "            spec_list = ''\n",
    "        # 가격 정보 가져오기 \n",
    "        try: \n",
    "            price = int(prod_item.select('li.rank_one > p.price_sect > a > strong')[0].text.strip().replace(\",\",\"\"))\n",
    "        except:\n",
    "            price = 0\n",
    "        prod_data.append([title, spec_list, price])\n",
    "        \n",
    "    return prod_data"
   ]
  },
  {
   "cell_type": "markdown",
   "metadata": {},
   "source": [
    "## 4) 함수 테스트"
   ]
  },
  {
   "cell_type": "code",
   "execution_count": null,
   "metadata": {},
   "outputs": [],
   "source": [
    "prod_items = soup.select('div.main_prodlist.main_prodlist_list > ul.product_list > li.prod_item')\n",
    "prod_data = get_prod_items(prod_items)\n",
    "print(len(prod_data))"
   ]
  },
  {
   "cell_type": "markdown",
   "metadata": {},
   "source": [
    "### 5) 다나와 사이트 주소 양식\n",
    "\n",
    "1페이지 http://search.danawa.com/dsearch.php?k1=%EB%AC%B4%EC%84%A0%EC%B2%AD%EC%86%8C%EA%B8%B0&module=goods&act=dispMain\n",
    "\n",
    "2페이지 http://search.danawa.com/dsearch.php?query=%EB%AC%B4%EC%84%A0%EC%B2%AD%EC%86%8C%EA%B8%B0&originalQuery=%EB%AC%B4%EC%84%A0%EC%B2%AD%EC%86%8C%EA%B8%B0&volumeType=allvs&page=2&limit=40&sort=saveDESC&list=list&boost=true&addDelivery=N&recommendedSort=Y&defaultUICategoryCode=103740&defaultPhysicsCategoryCode=72%7C80%7C81%7C0&defaultVmTab=2352&defaultVaTab=122136&tab=goods\n",
    "\n",
    "3페이지 http://search.danawa.com/dsearch.php?query=%EB%AC%B4%EC%84%A0%EC%B2%AD%EC%86%8C%EA%B8%B0&originalQuery=%EB%AC%B4%EC%84%A0%EC%B2%AD%EC%86%8C%EA%B8%B0&previousKeyword=%EB%AC%B4%EC%84%A0%EC%B2%AD%EC%86%8C%EA%B8%B0&volumeType=allvs&page=3&limit=40&sort=saveDESC&list=list&boost=true&addDelivery=N&recommendedSort=Y&defaultUICategoryCode=103740&defaultPhysicsCategoryCode=72%7C80%7C81%7C0&defaultVmTab=2352&defaultVaTab=122136&tab=goods"
   ]
  },
  {
   "cell_type": "code",
   "execution_count": null,
   "metadata": {},
   "outputs": [],
   "source": [
    "## 검색 기본틀\n",
    "def get_page_url(keyword, page):\n",
    "    return 'http://search.danawa.com/dsearch.php?query={}&originalQuery=%EB%AC%B4%EC%84%A0%EC%B2%AD%EC%86%8C%EA%B8%B0&volumeType=allvs&page={}&limit=40&sort=saveDESC&list=list&boost=true&addDelivery=N&recommendedSort=Y&defaultUICategoryCode=103740&defaultPhysicsCategoryCode=72%7C80%7C81%7C0&defaultVmTab=2352&defaultVaTab=122136&tab=goods'.format(keyword,page)"
   ]
  },
  {
   "cell_type": "code",
   "execution_count": null,
   "metadata": {},
   "outputs": [],
   "source": [
    "keyword = '무선청소기'\n",
    "page = 8\n",
    "url = get_page_url(keyword, page)\n",
    "print(url)"
   ]
  },
  {
   "cell_type": "markdown",
   "metadata": {},
   "source": [
    "### 6) 주피터 노트북 진행 표시줄 처리"
   ]
  },
  {
   "cell_type": "markdown",
   "metadata": {},
   "source": [
    "#### 1> tqdm 사용법"
   ]
  },
  {
   "cell_type": "code",
   "execution_count": null,
   "metadata": {},
   "outputs": [],
   "source": [
    "import time\n",
    "from tqdm.notebook import tqdm\n",
    "\n",
    "total_page = 10\n",
    "for page in tqdm(range(1, total_page +1)):\n",
    "    time.sleep(1)"
   ]
  },
  {
   "cell_type": "markdown",
   "metadata": {},
   "source": [
    "### 7) 여러페이지에 걸친 상품정보 수집\n",
    "1. 한페이지의 상품 정보를 수집하는 함수 만들기\n",
    "\n",
    "2. URL 분석을 통해 원하는 페이지로 이동하는 함수 만들기"
   ]
  },
  {
   "cell_type": "code",
   "execution_count": 9,
   "metadata": {},
   "outputs": [
    {
     "data": {
      "application/vnd.jupyter.widget-view+json": {
       "model_id": "d7320c2b46634adb9efe5077d478aa16",
       "version_major": 2,
       "version_minor": 0
      },
      "text/plain": [
       "HBox(children=(FloatProgress(value=0.0, max=10.0), HTML(value='')))"
      ]
     },
     "metadata": {},
     "output_type": "display_data"
    },
    {
     "name": "stdout",
     "output_type": "stream",
     "text": [
      "\n"
     ]
    }
   ],
   "source": [
    "import time\n",
    "from tqdm.notebook import tqdm\n",
    "from selenium import webdriver\n",
    "from bs4 import BeautifulSoup\n",
    "\n",
    "driver = webdriver.Chrome('c:/Temp/chromedriver.exe')\n",
    "driver.implicitly_wait(3) # 암묵적으로 웹 자원 로드를 위해 3초 기다림\n",
    "\n",
    "keyword = '무선청소기'\n",
    "total_page = 10\n",
    "prod_data_total=[]\n",
    "\n",
    "def get_page_url(keyword, page):\n",
    "    return 'http://search.danawa.com/dsearch.php?query={}&originalQuery=%EB%AC%B4%EC%84%A0%EC%B2%AD%EC%86%8C%EA%B8%B0&volumeType=allvs&page={}&limit=40&sort=saveDESC&list=list&boost=true&addDelivery=N&recommendedSort=Y&defaultUICategoryCode=103740&defaultPhysicsCategoryCode=72%7C80%7C81%7C0&defaultVmTab=2352&defaultVaTab=122136&tab=goods'.format(keyword,page)\n",
    "\n",
    "def get_prod_items(prod_items):\n",
    "    prod_data = []\n",
    "    \n",
    "    for prod_item in prod_items:\n",
    "        # 상품명 가져오기\n",
    "        try:\n",
    "            title = prod_item.select('p.prod_name > a')[0].text.strip()\n",
    "        except:\n",
    "            title = ''\n",
    "        # 스펙 목록 가져오기\n",
    "        try: \n",
    "            spec_list = prod_item.select('div.spec_list')[0].text.strip()\n",
    "        except:\n",
    "            spec_list = ''\n",
    "        # 가격 정보 가져오기 \n",
    "        try: \n",
    "            price = int(prod_item.select('li.rank_one > p.price_sect > a > strong')[0].text.strip().replace(\",\",\"\"))\n",
    "        except:\n",
    "            price = 0\n",
    "        prod_data.append([title, spec_list, price])\n",
    "        \n",
    "    return prod_data\n",
    "\n",
    "\n",
    "for page in tqdm(range(1, total_page +1)):\n",
    "    url = get_page_url(keyword, page)\n",
    "    driver.get(url)\n",
    "    time.sleep(5)\n",
    "    \n",
    "    html = driver.page_source\n",
    "    soup = BeautifulSoup(html, 'html.parser')\n",
    "    \n",
    "    prod_items = soup.select('div.main_prodlist.main_prodlist_list > ul.product_list > li.prod_item')\n",
    "    prod_list = get_prod_items(prod_items)\n",
    "    \n",
    "    prod_data_total = prod_data_total + prod_list\n",
    "    "
   ]
  },
  {
   "cell_type": "markdown",
   "metadata": {},
   "source": [
    "## 8) 수집 데이터 저장"
   ]
  },
  {
   "cell_type": "code",
   "execution_count": 10,
   "metadata": {},
   "outputs": [
    {
     "data": {
      "text/html": [
       "<div>\n",
       "<style scoped>\n",
       "    .dataframe tbody tr th:only-of-type {\n",
       "        vertical-align: middle;\n",
       "    }\n",
       "\n",
       "    .dataframe tbody tr th {\n",
       "        vertical-align: top;\n",
       "    }\n",
       "\n",
       "    .dataframe thead th {\n",
       "        text-align: right;\n",
       "    }\n",
       "</style>\n",
       "<table border=\"1\" class=\"dataframe\">\n",
       "  <thead>\n",
       "    <tr style=\"text-align: right;\">\n",
       "      <th></th>\n",
       "      <th>상품명</th>\n",
       "      <th>스펙 목록</th>\n",
       "      <th>가격</th>\n",
       "    </tr>\n",
       "  </thead>\n",
       "  <tbody>\n",
       "    <tr>\n",
       "      <th>0</th>\n",
       "      <td>샤오미 드리미 V10</td>\n",
       "      <td>핸디/스틱청소기 / 핸디+스틱형 / 무선형 / 전압: 25.2V / 헤파필터 / H...</td>\n",
       "      <td>148080</td>\n",
       "    </tr>\n",
       "    <tr>\n",
       "      <th>1</th>\n",
       "      <td>LG전자 코드제로 A9S A9700</td>\n",
       "      <td>핸디/스틱청소기 / 핸디+스틱형 / 무선형 / 헤파필터 / 2중터보싸이클론 / 5단...</td>\n",
       "      <td>1001200</td>\n",
       "    </tr>\n",
       "    <tr>\n",
       "      <th>3</th>\n",
       "      <td>삼성전자 제트 VS20T9213QDCS</td>\n",
       "      <td>핸디/스틱청소기 / 핸디+스틱형 / 무선형 / 전압: 21.6V / 헤파필터 / 싸...</td>\n",
       "      <td>663400</td>\n",
       "    </tr>\n",
       "    <tr>\n",
       "      <th>4</th>\n",
       "      <td>다이슨 V10 카본파이버</td>\n",
       "      <td>핸디/스틱청소기 / 핸디+스틱형 / 무선형 / 전압: 25.2V / 싸이클론 / 흡...</td>\n",
       "      <td>597100</td>\n",
       "    </tr>\n",
       "    <tr>\n",
       "      <th>5</th>\n",
       "      <td>LG전자 코드제로 A9S A9570</td>\n",
       "      <td>핸디/스틱청소기 / 핸디+스틱형 / 무선형 / 헤파필터 / 2중터보싸이클론 / 5단...</td>\n",
       "      <td>919000</td>\n",
       "    </tr>\n",
       "    <tr>\n",
       "      <th>...</th>\n",
       "      <td>...</td>\n",
       "      <td>...</td>\n",
       "      <td>...</td>\n",
       "    </tr>\n",
       "    <tr>\n",
       "      <th>405</th>\n",
       "      <td>키친아트 렉스 차량용 진공청소기 PK901</td>\n",
       "      <td>차량용청소기 / 무선 / 12V / 흡입력: 5,000Pa / 최대출력: 120W ...</td>\n",
       "      <td>55000</td>\n",
       "    </tr>\n",
       "    <tr>\n",
       "      <th>406</th>\n",
       "      <td>저스트원 SN-XR330V</td>\n",
       "      <td>핸디/스틱청소기 / 핸디+스틱형 / 무선형 / 전압: 11.1V / 헤파필터 / 2...</td>\n",
       "      <td>52100</td>\n",
       "    </tr>\n",
       "    <tr>\n",
       "      <th>407</th>\n",
       "      <td>스위스밀리터리 SMA-SP22</td>\n",
       "      <td>물걸레청소기 / 스틱형 / 회전식 / 무선형 / 전압: 14.8V / 충전시간: 4...</td>\n",
       "      <td>186300</td>\n",
       "    </tr>\n",
       "    <tr>\n",
       "      <th>408</th>\n",
       "      <td>무궁화전자 MHC-720</td>\n",
       "      <td>핸디/스틱청소기 / 핸디+스틱형 / 무선형 / 헤파필터 / H12급 / 3단계여과 ...</td>\n",
       "      <td>71200</td>\n",
       "    </tr>\n",
       "    <tr>\n",
       "      <th>409</th>\n",
       "      <td>LG전자 코드제로 A9 A9100S + M970V</td>\n",
       "      <td>핸디/스틱청소기+로봇청소기 / 핸디+스틱형 / 무선형 / 헤파필터 / 2중터보싸이클...</td>\n",
       "      <td>1374000</td>\n",
       "    </tr>\n",
       "  </tbody>\n",
       "</table>\n",
       "<p>400 rows × 3 columns</p>\n",
       "</div>"
      ],
      "text/plain": [
       "                             상품명  \\\n",
       "0                    샤오미 드리미 V10   \n",
       "1            LG전자 코드제로 A9S A9700   \n",
       "3          삼성전자 제트 VS20T9213QDCS   \n",
       "4                  다이슨 V10 카본파이버   \n",
       "5            LG전자 코드제로 A9S A9570   \n",
       "..                           ...   \n",
       "405      키친아트 렉스 차량용 진공청소기 PK901   \n",
       "406               저스트원 SN-XR330V   \n",
       "407             스위스밀리터리 SMA-SP22   \n",
       "408                무궁화전자 MHC-720   \n",
       "409  LG전자 코드제로 A9 A9100S + M970V   \n",
       "\n",
       "                                                 스펙 목록       가격  \n",
       "0    핸디/스틱청소기 / 핸디+스틱형 / 무선형 / 전압: 25.2V / 헤파필터 / H...   148080  \n",
       "1    핸디/스틱청소기 / 핸디+스틱형 / 무선형 / 헤파필터 / 2중터보싸이클론 / 5단...  1001200  \n",
       "3    핸디/스틱청소기 / 핸디+스틱형 / 무선형 / 전압: 21.6V / 헤파필터 / 싸...   663400  \n",
       "4    핸디/스틱청소기 / 핸디+스틱형 / 무선형 / 전압: 25.2V / 싸이클론 / 흡...   597100  \n",
       "5    핸디/스틱청소기 / 핸디+스틱형 / 무선형 / 헤파필터 / 2중터보싸이클론 / 5단...   919000  \n",
       "..                                                 ...      ...  \n",
       "405  차량용청소기 / 무선 / 12V / 흡입력: 5,000Pa / 최대출력: 120W ...    55000  \n",
       "406  핸디/스틱청소기 / 핸디+스틱형 / 무선형 / 전압: 11.1V / 헤파필터 / 2...    52100  \n",
       "407  물걸레청소기 / 스틱형 / 회전식 / 무선형 / 전압: 14.8V / 충전시간: 4...   186300  \n",
       "408  핸디/스틱청소기 / 핸디+스틱형 / 무선형 / 헤파필터 / H12급 / 3단계여과 ...    71200  \n",
       "409  핸디/스틱청소기+로봇청소기 / 핸디+스틱형 / 무선형 / 헤파필터 / 2중터보싸이클...  1374000  \n",
       "\n",
       "[400 rows x 3 columns]"
      ]
     },
     "execution_count": 10,
     "metadata": {},
     "output_type": "execute_result"
    }
   ],
   "source": [
    "import pandas as pd\n",
    "data = pd.DataFrame(prod_data_total)\n",
    "data.columns = ['상품명','스펙 목록','가격']\n",
    "df = data.drop(data[data['스펙 목록'].map(len) < 40].index) ## 수집 데이터 중 40글자 미만인 데이터 삭제\n",
    "df"
   ]
  },
  {
   "cell_type": "code",
   "execution_count": 11,
   "metadata": {},
   "outputs": [],
   "source": [
    "df.to_excel('./files/danawa_crawling.xlsx', index=False)"
   ]
  },
  {
   "cell_type": "markdown",
   "metadata": {},
   "source": [
    "# 다나와 크롤링 데이터 전처리\n",
    "1. 상품명 데이터에서 회사명과 제품명 분리\n",
    "\n",
    "2. 일반 문자열로 저장된 스펙 목록을 필요한 스펙으로 분류 및 단위 통합\n"
   ]
  },
  {
   "cell_type": "code",
   "execution_count": 12,
   "metadata": {},
   "outputs": [
    {
     "name": "stdout",
     "output_type": "stream",
     "text": [
      "<class 'pandas.core.frame.DataFrame'>\n",
      "RangeIndex: 400 entries, 0 to 399\n",
      "Data columns (total 3 columns):\n",
      " #   Column  Non-Null Count  Dtype \n",
      "---  ------  --------------  ----- \n",
      " 0   상품명     400 non-null    object\n",
      " 1   스펙 목록   400 non-null    object\n",
      " 2   가격      400 non-null    int64 \n",
      "dtypes: int64(1), object(2)\n",
      "memory usage: 9.5+ KB\n"
     ]
    },
    {
     "data": {
      "text/html": [
       "<div>\n",
       "<style scoped>\n",
       "    .dataframe tbody tr th:only-of-type {\n",
       "        vertical-align: middle;\n",
       "    }\n",
       "\n",
       "    .dataframe tbody tr th {\n",
       "        vertical-align: top;\n",
       "    }\n",
       "\n",
       "    .dataframe thead th {\n",
       "        text-align: right;\n",
       "    }\n",
       "</style>\n",
       "<table border=\"1\" class=\"dataframe\">\n",
       "  <thead>\n",
       "    <tr style=\"text-align: right;\">\n",
       "      <th></th>\n",
       "      <th>상품명</th>\n",
       "      <th>스펙 목록</th>\n",
       "      <th>가격</th>\n",
       "    </tr>\n",
       "  </thead>\n",
       "  <tbody>\n",
       "    <tr>\n",
       "      <th>0</th>\n",
       "      <td>샤오미 드리미 V10</td>\n",
       "      <td>핸디/스틱청소기 / 핸디+스틱형 / 무선형 / 전압: 25.2V / 헤파필터 / H...</td>\n",
       "      <td>148080</td>\n",
       "    </tr>\n",
       "    <tr>\n",
       "      <th>1</th>\n",
       "      <td>LG전자 코드제로 A9S A9700</td>\n",
       "      <td>핸디/스틱청소기 / 핸디+스틱형 / 무선형 / 헤파필터 / 2중터보싸이클론 / 5단...</td>\n",
       "      <td>1001200</td>\n",
       "    </tr>\n",
       "    <tr>\n",
       "      <th>2</th>\n",
       "      <td>삼성전자 제트 VS20T9213QDCS</td>\n",
       "      <td>핸디/스틱청소기 / 핸디+스틱형 / 무선형 / 전압: 21.6V / 헤파필터 / 싸...</td>\n",
       "      <td>663400</td>\n",
       "    </tr>\n",
       "    <tr>\n",
       "      <th>3</th>\n",
       "      <td>다이슨 V10 카본파이버</td>\n",
       "      <td>핸디/스틱청소기 / 핸디+스틱형 / 무선형 / 전압: 25.2V / 싸이클론 / 흡...</td>\n",
       "      <td>597100</td>\n",
       "    </tr>\n",
       "    <tr>\n",
       "      <th>4</th>\n",
       "      <td>LG전자 코드제로 A9S A9570</td>\n",
       "      <td>핸디/스틱청소기 / 핸디+스틱형 / 무선형 / 헤파필터 / 2중터보싸이클론 / 5단...</td>\n",
       "      <td>919000</td>\n",
       "    </tr>\n",
       "  </tbody>\n",
       "</table>\n",
       "</div>"
      ],
      "text/plain": [
       "                     상품명                                              스펙 목록  \\\n",
       "0            샤오미 드리미 V10  핸디/스틱청소기 / 핸디+스틱형 / 무선형 / 전압: 25.2V / 헤파필터 / H...   \n",
       "1    LG전자 코드제로 A9S A9700  핸디/스틱청소기 / 핸디+스틱형 / 무선형 / 헤파필터 / 2중터보싸이클론 / 5단...   \n",
       "2  삼성전자 제트 VS20T9213QDCS  핸디/스틱청소기 / 핸디+스틱형 / 무선형 / 전압: 21.6V / 헤파필터 / 싸...   \n",
       "3          다이슨 V10 카본파이버  핸디/스틱청소기 / 핸디+스틱형 / 무선형 / 전압: 25.2V / 싸이클론 / 흡...   \n",
       "4    LG전자 코드제로 A9S A9570  핸디/스틱청소기 / 핸디+스틱형 / 무선형 / 헤파필터 / 2중터보싸이클론 / 5단...   \n",
       "\n",
       "        가격  \n",
       "0   148080  \n",
       "1  1001200  \n",
       "2   663400  \n",
       "3   597100  \n",
       "4   919000  "
      ]
     },
     "execution_count": 12,
     "metadata": {},
     "output_type": "execute_result"
    }
   ],
   "source": [
    "import pandas as pd\n",
    "data = pd.read_excel('./files/danawa_crawling.xlsx')\n",
    "data.info()\n",
    "data.head()"
   ]
  },
  {
   "cell_type": "markdown",
   "metadata": {},
   "source": [
    "## 1.상품명 데이터에서 회사명과 제품명 분리"
   ]
  },
  {
   "cell_type": "code",
   "execution_count": 13,
   "metadata": {},
   "outputs": [
    {
     "data": {
      "text/plain": [
       "0                           샤오미 드리미 V10\n",
       "1                   LG전자 코드제로 A9S A9700\n",
       "2                 삼성전자 제트 VS20T9213QDCS\n",
       "3                         다이슨 V10 카본파이버\n",
       "4                   LG전자 코드제로 A9S A9570\n",
       "5    샤오미 CLEANFLY 차량용 무선 청소기 3세대 (해외구매)\n",
       "6                   삼성전자 제트 VS15R8500BF\n",
       "7                 삼성전자 제트 VS20T9258SDCS\n",
       "8              일렉트로룩스 WELL Q6 WQ61-1OGG\n",
       "9                   삼성전자 제트 VS20R9078S2\n",
       "Name: 상품명, dtype: object"
      ]
     },
     "execution_count": 13,
     "metadata": {},
     "output_type": "execute_result"
    }
   ],
   "source": [
    "data['상품명'][:10]"
   ]
  },
  {
   "cell_type": "code",
   "execution_count": 14,
   "metadata": {},
   "outputs": [
    {
     "name": "stdout",
     "output_type": "stream",
     "text": [
      "['LG전자', '코드제로 A9S A9700']\n"
     ]
    }
   ],
   "source": [
    "title = \"LG전자 코드제로 A9S A9700\"\n",
    "info = title.split(' ',1) ## 첫번째 공백만 split 해서 나타내기\n",
    "print(info)"
   ]
  },
  {
   "cell_type": "code",
   "execution_count": 15,
   "metadata": {},
   "outputs": [],
   "source": [
    "company_list = []\n",
    "product_list = []\n",
    "for title in data['상품명']:\n",
    "    title_info = title.split(' ',1)\n",
    "    company_name = title_info[0]\n",
    "    product_name = title_info[1]\n",
    "    company_list.append(company_name)\n",
    "    product_list.append(product_name)    "
   ]
  },
  {
   "cell_type": "code",
   "execution_count": 16,
   "metadata": {},
   "outputs": [
    {
     "name": "stdout",
     "output_type": "stream",
     "text": [
      "400\n",
      "400\n",
      "['샤오미', 'LG전자', '삼성전자', '다이슨', 'LG전자']\n",
      "400\n",
      "['드리미 V10', '코드제로 A9S A9700', '제트 VS20T9213QDCS', 'V10 카본파이버', '코드제로 A9S A9570']\n"
     ]
    }
   ],
   "source": [
    "print(len(data))\n",
    "print(len(company_list))\n",
    "print(company_list[:5])\n",
    "print(len(product_list))\n",
    "print(product_list[:5])"
   ]
  },
  {
   "cell_type": "markdown",
   "metadata": {},
   "source": [
    "## 2. 스펙 목록 데이터 살펴보기"
   ]
  },
  {
   "cell_type": "code",
   "execution_count": 17,
   "metadata": {},
   "outputs": [
    {
     "data": {
      "text/plain": [
       "'핸디/스틱청소기 / 핸디+스틱형 / 무선형 / 전압: 25.2V / 헤파필터 / H12급 / 5단계여과 / 흡입력: 140AW / 흡입력: 22000Pa / 먼지통용량: 0.5L / 충전시간: 3시간30분 / 사용시간: 1시간 / 용량: 2500mAh / 구성: 바닥, 침구, 솔형, 틈새, 연장툴, 거치대 / 무게: 1.5kg / 색상:화이트 / 소비전력: 450W'"
      ]
     },
     "execution_count": 17,
     "metadata": {},
     "output_type": "execute_result"
    }
   ],
   "source": [
    "data['스펙 목록'][0]"
   ]
  },
  {
   "cell_type": "code",
   "execution_count": 18,
   "metadata": {},
   "outputs": [
    {
     "data": {
      "text/plain": [
       "['핸디/스틱청소기',\n",
       " '핸디+스틱형',\n",
       " '무선형',\n",
       " '전압: 25.2V',\n",
       " '헤파필터',\n",
       " 'H12급',\n",
       " '5단계여과',\n",
       " '흡입력: 140AW',\n",
       " '흡입력: 22000Pa',\n",
       " '먼지통용량: 0.5L',\n",
       " '충전시간: 3시간30분',\n",
       " '사용시간: 1시간',\n",
       " '용량: 2500mAh',\n",
       " '구성: 바닥, 침구, 솔형, 틈새, 연장툴, 거치대',\n",
       " '무게: 1.5kg',\n",
       " '색상:화이트',\n",
       " '소비전력: 450W']"
      ]
     },
     "execution_count": 18,
     "metadata": {},
     "output_type": "execute_result"
    }
   ],
   "source": [
    "data['스펙 목록'][0].split(' / ')"
   ]
  },
  {
   "cell_type": "markdown",
   "metadata": {},
   "source": [
    "## 3. 스펙목록에서 카테고리, 사용시간, 흡입력을 추출해서 정리"
   ]
  },
  {
   "cell_type": "code",
   "execution_count": 19,
   "metadata": {},
   "outputs": [
    {
     "data": {
      "text/plain": [
       "['핸디/스틱청소기',\n",
       " '핸디+스틱형',\n",
       " '무선형',\n",
       " '전압: 25.2V',\n",
       " '헤파필터',\n",
       " 'H12급',\n",
       " '5단계여과',\n",
       " '흡입력: 140AW',\n",
       " '흡입력: 22000Pa',\n",
       " '먼지통용량: 0.5L',\n",
       " '충전시간: 3시간30분',\n",
       " '사용시간: 1시간',\n",
       " '용량: 2500mAh',\n",
       " '구성: 바닥, 침구, 솔형, 틈새, 연장툴, 거치대',\n",
       " '무게: 1.5kg',\n",
       " '색상:화이트',\n",
       " '소비전력: 450W']"
      ]
     },
     "execution_count": 19,
     "metadata": {},
     "output_type": "execute_result"
    }
   ],
   "source": [
    "spec_list = data['스펙 목록'][0].split(' / ')\n",
    "spec_list"
   ]
  },
  {
   "cell_type": "code",
   "execution_count": 20,
   "metadata": {},
   "outputs": [
    {
     "data": {
      "text/plain": [
       "'핸디/스틱청소기'"
      ]
     },
     "execution_count": 20,
     "metadata": {},
     "output_type": "execute_result"
    }
   ],
   "source": [
    "category = spec_list[0]\n",
    "category"
   ]
  },
  {
   "cell_type": "code",
   "execution_count": 21,
   "metadata": {},
   "outputs": [
    {
     "name": "stdout",
     "output_type": "stream",
     "text": [
      "사용시간: 1시간\n",
      "흡입력: 22000Pa\n"
     ]
    }
   ],
   "source": [
    "for spec in spec_list:\n",
    "    if '사용시간' in spec:\n",
    "        use_time_spec = spec\n",
    "    elif '흡입력' in spec:\n",
    "        suction_spec = spec\n",
    "        \n",
    "print(use_time_spec)\n",
    "print(suction_spec)"
   ]
  },
  {
   "cell_type": "code",
   "execution_count": 22,
   "metadata": {},
   "outputs": [
    {
     "name": "stdout",
     "output_type": "stream",
     "text": [
      "1시간\n",
      "22000Pa\n"
     ]
    }
   ],
   "source": [
    "use_time_value = use_time_spec.split(' ')[1].strip()\n",
    "suction_value = suction_spec.split(' ')[1].strip()\n",
    "\n",
    "print(use_time_value)\n",
    "print(suction_value)"
   ]
  },
  {
   "cell_type": "code",
   "execution_count": 23,
   "metadata": {},
   "outputs": [],
   "source": [
    "category_list = []\n",
    "use_time_list = []\n",
    "suction_list = []\n",
    "\n",
    "for spec_data in data['스펙 목록']:\n",
    "    spec_list = spec_data.split(' / ')\n",
    "    \n",
    "    category = spec_list[0]\n",
    "    category_list.append(category)\n",
    "    \n",
    "    use_time_value = None\n",
    "    suction_value = None\n",
    "\n",
    "    for spec in spec_list:\n",
    "        if '사용시간' in spec:\n",
    "            use_time_value = spec.split(' ')[1].strip()\n",
    "        elif '흡입력' in spec:\n",
    "            suction_value = spec.split(' ')[1].strip()\n",
    "            \n",
    "    use_time_list.append(use_time_value)\n",
    "    suction_list.append(suction_value)"
   ]
  },
  {
   "cell_type": "code",
   "execution_count": 24,
   "metadata": {},
   "outputs": [
    {
     "name": "stdout",
     "output_type": "stream",
     "text": [
      "카테고리 400 ['핸디/스틱청소기', '핸디/스틱청소기', '핸디/스틱청소기', '핸디/스틱청소기', '핸디/스틱청소기']\n",
      "사용시간 400 ['1시간', '2시간', '1시간', '1시간', '2시간']\n",
      "흡입력 400 ['22000Pa', '200W', '200W', '160AW', '200W']\n"
     ]
    }
   ],
   "source": [
    "print('카테고리',len(category_list),category_list[:5])\n",
    "print('사용시간',len(use_time_list),use_time_list[:5])\n",
    "print('흡입력',len(suction_list),suction_list[:5])"
   ]
  },
  {
   "cell_type": "markdown",
   "metadata": {},
   "source": [
    "## 4. 단위 시간 통일시키기"
   ]
  },
  {
   "cell_type": "code",
   "execution_count": 25,
   "metadata": {},
   "outputs": [
    {
     "data": {
      "text/plain": [
       "['1시간',\n",
       " '2시간',\n",
       " '1시간',\n",
       " '1시간',\n",
       " '2시간',\n",
       " '25분',\n",
       " '40분',\n",
       " '2시간',\n",
       " '45분',\n",
       " '2시간',\n",
       " '40분',\n",
       " '45분',\n",
       " '1시간',\n",
       " '40분',\n",
       " '20분',\n",
       " '48분',\n",
       " '40분',\n",
       " '42분',\n",
       " '1시간',\n",
       " '30분',\n",
       " '23분',\n",
       " '30분',\n",
       " '1시간40분',\n",
       " '30분',\n",
       " '1시간',\n",
       " '30분',\n",
       " '28분',\n",
       " '2시간',\n",
       " '53분',\n",
       " '1시간',\n",
       " '1시간30분',\n",
       " '9~30분',\n",
       " '2시간',\n",
       " '50분',\n",
       " '1시간40분',\n",
       " '1시간',\n",
       " '2시간',\n",
       " '40분',\n",
       " '1시간10분',\n",
       " '35분',\n",
       " '1시간',\n",
       " '120분',\n",
       " '50분',\n",
       " '20분',\n",
       " '30분',\n",
       " '50분',\n",
       " '60분',\n",
       " '1시간',\n",
       " '2시간',\n",
       " '1시간40분',\n",
       " '53분',\n",
       " '1시간',\n",
       " '50분',\n",
       " '45분',\n",
       " '40분',\n",
       " '30분',\n",
       " '25분',\n",
       " '30분',\n",
       " '40분',\n",
       " '45분',\n",
       " '40분',\n",
       " '20분',\n",
       " '42분',\n",
       " '35분',\n",
       " '24분',\n",
       " '30분',\n",
       " None,\n",
       " '1시간',\n",
       " '1시간',\n",
       " '12분',\n",
       " '50분',\n",
       " '30분',\n",
       " '40분',\n",
       " '20분',\n",
       " '1시간',\n",
       " '30분',\n",
       " '40분',\n",
       " '60분',\n",
       " '50분',\n",
       " '2시간',\n",
       " '1시간20분',\n",
       " '50분',\n",
       " '25분',\n",
       " '120분',\n",
       " '1시간20분',\n",
       " '13분',\n",
       " '1시간',\n",
       " '50분',\n",
       " '50분',\n",
       " '50분',\n",
       " '2시간',\n",
       " '20분',\n",
       " '2시간',\n",
       " None,\n",
       " '5~10분',\n",
       " '50분',\n",
       " '5시간',\n",
       " '42분',\n",
       " '80분',\n",
       " '2시간',\n",
       " '30분',\n",
       " '80분',\n",
       " '30분',\n",
       " '1시간20분',\n",
       " '1시간',\n",
       " '1시간',\n",
       " '35분',\n",
       " '40분',\n",
       " None,\n",
       " '40분(강),',\n",
       " '1시간',\n",
       " '40분',\n",
       " '1시간',\n",
       " '80분',\n",
       " '50분',\n",
       " '30분',\n",
       " '1시간',\n",
       " '40분',\n",
       " '40분',\n",
       " '80분',\n",
       " '1시간',\n",
       " '60분',\n",
       " '40분',\n",
       " '40분',\n",
       " '30분',\n",
       " '80분',\n",
       " '40분',\n",
       " '20~30분',\n",
       " '40분',\n",
       " '40분',\n",
       " '40분',\n",
       " '40분',\n",
       " '45분',\n",
       " '20분',\n",
       " '10분',\n",
       " '40분',\n",
       " '80분',\n",
       " '30분',\n",
       " '1시간',\n",
       " '40분',\n",
       " '30분',\n",
       " '40분',\n",
       " '60분',\n",
       " None,\n",
       " '55분',\n",
       " '2시간',\n",
       " '48분',\n",
       " '1시간5분',\n",
       " '18분',\n",
       " None,\n",
       " '1시간30분',\n",
       " '1시간',\n",
       " '30분',\n",
       " '2시간',\n",
       " '2시간',\n",
       " '2시간',\n",
       " '24분',\n",
       " '30분',\n",
       " '50분',\n",
       " '11분',\n",
       " '1시간',\n",
       " '20분',\n",
       " '1시간6분',\n",
       " '1시간30분',\n",
       " '40분',\n",
       " '1시간30분',\n",
       " '30분',\n",
       " '20분',\n",
       " None,\n",
       " '2시간',\n",
       " '2시간',\n",
       " '20분',\n",
       " '20분',\n",
       " '40분',\n",
       " '1시간',\n",
       " '1시간',\n",
       " '45분',\n",
       " '30분',\n",
       " '5~10분',\n",
       " '1시간',\n",
       " '2시간',\n",
       " None,\n",
       " '45분',\n",
       " '1시간',\n",
       " '35분',\n",
       " '48분',\n",
       " '12분',\n",
       " '18분',\n",
       " '45분',\n",
       " '50분',\n",
       " '20분',\n",
       " '40분',\n",
       " '2시간',\n",
       " None,\n",
       " '1시간',\n",
       " '48분',\n",
       " None,\n",
       " '1시간',\n",
       " '20분',\n",
       " '1시간',\n",
       " '40분',\n",
       " '40분',\n",
       " '50분',\n",
       " '1시간40분',\n",
       " '30분',\n",
       " '15~28분',\n",
       " '1시간30분',\n",
       " '10~15분',\n",
       " '4시간',\n",
       " '30분',\n",
       " None,\n",
       " None,\n",
       " '20분',\n",
       " '1시간',\n",
       " '40분',\n",
       " '30분',\n",
       " '7분',\n",
       " '1시간',\n",
       " '12분',\n",
       " '10분',\n",
       " '16분',\n",
       " '1시간',\n",
       " '20분',\n",
       " '40분',\n",
       " '30분',\n",
       " '40분',\n",
       " '25분',\n",
       " '1시간',\n",
       " '40분',\n",
       " None,\n",
       " '35분',\n",
       " '40분',\n",
       " '40분',\n",
       " '50분',\n",
       " '80분',\n",
       " '45분',\n",
       " '12분',\n",
       " '8분',\n",
       " '30분',\n",
       " '1시간',\n",
       " '40분',\n",
       " '30분',\n",
       " '1시간',\n",
       " '15분',\n",
       " '25분',\n",
       " None,\n",
       " '14분',\n",
       " '40분',\n",
       " '30분',\n",
       " '1시간40분',\n",
       " '15분',\n",
       " '45분',\n",
       " '40분',\n",
       " '120분',\n",
       " '1시간20분',\n",
       " '48분',\n",
       " '20분',\n",
       " '22분',\n",
       " '20분',\n",
       " '30분',\n",
       " '40분',\n",
       " '1시간',\n",
       " '1시간20분',\n",
       " '1시간30분',\n",
       " '48분',\n",
       " '30분',\n",
       " '35분',\n",
       " '25분',\n",
       " '40분',\n",
       " '30분',\n",
       " '35분',\n",
       " '30분',\n",
       " '1시간',\n",
       " '1시간',\n",
       " '40분',\n",
       " '48분',\n",
       " '1시간',\n",
       " '1시간',\n",
       " '55분',\n",
       " '30분',\n",
       " '15분',\n",
       " '60분',\n",
       " '60분',\n",
       " '2시간',\n",
       " '37분',\n",
       " '20분',\n",
       " '40분',\n",
       " '20분',\n",
       " '35분',\n",
       " None,\n",
       " '1시간',\n",
       " '30분',\n",
       " '23분',\n",
       " '35분',\n",
       " '30분',\n",
       " '1시간',\n",
       " '30분',\n",
       " '45분',\n",
       " '20분',\n",
       " '1시간',\n",
       " '40분',\n",
       " '40분',\n",
       " '47분',\n",
       " '물걸레:',\n",
       " '30분',\n",
       " '1시간',\n",
       " '35분',\n",
       " None,\n",
       " '17분',\n",
       " '35분',\n",
       " '20분',\n",
       " '2시간',\n",
       " '20분',\n",
       " '40분',\n",
       " '20분',\n",
       " '40분',\n",
       " '15분',\n",
       " '2시간',\n",
       " '1시간',\n",
       " '40분',\n",
       " '40분',\n",
       " '40분',\n",
       " '30분',\n",
       " '60분',\n",
       " '2시간',\n",
       " None,\n",
       " '15분',\n",
       " '10분',\n",
       " '40분',\n",
       " '12분30초',\n",
       " '1시간30분',\n",
       " '120분',\n",
       " '25분',\n",
       " '2시간',\n",
       " '25분',\n",
       " '30분',\n",
       " '30분',\n",
       " '80분',\n",
       " '30분',\n",
       " '12분',\n",
       " '1시간40분',\n",
       " None,\n",
       " '55분',\n",
       " '50분',\n",
       " '40분',\n",
       " '48분',\n",
       " '40분',\n",
       " None,\n",
       " '15분',\n",
       " '25분',\n",
       " '30분',\n",
       " '30분',\n",
       " None,\n",
       " '25분',\n",
       " None,\n",
       " '30분',\n",
       " '60분',\n",
       " '30분',\n",
       " '15분',\n",
       " '15분',\n",
       " '1시간',\n",
       " '1시간40분',\n",
       " '25분',\n",
       " '15분',\n",
       " '35분',\n",
       " '1시간',\n",
       " '30분',\n",
       " '10분',\n",
       " '2시간',\n",
       " '30분',\n",
       " '물걸레:',\n",
       " '1시간',\n",
       " '12분',\n",
       " None,\n",
       " '40분',\n",
       " '50분',\n",
       " '53분',\n",
       " '2시간',\n",
       " '40분',\n",
       " '28분',\n",
       " '30분',\n",
       " '1시간',\n",
       " '1시간',\n",
       " None,\n",
       " None,\n",
       " '5.0Ah:',\n",
       " '10분',\n",
       " '40분',\n",
       " '20분',\n",
       " '30분',\n",
       " '30분',\n",
       " '45분',\n",
       " '30분',\n",
       " None,\n",
       " '14분',\n",
       " None,\n",
       " '30분',\n",
       " '45분',\n",
       " '18분',\n",
       " '1시간40분']"
      ]
     },
     "execution_count": 25,
     "metadata": {},
     "output_type": "execute_result"
    }
   ],
   "source": [
    "use_time_list"
   ]
  },
  {
   "cell_type": "code",
   "execution_count": 26,
   "metadata": {},
   "outputs": [],
   "source": [
    "def convert_time_minute(time):\n",
    "    try :\n",
    "        if '시간' in time:\n",
    "            hour = time.split('시간')[0]\n",
    "            if '분' in time:\n",
    "                minute = time.split('시간')[-1].split('분')[0]\n",
    "            else :\n",
    "                minute = 0\n",
    "        else:\n",
    "            hour = 0\n",
    "            minute = time.split('분')[0]\n",
    "        return int(hour)*60 + int(minute)\n",
    "    except:\n",
    "        return None"
   ]
  },
  {
   "cell_type": "code",
   "execution_count": 27,
   "metadata": {},
   "outputs": [
    {
     "name": "stdout",
     "output_type": "stream",
     "text": [
      "40분 = 40\n",
      "4분 = 4\n",
      "1시간 = 60\n",
      "3시간30분 = 210\n",
      "4시간 = 240\n"
     ]
    }
   ],
   "source": [
    "# 함수 테스트\n",
    "times = ['40분', '4분','1시간','3시간30분','4시간']\n",
    "for time in times:\n",
    "    time_value = convert_time_minute(time)\n",
    "    print(time, '=', time_value)"
   ]
  },
  {
   "cell_type": "code",
   "execution_count": 28,
   "metadata": {},
   "outputs": [],
   "source": [
    "new_use_time_list = []\n",
    "for time in use_time_list:\n",
    "    value = convert_time_minute(time)\n",
    "    new_use_time_list.append(value)"
   ]
  },
  {
   "cell_type": "code",
   "execution_count": 29,
   "metadata": {},
   "outputs": [
    {
     "name": "stdout",
     "output_type": "stream",
     "text": [
      "400\n",
      "[60, 120, 60, 60, 120, 25, 40, 120, 45, 120]\n"
     ]
    }
   ],
   "source": [
    "print(len(new_use_time_list))\n",
    "print(new_use_time_list[:10])"
   ]
  },
  {
   "cell_type": "markdown",
   "metadata": {},
   "source": [
    "## 5. 단위 흡입력 통일시키기"
   ]
  },
  {
   "cell_type": "code",
   "execution_count": 30,
   "metadata": {},
   "outputs": [],
   "source": [
    "def get_suction(value):\n",
    "    try:\n",
    "        value = value.upper()\n",
    "        if \"AW\" in value or \"W\" in value:\n",
    "            result = value.replace(\"A\", \"\").replace(\"W\",\"\")\n",
    "            result = int(result.replace(\",\",\"\"))\n",
    "        elif \"PA\" in value:\n",
    "            result = value.replace(\"PA\",\"\")\n",
    "            result = int(result.replace(\",\",\"\"))/100\n",
    "        else:\n",
    "            result = None\n",
    "        return result\n",
    "    except:\n",
    "        return None"
   ]
  },
  {
   "cell_type": "code",
   "execution_count": 31,
   "metadata": {},
   "outputs": [
    {
     "name": "stdout",
     "output_type": "stream",
     "text": [
      "100W 100\n",
      "10AW 10\n",
      "10,000Pa 100.0\n"
     ]
    }
   ],
   "source": [
    "# 함수 테스트\n",
    "suction_list2 = ['100W','10AW','10,000Pa']\n",
    "for power in suction_list2:\n",
    "    value = get_suction(power)\n",
    "    print(power,value)"
   ]
  },
  {
   "cell_type": "code",
   "execution_count": 32,
   "metadata": {},
   "outputs": [],
   "source": [
    "new_suction_list = []\n",
    "for power in suction_list:\n",
    "    value = get_suction(power)\n",
    "    new_suction_list.append(value)"
   ]
  },
  {
   "cell_type": "code",
   "execution_count": 33,
   "metadata": {},
   "outputs": [
    {
     "name": "stdout",
     "output_type": "stream",
     "text": [
      "400\n",
      "[220.0, 200, 200, 160, 200, 168.0, 150, 200, None, 200]\n"
     ]
    }
   ],
   "source": [
    "print(len(new_suction_list))\n",
    "print(new_suction_list[:10])"
   ]
  },
  {
   "cell_type": "markdown",
   "metadata": {},
   "source": [
    "## 6. 전처리 결과 엑셀 저장"
   ]
  },
  {
   "cell_type": "code",
   "execution_count": 34,
   "metadata": {},
   "outputs": [
    {
     "data": {
      "text/html": [
       "<div>\n",
       "<style scoped>\n",
       "    .dataframe tbody tr th:only-of-type {\n",
       "        vertical-align: middle;\n",
       "    }\n",
       "\n",
       "    .dataframe tbody tr th {\n",
       "        vertical-align: top;\n",
       "    }\n",
       "\n",
       "    .dataframe thead th {\n",
       "        text-align: right;\n",
       "    }\n",
       "</style>\n",
       "<table border=\"1\" class=\"dataframe\">\n",
       "  <thead>\n",
       "    <tr style=\"text-align: right;\">\n",
       "      <th></th>\n",
       "      <th>카테고리</th>\n",
       "      <th>회사명</th>\n",
       "      <th>제품</th>\n",
       "      <th>가격</th>\n",
       "      <th>사용시간</th>\n",
       "      <th>흡입력</th>\n",
       "    </tr>\n",
       "  </thead>\n",
       "  <tbody>\n",
       "    <tr>\n",
       "      <th>0</th>\n",
       "      <td>핸디/스틱청소기</td>\n",
       "      <td>샤오미</td>\n",
       "      <td>드리미 V10</td>\n",
       "      <td>148080</td>\n",
       "      <td>60.0</td>\n",
       "      <td>220.0</td>\n",
       "    </tr>\n",
       "    <tr>\n",
       "      <th>1</th>\n",
       "      <td>핸디/스틱청소기</td>\n",
       "      <td>LG전자</td>\n",
       "      <td>코드제로 A9S A9700</td>\n",
       "      <td>1001200</td>\n",
       "      <td>120.0</td>\n",
       "      <td>200.0</td>\n",
       "    </tr>\n",
       "    <tr>\n",
       "      <th>2</th>\n",
       "      <td>핸디/스틱청소기</td>\n",
       "      <td>삼성전자</td>\n",
       "      <td>제트 VS20T9213QDCS</td>\n",
       "      <td>663400</td>\n",
       "      <td>60.0</td>\n",
       "      <td>200.0</td>\n",
       "    </tr>\n",
       "    <tr>\n",
       "      <th>3</th>\n",
       "      <td>핸디/스틱청소기</td>\n",
       "      <td>다이슨</td>\n",
       "      <td>V10 카본파이버</td>\n",
       "      <td>597100</td>\n",
       "      <td>60.0</td>\n",
       "      <td>160.0</td>\n",
       "    </tr>\n",
       "    <tr>\n",
       "      <th>4</th>\n",
       "      <td>핸디/스틱청소기</td>\n",
       "      <td>LG전자</td>\n",
       "      <td>코드제로 A9S A9570</td>\n",
       "      <td>919000</td>\n",
       "      <td>120.0</td>\n",
       "      <td>200.0</td>\n",
       "    </tr>\n",
       "  </tbody>\n",
       "</table>\n",
       "</div>"
      ],
      "text/plain": [
       "       카테고리   회사명                제품       가격   사용시간    흡입력\n",
       "0  핸디/스틱청소기   샤오미           드리미 V10   148080   60.0  220.0\n",
       "1  핸디/스틱청소기  LG전자    코드제로 A9S A9700  1001200  120.0  200.0\n",
       "2  핸디/스틱청소기  삼성전자  제트 VS20T9213QDCS   663400   60.0  200.0\n",
       "3  핸디/스틱청소기   다이슨         V10 카본파이버   597100   60.0  160.0\n",
       "4  핸디/스틱청소기  LG전자    코드제로 A9S A9570   919000  120.0  200.0"
      ]
     },
     "execution_count": 34,
     "metadata": {},
     "output_type": "execute_result"
    }
   ],
   "source": [
    "pd_data = pd.DataFrame()\n",
    "pd_data['카테고리'] = category_list\n",
    "pd_data['회사명'] = company_list\n",
    "pd_data['제품'] = product_list\n",
    "pd_data['가격'] = data['가격']\n",
    "pd_data['사용시간'] = new_use_time_list\n",
    "pd_data['흡입력'] = new_suction_list\n",
    "pd_data.head()"
   ]
  },
  {
   "cell_type": "code",
   "execution_count": 35,
   "metadata": {},
   "outputs": [
    {
     "data": {
      "text/plain": [
       "핸디/스틱청소기          312\n",
       "물걸레청소기             44\n",
       "차량용청소기             20\n",
       "욕실청소기               8\n",
       "업소용청소기              6\n",
       "핸디/스틱청소기+로봇청소기      4\n",
       "침구청소기               4\n",
       "진공청소기               1\n",
       "로봇청소기               1\n",
       "Name: 카테고리, dtype: int64"
      ]
     },
     "execution_count": 35,
     "metadata": {},
     "output_type": "execute_result"
    }
   ],
   "source": [
    "pd_data['카테고리'].value_counts()"
   ]
  },
  {
   "cell_type": "code",
   "execution_count": 38,
   "metadata": {},
   "outputs": [
    {
     "data": {
      "text/plain": [
       "312"
      ]
     },
     "execution_count": 38,
     "metadata": {},
     "output_type": "execute_result"
    }
   ],
   "source": [
    "pd_data_final = pd_data[pd_data['카테고리'].isin(['핸디/스틱청소기'])]\n",
    "len(pd_data_final)"
   ]
  },
  {
   "cell_type": "code",
   "execution_count": 39,
   "metadata": {},
   "outputs": [],
   "source": [
    "pd_data_final.to_excel('./files/danawa_data_final.xlsx', index=False)"
   ]
  },
  {
   "cell_type": "markdown",
   "metadata": {},
   "source": [
    "# 무선청소기 모델별 비교 분석"
   ]
  },
  {
   "cell_type": "code",
   "execution_count": 1,
   "metadata": {},
   "outputs": [
    {
     "data": {
      "text/html": [
       "<div>\n",
       "<style scoped>\n",
       "    .dataframe tbody tr th:only-of-type {\n",
       "        vertical-align: middle;\n",
       "    }\n",
       "\n",
       "    .dataframe tbody tr th {\n",
       "        vertical-align: top;\n",
       "    }\n",
       "\n",
       "    .dataframe thead th {\n",
       "        text-align: right;\n",
       "    }\n",
       "</style>\n",
       "<table border=\"1\" class=\"dataframe\">\n",
       "  <thead>\n",
       "    <tr style=\"text-align: right;\">\n",
       "      <th></th>\n",
       "      <th>카테고리</th>\n",
       "      <th>회사명</th>\n",
       "      <th>제품</th>\n",
       "      <th>가격</th>\n",
       "      <th>사용시간</th>\n",
       "      <th>흡입력</th>\n",
       "    </tr>\n",
       "  </thead>\n",
       "  <tbody>\n",
       "    <tr>\n",
       "      <th>0</th>\n",
       "      <td>핸디/스틱청소기</td>\n",
       "      <td>샤오미</td>\n",
       "      <td>드리미 V10</td>\n",
       "      <td>148080</td>\n",
       "      <td>60.0</td>\n",
       "      <td>220.0</td>\n",
       "    </tr>\n",
       "    <tr>\n",
       "      <th>1</th>\n",
       "      <td>핸디/스틱청소기</td>\n",
       "      <td>LG전자</td>\n",
       "      <td>코드제로 A9S A9700</td>\n",
       "      <td>1001200</td>\n",
       "      <td>120.0</td>\n",
       "      <td>200.0</td>\n",
       "    </tr>\n",
       "    <tr>\n",
       "      <th>2</th>\n",
       "      <td>핸디/스틱청소기</td>\n",
       "      <td>삼성전자</td>\n",
       "      <td>제트 VS20T9213QDCS</td>\n",
       "      <td>663400</td>\n",
       "      <td>60.0</td>\n",
       "      <td>200.0</td>\n",
       "    </tr>\n",
       "    <tr>\n",
       "      <th>3</th>\n",
       "      <td>핸디/스틱청소기</td>\n",
       "      <td>다이슨</td>\n",
       "      <td>V10 카본파이버</td>\n",
       "      <td>597100</td>\n",
       "      <td>60.0</td>\n",
       "      <td>160.0</td>\n",
       "    </tr>\n",
       "    <tr>\n",
       "      <th>4</th>\n",
       "      <td>핸디/스틱청소기</td>\n",
       "      <td>LG전자</td>\n",
       "      <td>코드제로 A9S A9570</td>\n",
       "      <td>919000</td>\n",
       "      <td>120.0</td>\n",
       "      <td>200.0</td>\n",
       "    </tr>\n",
       "  </tbody>\n",
       "</table>\n",
       "</div>"
      ],
      "text/plain": [
       "       카테고리   회사명                제품       가격   사용시간    흡입력\n",
       "0  핸디/스틱청소기   샤오미           드리미 V10   148080   60.0  220.0\n",
       "1  핸디/스틱청소기  LG전자    코드제로 A9S A9700  1001200  120.0  200.0\n",
       "2  핸디/스틱청소기  삼성전자  제트 VS20T9213QDCS   663400   60.0  200.0\n",
       "3  핸디/스틱청소기   다이슨         V10 카본파이버   597100   60.0  160.0\n",
       "4  핸디/스틱청소기  LG전자    코드제로 A9S A9570   919000  120.0  200.0"
      ]
     },
     "execution_count": 1,
     "metadata": {},
     "output_type": "execute_result"
    }
   ],
   "source": [
    "import pandas as pd\n",
    "danawa_data = pd.read_excel('./files/danawa_data_final.xlsx')\n",
    "danawa_data.head()"
   ]
  },
  {
   "cell_type": "markdown",
   "metadata": {},
   "source": [
    "## 1. 흡입력 내림차순"
   ]
  },
  {
   "cell_type": "code",
   "execution_count": 2,
   "metadata": {},
   "outputs": [
    {
     "data": {
      "text/html": [
       "<div>\n",
       "<style scoped>\n",
       "    .dataframe tbody tr th:only-of-type {\n",
       "        vertical-align: middle;\n",
       "    }\n",
       "\n",
       "    .dataframe tbody tr th {\n",
       "        vertical-align: top;\n",
       "    }\n",
       "\n",
       "    .dataframe thead th {\n",
       "        text-align: right;\n",
       "    }\n",
       "</style>\n",
       "<table border=\"1\" class=\"dataframe\">\n",
       "  <thead>\n",
       "    <tr style=\"text-align: right;\">\n",
       "      <th></th>\n",
       "      <th>카테고리</th>\n",
       "      <th>회사명</th>\n",
       "      <th>제품</th>\n",
       "      <th>가격</th>\n",
       "      <th>사용시간</th>\n",
       "      <th>흡입력</th>\n",
       "    </tr>\n",
       "  </thead>\n",
       "  <tbody>\n",
       "    <tr>\n",
       "      <th>141</th>\n",
       "      <td>핸디/스틱청소기</td>\n",
       "      <td>리하스</td>\n",
       "      <td>LH20</td>\n",
       "      <td>259000</td>\n",
       "      <td>120.0</td>\n",
       "      <td>330.0</td>\n",
       "    </tr>\n",
       "    <tr>\n",
       "      <th>44</th>\n",
       "      <td>핸디/스틱청소기</td>\n",
       "      <td>캐치웰</td>\n",
       "      <td>NEW F8</td>\n",
       "      <td>199000</td>\n",
       "      <td>25.0</td>\n",
       "      <td>290.0</td>\n",
       "    </tr>\n",
       "    <tr>\n",
       "      <th>185</th>\n",
       "      <td>핸디/스틱청소기</td>\n",
       "      <td>퍼피유</td>\n",
       "      <td>T12R</td>\n",
       "      <td>393530</td>\n",
       "      <td>60.0</td>\n",
       "      <td>290.0</td>\n",
       "    </tr>\n",
       "    <tr>\n",
       "      <th>125</th>\n",
       "      <td>핸디/스틱청소기</td>\n",
       "      <td>샤오미</td>\n",
       "      <td>드리미 V12</td>\n",
       "      <td>337160</td>\n",
       "      <td>90.0</td>\n",
       "      <td>270.0</td>\n",
       "    </tr>\n",
       "    <tr>\n",
       "      <th>119</th>\n",
       "      <td>핸디/스틱청소기</td>\n",
       "      <td>아이룸</td>\n",
       "      <td>RS7</td>\n",
       "      <td>174160</td>\n",
       "      <td>NaN</td>\n",
       "      <td>260.0</td>\n",
       "    </tr>\n",
       "    <tr>\n",
       "      <th>...</th>\n",
       "      <td>...</td>\n",
       "      <td>...</td>\n",
       "      <td>...</td>\n",
       "      <td>...</td>\n",
       "      <td>...</td>\n",
       "      <td>...</td>\n",
       "    </tr>\n",
       "    <tr>\n",
       "      <th>306</th>\n",
       "      <td>핸디/스틱청소기</td>\n",
       "      <td>테팔</td>\n",
       "      <td>엑스퍼트 3.60 TY6974</td>\n",
       "      <td>261630</td>\n",
       "      <td>45.0</td>\n",
       "      <td>NaN</td>\n",
       "    </tr>\n",
       "    <tr>\n",
       "      <th>308</th>\n",
       "      <td>핸디/스틱청소기</td>\n",
       "      <td>삼성전자</td>\n",
       "      <td>VC-H70S</td>\n",
       "      <td>83870</td>\n",
       "      <td>NaN</td>\n",
       "      <td>NaN</td>\n",
       "    </tr>\n",
       "    <tr>\n",
       "      <th>309</th>\n",
       "      <td>핸디/스틱청소기</td>\n",
       "      <td>일렉트로룩스</td>\n",
       "      <td>ZB6106</td>\n",
       "      <td>56090</td>\n",
       "      <td>14.0</td>\n",
       "      <td>NaN</td>\n",
       "    </tr>\n",
       "    <tr>\n",
       "      <th>310</th>\n",
       "      <td>핸디/스틱청소기</td>\n",
       "      <td>저스트원</td>\n",
       "      <td>SN-XR330V</td>\n",
       "      <td>52100</td>\n",
       "      <td>30.0</td>\n",
       "      <td>NaN</td>\n",
       "    </tr>\n",
       "    <tr>\n",
       "      <th>311</th>\n",
       "      <td>핸디/스틱청소기</td>\n",
       "      <td>무궁화전자</td>\n",
       "      <td>MHC-720</td>\n",
       "      <td>71200</td>\n",
       "      <td>18.0</td>\n",
       "      <td>NaN</td>\n",
       "    </tr>\n",
       "  </tbody>\n",
       "</table>\n",
       "<p>312 rows × 6 columns</p>\n",
       "</div>"
      ],
      "text/plain": [
       "         카테고리     회사명                제품      가격   사용시간    흡입력\n",
       "141  핸디/스틱청소기     리하스              LH20  259000  120.0  330.0\n",
       "44   핸디/스틱청소기     캐치웰            NEW F8  199000   25.0  290.0\n",
       "185  핸디/스틱청소기     퍼피유              T12R  393530   60.0  290.0\n",
       "125  핸디/스틱청소기     샤오미           드리미 V12  337160   90.0  270.0\n",
       "119  핸디/스틱청소기     아이룸               RS7  174160    NaN  260.0\n",
       "..        ...     ...               ...     ...    ...    ...\n",
       "306  핸디/스틱청소기      테팔  엑스퍼트 3.60 TY6974  261630   45.0    NaN\n",
       "308  핸디/스틱청소기    삼성전자           VC-H70S   83870    NaN    NaN\n",
       "309  핸디/스틱청소기  일렉트로룩스            ZB6106   56090   14.0    NaN\n",
       "310  핸디/스틱청소기    저스트원         SN-XR330V   52100   30.0    NaN\n",
       "311  핸디/스틱청소기   무궁화전자           MHC-720   71200   18.0    NaN\n",
       "\n",
       "[312 rows x 6 columns]"
      ]
     },
     "execution_count": 2,
     "metadata": {},
     "output_type": "execute_result"
    }
   ],
   "source": [
    "top_list = danawa_data.sort_values(['흡입력'],ascending = False)\n",
    "top_list"
   ]
  },
  {
   "cell_type": "markdown",
   "metadata": {},
   "source": [
    "## 2. 사용시간 내림차순"
   ]
  },
  {
   "cell_type": "code",
   "execution_count": 3,
   "metadata": {},
   "outputs": [
    {
     "data": {
      "text/html": [
       "<div>\n",
       "<style scoped>\n",
       "    .dataframe tbody tr th:only-of-type {\n",
       "        vertical-align: middle;\n",
       "    }\n",
       "\n",
       "    .dataframe tbody tr th {\n",
       "        vertical-align: top;\n",
       "    }\n",
       "\n",
       "    .dataframe thead th {\n",
       "        text-align: right;\n",
       "    }\n",
       "</style>\n",
       "<table border=\"1\" class=\"dataframe\">\n",
       "  <thead>\n",
       "    <tr style=\"text-align: right;\">\n",
       "      <th></th>\n",
       "      <th>카테고리</th>\n",
       "      <th>회사명</th>\n",
       "      <th>제품</th>\n",
       "      <th>가격</th>\n",
       "      <th>사용시간</th>\n",
       "      <th>흡입력</th>\n",
       "    </tr>\n",
       "  </thead>\n",
       "  <tbody>\n",
       "    <tr>\n",
       "      <th>296</th>\n",
       "      <td>핸디/스틱청소기</td>\n",
       "      <td>삼성전자</td>\n",
       "      <td>제트 VS20T9279S6</td>\n",
       "      <td>745920</td>\n",
       "      <td>120.0</td>\n",
       "      <td>200.0</td>\n",
       "    </tr>\n",
       "    <tr>\n",
       "      <th>72</th>\n",
       "      <td>핸디/스틱청소기</td>\n",
       "      <td>삼성전자</td>\n",
       "      <td>제트 VS20T9278S3</td>\n",
       "      <td>798930</td>\n",
       "      <td>120.0</td>\n",
       "      <td>200.0</td>\n",
       "    </tr>\n",
       "    <tr>\n",
       "      <th>159</th>\n",
       "      <td>핸디/스틱청소기</td>\n",
       "      <td>삼성전자</td>\n",
       "      <td>제트 VS20T9257SECS</td>\n",
       "      <td>792570</td>\n",
       "      <td>120.0</td>\n",
       "      <td>200.0</td>\n",
       "    </tr>\n",
       "    <tr>\n",
       "      <th>33</th>\n",
       "      <td>핸디/스틱청소기</td>\n",
       "      <td>삼성전자</td>\n",
       "      <td>제트 VS20R9074S2</td>\n",
       "      <td>581830</td>\n",
       "      <td>120.0</td>\n",
       "      <td>200.0</td>\n",
       "    </tr>\n",
       "    <tr>\n",
       "      <th>149</th>\n",
       "      <td>핸디/스틱청소기</td>\n",
       "      <td>삼성전자</td>\n",
       "      <td>제트 VS20T9258SF</td>\n",
       "      <td>939250</td>\n",
       "      <td>120.0</td>\n",
       "      <td>200.0</td>\n",
       "    </tr>\n",
       "    <tr>\n",
       "      <th>...</th>\n",
       "      <td>...</td>\n",
       "      <td>...</td>\n",
       "      <td>...</td>\n",
       "      <td>...</td>\n",
       "      <td>...</td>\n",
       "      <td>...</td>\n",
       "    </tr>\n",
       "    <tr>\n",
       "      <th>278</th>\n",
       "      <td>핸디/스틱청소기</td>\n",
       "      <td>리락쿠마</td>\n",
       "      <td>미니미니 청소기</td>\n",
       "      <td>5720</td>\n",
       "      <td>NaN</td>\n",
       "      <td>NaN</td>\n",
       "    </tr>\n",
       "    <tr>\n",
       "      <th>293</th>\n",
       "      <td>핸디/스틱청소기</td>\n",
       "      <td>유니맥스</td>\n",
       "      <td>UVC-1686A</td>\n",
       "      <td>30510</td>\n",
       "      <td>NaN</td>\n",
       "      <td>NaN</td>\n",
       "    </tr>\n",
       "    <tr>\n",
       "      <th>301</th>\n",
       "      <td>핸디/스틱청소기</td>\n",
       "      <td>DIBEA</td>\n",
       "      <td>ALLNEW12000</td>\n",
       "      <td>123900</td>\n",
       "      <td>NaN</td>\n",
       "      <td>120.0</td>\n",
       "    </tr>\n",
       "    <tr>\n",
       "      <th>302</th>\n",
       "      <td>핸디/스틱청소기</td>\n",
       "      <td>아이룸</td>\n",
       "      <td>AST-009 플러스 맥스</td>\n",
       "      <td>117950</td>\n",
       "      <td>NaN</td>\n",
       "      <td>120.0</td>\n",
       "    </tr>\n",
       "    <tr>\n",
       "      <th>308</th>\n",
       "      <td>핸디/스틱청소기</td>\n",
       "      <td>삼성전자</td>\n",
       "      <td>VC-H70S</td>\n",
       "      <td>83870</td>\n",
       "      <td>NaN</td>\n",
       "      <td>NaN</td>\n",
       "    </tr>\n",
       "  </tbody>\n",
       "</table>\n",
       "<p>312 rows × 6 columns</p>\n",
       "</div>"
      ],
      "text/plain": [
       "         카테고리    회사명                제품      가격   사용시간    흡입력\n",
       "296  핸디/스틱청소기   삼성전자    제트 VS20T9279S6  745920  120.0  200.0\n",
       "72   핸디/스틱청소기   삼성전자    제트 VS20T9278S3  798930  120.0  200.0\n",
       "159  핸디/스틱청소기   삼성전자  제트 VS20T9257SECS  792570  120.0  200.0\n",
       "33   핸디/스틱청소기   삼성전자    제트 VS20R9074S2  581830  120.0  200.0\n",
       "149  핸디/스틱청소기   삼성전자    제트 VS20T9258SF  939250  120.0  200.0\n",
       "..        ...    ...               ...     ...    ...    ...\n",
       "278  핸디/스틱청소기   리락쿠마          미니미니 청소기    5720    NaN    NaN\n",
       "293  핸디/스틱청소기   유니맥스         UVC-1686A   30510    NaN    NaN\n",
       "301  핸디/스틱청소기  DIBEA       ALLNEW12000  123900    NaN  120.0\n",
       "302  핸디/스틱청소기    아이룸    AST-009 플러스 맥스  117950    NaN  120.0\n",
       "308  핸디/스틱청소기   삼성전자           VC-H70S   83870    NaN    NaN\n",
       "\n",
       "[312 rows x 6 columns]"
      ]
     },
     "execution_count": 3,
     "metadata": {},
     "output_type": "execute_result"
    }
   ],
   "source": [
    "top_list = danawa_data.sort_values(['사용시간'],ascending = False)\n",
    "top_list"
   ]
  },
  {
   "cell_type": "markdown",
   "metadata": {},
   "source": [
    "## 3. 흡입력, 사용시간 내림차순"
   ]
  },
  {
   "cell_type": "code",
   "execution_count": 4,
   "metadata": {},
   "outputs": [
    {
     "data": {
      "text/html": [
       "<div>\n",
       "<style scoped>\n",
       "    .dataframe tbody tr th:only-of-type {\n",
       "        vertical-align: middle;\n",
       "    }\n",
       "\n",
       "    .dataframe tbody tr th {\n",
       "        vertical-align: top;\n",
       "    }\n",
       "\n",
       "    .dataframe thead th {\n",
       "        text-align: right;\n",
       "    }\n",
       "</style>\n",
       "<table border=\"1\" class=\"dataframe\">\n",
       "  <thead>\n",
       "    <tr style=\"text-align: right;\">\n",
       "      <th></th>\n",
       "      <th>카테고리</th>\n",
       "      <th>회사명</th>\n",
       "      <th>제품</th>\n",
       "      <th>가격</th>\n",
       "      <th>사용시간</th>\n",
       "      <th>흡입력</th>\n",
       "    </tr>\n",
       "  </thead>\n",
       "  <tbody>\n",
       "    <tr>\n",
       "      <th>141</th>\n",
       "      <td>핸디/스틱청소기</td>\n",
       "      <td>리하스</td>\n",
       "      <td>LH20</td>\n",
       "      <td>259000</td>\n",
       "      <td>120.0</td>\n",
       "      <td>330.0</td>\n",
       "    </tr>\n",
       "    <tr>\n",
       "      <th>1</th>\n",
       "      <td>핸디/스틱청소기</td>\n",
       "      <td>LG전자</td>\n",
       "      <td>코드제로 A9S A9700</td>\n",
       "      <td>1001200</td>\n",
       "      <td>120.0</td>\n",
       "      <td>200.0</td>\n",
       "    </tr>\n",
       "    <tr>\n",
       "      <th>4</th>\n",
       "      <td>핸디/스틱청소기</td>\n",
       "      <td>LG전자</td>\n",
       "      <td>코드제로 A9S A9570</td>\n",
       "      <td>919000</td>\n",
       "      <td>120.0</td>\n",
       "      <td>200.0</td>\n",
       "    </tr>\n",
       "    <tr>\n",
       "      <th>6</th>\n",
       "      <td>핸디/스틱청소기</td>\n",
       "      <td>삼성전자</td>\n",
       "      <td>제트 VS20T9258SDCS</td>\n",
       "      <td>899000</td>\n",
       "      <td>120.0</td>\n",
       "      <td>200.0</td>\n",
       "    </tr>\n",
       "    <tr>\n",
       "      <th>8</th>\n",
       "      <td>핸디/스틱청소기</td>\n",
       "      <td>삼성전자</td>\n",
       "      <td>제트 VS20R9078S2</td>\n",
       "      <td>646910</td>\n",
       "      <td>120.0</td>\n",
       "      <td>200.0</td>\n",
       "    </tr>\n",
       "    <tr>\n",
       "      <th>...</th>\n",
       "      <td>...</td>\n",
       "      <td>...</td>\n",
       "      <td>...</td>\n",
       "      <td>...</td>\n",
       "      <td>...</td>\n",
       "      <td>...</td>\n",
       "    </tr>\n",
       "    <tr>\n",
       "      <th>262</th>\n",
       "      <td>핸디/스틱청소기</td>\n",
       "      <td>듀플렉스</td>\n",
       "      <td>DP-480VC</td>\n",
       "      <td>24420</td>\n",
       "      <td>NaN</td>\n",
       "      <td>NaN</td>\n",
       "    </tr>\n",
       "    <tr>\n",
       "      <th>272</th>\n",
       "      <td>핸디/스틱청소기</td>\n",
       "      <td>코코젤리</td>\n",
       "      <td>GNOVC2</td>\n",
       "      <td>135590</td>\n",
       "      <td>NaN</td>\n",
       "      <td>NaN</td>\n",
       "    </tr>\n",
       "    <tr>\n",
       "      <th>278</th>\n",
       "      <td>핸디/스틱청소기</td>\n",
       "      <td>리락쿠마</td>\n",
       "      <td>미니미니 청소기</td>\n",
       "      <td>5720</td>\n",
       "      <td>NaN</td>\n",
       "      <td>NaN</td>\n",
       "    </tr>\n",
       "    <tr>\n",
       "      <th>293</th>\n",
       "      <td>핸디/스틱청소기</td>\n",
       "      <td>유니맥스</td>\n",
       "      <td>UVC-1686A</td>\n",
       "      <td>30510</td>\n",
       "      <td>NaN</td>\n",
       "      <td>NaN</td>\n",
       "    </tr>\n",
       "    <tr>\n",
       "      <th>308</th>\n",
       "      <td>핸디/스틱청소기</td>\n",
       "      <td>삼성전자</td>\n",
       "      <td>VC-H70S</td>\n",
       "      <td>83870</td>\n",
       "      <td>NaN</td>\n",
       "      <td>NaN</td>\n",
       "    </tr>\n",
       "  </tbody>\n",
       "</table>\n",
       "<p>312 rows × 6 columns</p>\n",
       "</div>"
      ],
      "text/plain": [
       "         카테고리   회사명                제품       가격   사용시간    흡입력\n",
       "141  핸디/스틱청소기   리하스              LH20   259000  120.0  330.0\n",
       "1    핸디/스틱청소기  LG전자    코드제로 A9S A9700  1001200  120.0  200.0\n",
       "4    핸디/스틱청소기  LG전자    코드제로 A9S A9570   919000  120.0  200.0\n",
       "6    핸디/스틱청소기  삼성전자  제트 VS20T9258SDCS   899000  120.0  200.0\n",
       "8    핸디/스틱청소기  삼성전자    제트 VS20R9078S2   646910  120.0  200.0\n",
       "..        ...   ...               ...      ...    ...    ...\n",
       "262  핸디/스틱청소기  듀플렉스          DP-480VC    24420    NaN    NaN\n",
       "272  핸디/스틱청소기  코코젤리            GNOVC2   135590    NaN    NaN\n",
       "278  핸디/스틱청소기  리락쿠마          미니미니 청소기     5720    NaN    NaN\n",
       "293  핸디/스틱청소기  유니맥스         UVC-1686A    30510    NaN    NaN\n",
       "308  핸디/스틱청소기  삼성전자           VC-H70S    83870    NaN    NaN\n",
       "\n",
       "[312 rows x 6 columns]"
      ]
     },
     "execution_count": 4,
     "metadata": {},
     "output_type": "execute_result"
    }
   ],
   "source": [
    "top_list = danawa_data.sort_values(['사용시간','흡입력'],ascending = False)\n",
    "top_list"
   ]
  },
  {
   "cell_type": "markdown",
   "metadata": {},
   "source": [
    "## 4. 가성비 좋은 제품 살펴보기"
   ]
  },
  {
   "cell_type": "code",
   "execution_count": 6,
   "metadata": {},
   "outputs": [
    {
     "name": "stdout",
     "output_type": "stream",
     "text": [
      "가격 평균값 384529.8717948718\n",
      "흡입력 평균값 167.0603015075377\n",
      "사용시간 평균값 49.75778546712803\n"
     ]
    }
   ],
   "source": [
    "price_mean_value = danawa_data['가격'].mean()\n",
    "suction_mean_value = danawa_data['흡입력'].mean()\n",
    "use_time_mean_value = danawa_data['사용시간'].mean()\n",
    "print(\"가격 평균값\", price_mean_value)\n",
    "print(\"흡입력 평균값\", suction_mean_value)\n",
    "print(\"사용시간 평균값\", use_time_mean_value)"
   ]
  },
  {
   "cell_type": "markdown",
   "metadata": {},
   "source": [
    "## 5. 평균보다 높은 제품 찾아보기"
   ]
  },
  {
   "cell_type": "code",
   "execution_count": 9,
   "metadata": {},
   "outputs": [
    {
     "data": {
      "text/html": [
       "<div>\n",
       "<style scoped>\n",
       "    .dataframe tbody tr th:only-of-type {\n",
       "        vertical-align: middle;\n",
       "    }\n",
       "\n",
       "    .dataframe tbody tr th {\n",
       "        vertical-align: top;\n",
       "    }\n",
       "\n",
       "    .dataframe thead th {\n",
       "        text-align: right;\n",
       "    }\n",
       "</style>\n",
       "<table border=\"1\" class=\"dataframe\">\n",
       "  <thead>\n",
       "    <tr style=\"text-align: right;\">\n",
       "      <th></th>\n",
       "      <th>카테고리</th>\n",
       "      <th>회사명</th>\n",
       "      <th>제품</th>\n",
       "      <th>가격</th>\n",
       "      <th>사용시간</th>\n",
       "      <th>흡입력</th>\n",
       "    </tr>\n",
       "  </thead>\n",
       "  <tbody>\n",
       "    <tr>\n",
       "      <th>0</th>\n",
       "      <td>핸디/스틱청소기</td>\n",
       "      <td>샤오미</td>\n",
       "      <td>드리미 V10</td>\n",
       "      <td>148080</td>\n",
       "      <td>60.0</td>\n",
       "      <td>220.0</td>\n",
       "    </tr>\n",
       "    <tr>\n",
       "      <th>23</th>\n",
       "      <td>핸디/스틱청소기</td>\n",
       "      <td>샤오미</td>\n",
       "      <td>SHUNZAO Z11</td>\n",
       "      <td>159000</td>\n",
       "      <td>60.0</td>\n",
       "      <td>260.0</td>\n",
       "    </tr>\n",
       "    <tr>\n",
       "      <th>24</th>\n",
       "      <td>핸디/스틱청소기</td>\n",
       "      <td>샤오미</td>\n",
       "      <td>드리미 V11</td>\n",
       "      <td>235500</td>\n",
       "      <td>90.0</td>\n",
       "      <td>250.0</td>\n",
       "    </tr>\n",
       "    <tr>\n",
       "      <th>26</th>\n",
       "      <td>핸디/스틱청소기</td>\n",
       "      <td>DIBEA</td>\n",
       "      <td>PLA25</td>\n",
       "      <td>226590</td>\n",
       "      <td>50.0</td>\n",
       "      <td>250.0</td>\n",
       "    </tr>\n",
       "    <tr>\n",
       "      <th>30</th>\n",
       "      <td>핸디/스틱청소기</td>\n",
       "      <td>델로라</td>\n",
       "      <td>V11 파워 300W</td>\n",
       "      <td>137600</td>\n",
       "      <td>70.0</td>\n",
       "      <td>220.0</td>\n",
       "    </tr>\n",
       "    <tr>\n",
       "      <th>36</th>\n",
       "      <td>핸디/스틱청소기</td>\n",
       "      <td>샤오미</td>\n",
       "      <td>드리미 V9</td>\n",
       "      <td>122000</td>\n",
       "      <td>60.0</td>\n",
       "      <td>200.0</td>\n",
       "    </tr>\n",
       "    <tr>\n",
       "      <th>54</th>\n",
       "      <td>핸디/스틱청소기</td>\n",
       "      <td>샤오미</td>\n",
       "      <td>SHUNZAO Z11 PRO</td>\n",
       "      <td>214410</td>\n",
       "      <td>60.0</td>\n",
       "      <td>260.0</td>\n",
       "    </tr>\n",
       "    <tr>\n",
       "      <th>57</th>\n",
       "      <td>핸디/스틱청소기</td>\n",
       "      <td>아이닉</td>\n",
       "      <td>i20</td>\n",
       "      <td>238000</td>\n",
       "      <td>50.0</td>\n",
       "      <td>250.0</td>\n",
       "    </tr>\n",
       "    <tr>\n",
       "      <th>60</th>\n",
       "      <td>핸디/스틱청소기</td>\n",
       "      <td>샤오미</td>\n",
       "      <td>드리미 V10P</td>\n",
       "      <td>237360</td>\n",
       "      <td>60.0</td>\n",
       "      <td>220.0</td>\n",
       "    </tr>\n",
       "    <tr>\n",
       "      <th>70</th>\n",
       "      <td>핸디/스틱청소기</td>\n",
       "      <td>DIBEA</td>\n",
       "      <td>X20</td>\n",
       "      <td>229000</td>\n",
       "      <td>50.0</td>\n",
       "      <td>200.0</td>\n",
       "    </tr>\n",
       "    <tr>\n",
       "      <th>99</th>\n",
       "      <td>핸디/스틱청소기</td>\n",
       "      <td>샤오미</td>\n",
       "      <td>로이드미 제로</td>\n",
       "      <td>221040</td>\n",
       "      <td>60.0</td>\n",
       "      <td>220.0</td>\n",
       "    </tr>\n",
       "    <tr>\n",
       "      <th>123</th>\n",
       "      <td>핸디/스틱청소기</td>\n",
       "      <td>원더스리빙</td>\n",
       "      <td>원더스 다이나킹 Z9</td>\n",
       "      <td>299000</td>\n",
       "      <td>65.0</td>\n",
       "      <td>220.0</td>\n",
       "    </tr>\n",
       "    <tr>\n",
       "      <th>125</th>\n",
       "      <td>핸디/스틱청소기</td>\n",
       "      <td>샤오미</td>\n",
       "      <td>드리미 V12</td>\n",
       "      <td>337160</td>\n",
       "      <td>90.0</td>\n",
       "      <td>270.0</td>\n",
       "    </tr>\n",
       "    <tr>\n",
       "      <th>131</th>\n",
       "      <td>핸디/스틱청소기</td>\n",
       "      <td>DIBEA</td>\n",
       "      <td>M500 퀀텀</td>\n",
       "      <td>239000</td>\n",
       "      <td>50.0</td>\n",
       "      <td>250.0</td>\n",
       "    </tr>\n",
       "    <tr>\n",
       "      <th>141</th>\n",
       "      <td>핸디/스틱청소기</td>\n",
       "      <td>리하스</td>\n",
       "      <td>LH20</td>\n",
       "      <td>259000</td>\n",
       "      <td>120.0</td>\n",
       "      <td>330.0</td>\n",
       "    </tr>\n",
       "    <tr>\n",
       "      <th>156</th>\n",
       "      <td>핸디/스틱청소기</td>\n",
       "      <td>DIBEA</td>\n",
       "      <td>M500 클래스</td>\n",
       "      <td>189000</td>\n",
       "      <td>50.0</td>\n",
       "      <td>200.0</td>\n",
       "    </tr>\n",
       "    <tr>\n",
       "      <th>165</th>\n",
       "      <td>핸디/스틱청소기</td>\n",
       "      <td>샤오미</td>\n",
       "      <td>VIOMI A9 V-HWVC12A</td>\n",
       "      <td>269000</td>\n",
       "      <td>60.0</td>\n",
       "      <td>230.0</td>\n",
       "    </tr>\n",
       "    <tr>\n",
       "      <th>168</th>\n",
       "      <td>핸디/스틱청소기</td>\n",
       "      <td>DIBEA</td>\n",
       "      <td>X30</td>\n",
       "      <td>199000</td>\n",
       "      <td>50.0</td>\n",
       "      <td>250.0</td>\n",
       "    </tr>\n",
       "    <tr>\n",
       "      <th>190</th>\n",
       "      <td>핸디/스틱청소기</td>\n",
       "      <td>DIBEA</td>\n",
       "      <td>F20 맥스</td>\n",
       "      <td>227900</td>\n",
       "      <td>50.0</td>\n",
       "      <td>250.0</td>\n",
       "    </tr>\n",
       "    <tr>\n",
       "      <th>214</th>\n",
       "      <td>핸디/스틱청소기</td>\n",
       "      <td>캐치웰</td>\n",
       "      <td>Z20</td>\n",
       "      <td>129000</td>\n",
       "      <td>60.0</td>\n",
       "      <td>200.0</td>\n",
       "    </tr>\n",
       "    <tr>\n",
       "      <th>221</th>\n",
       "      <td>핸디/스틱청소기</td>\n",
       "      <td>샤오미</td>\n",
       "      <td>로이드미 넥스 XCQ06RM</td>\n",
       "      <td>357750</td>\n",
       "      <td>60.0</td>\n",
       "      <td>235.0</td>\n",
       "    </tr>\n",
       "    <tr>\n",
       "      <th>224</th>\n",
       "      <td>핸디/스틱청소기</td>\n",
       "      <td>캐치웰</td>\n",
       "      <td>G20</td>\n",
       "      <td>129000</td>\n",
       "      <td>60.0</td>\n",
       "      <td>200.0</td>\n",
       "    </tr>\n",
       "    <tr>\n",
       "      <th>228</th>\n",
       "      <td>핸디/스틱청소기</td>\n",
       "      <td>캐치웰</td>\n",
       "      <td>CX11</td>\n",
       "      <td>167160</td>\n",
       "      <td>60.0</td>\n",
       "      <td>200.0</td>\n",
       "    </tr>\n",
       "    <tr>\n",
       "      <th>243</th>\n",
       "      <td>핸디/스틱청소기</td>\n",
       "      <td>샤오미</td>\n",
       "      <td>드리미 V9P</td>\n",
       "      <td>173980</td>\n",
       "      <td>60.0</td>\n",
       "      <td>200.0</td>\n",
       "    </tr>\n",
       "    <tr>\n",
       "      <th>256</th>\n",
       "      <td>핸디/스틱청소기</td>\n",
       "      <td>캐치웰</td>\n",
       "      <td>코드엑스</td>\n",
       "      <td>199000</td>\n",
       "      <td>60.0</td>\n",
       "      <td>220.0</td>\n",
       "    </tr>\n",
       "  </tbody>\n",
       "</table>\n",
       "</div>"
      ],
      "text/plain": [
       "         카테고리    회사명                  제품      가격   사용시간    흡입력\n",
       "0    핸디/스틱청소기    샤오미             드리미 V10  148080   60.0  220.0\n",
       "23   핸디/스틱청소기    샤오미         SHUNZAO Z11  159000   60.0  260.0\n",
       "24   핸디/스틱청소기    샤오미             드리미 V11  235500   90.0  250.0\n",
       "26   핸디/스틱청소기  DIBEA               PLA25  226590   50.0  250.0\n",
       "30   핸디/스틱청소기    델로라         V11 파워 300W  137600   70.0  220.0\n",
       "36   핸디/스틱청소기    샤오미              드리미 V9  122000   60.0  200.0\n",
       "54   핸디/스틱청소기    샤오미     SHUNZAO Z11 PRO  214410   60.0  260.0\n",
       "57   핸디/스틱청소기    아이닉                 i20  238000   50.0  250.0\n",
       "60   핸디/스틱청소기    샤오미            드리미 V10P  237360   60.0  220.0\n",
       "70   핸디/스틱청소기  DIBEA                 X20  229000   50.0  200.0\n",
       "99   핸디/스틱청소기    샤오미             로이드미 제로  221040   60.0  220.0\n",
       "123  핸디/스틱청소기  원더스리빙         원더스 다이나킹 Z9  299000   65.0  220.0\n",
       "125  핸디/스틱청소기    샤오미             드리미 V12  337160   90.0  270.0\n",
       "131  핸디/스틱청소기  DIBEA             M500 퀀텀  239000   50.0  250.0\n",
       "141  핸디/스틱청소기    리하스                LH20  259000  120.0  330.0\n",
       "156  핸디/스틱청소기  DIBEA            M500 클래스  189000   50.0  200.0\n",
       "165  핸디/스틱청소기    샤오미  VIOMI A9 V-HWVC12A  269000   60.0  230.0\n",
       "168  핸디/스틱청소기  DIBEA                 X30  199000   50.0  250.0\n",
       "190  핸디/스틱청소기  DIBEA              F20 맥스  227900   50.0  250.0\n",
       "214  핸디/스틱청소기    캐치웰                 Z20  129000   60.0  200.0\n",
       "221  핸디/스틱청소기    샤오미     로이드미 넥스 XCQ06RM  357750   60.0  235.0\n",
       "224  핸디/스틱청소기    캐치웰                 G20  129000   60.0  200.0\n",
       "228  핸디/스틱청소기    캐치웰                CX11  167160   60.0  200.0\n",
       "243  핸디/스틱청소기    샤오미             드리미 V9P  173980   60.0  200.0\n",
       "256  핸디/스틱청소기    캐치웰                코드엑스  199000   60.0  220.0"
      ]
     },
     "execution_count": 9,
     "metadata": {},
     "output_type": "execute_result"
    }
   ],
   "source": [
    "condition_data = danawa_data[\n",
    "    (danawa_data['가격'] <= price_mean_value) &\n",
    "    (danawa_data['흡입력'] >= suction_mean_value) &\n",
    "    (danawa_data['사용시간'] >= use_time_mean_value)]\n",
    "\n",
    "condition_data"
   ]
  },
  {
   "cell_type": "markdown",
   "metadata": {},
   "source": [
    "# 데이터 시각화"
   ]
  },
  {
   "cell_type": "markdown",
   "metadata": {},
   "source": [
    "### 1. 라이브러리 임포트 및 한글 글꼴 설정"
   ]
  },
  {
   "cell_type": "code",
   "execution_count": 10,
   "metadata": {},
   "outputs": [],
   "source": [
    "from matplotlib import font_manager,rc\n",
    "import matplotlib.pyplot as plt\n",
    "import seaborn as sns\n",
    "import platform\n",
    "\n",
    "font_path = ''\n",
    "if platform.system() == 'Windows': \n",
    "    font_path = 'c:/Windows/Fonts/malgun.ttf'\n",
    "    font_name = font_manager.FontProperties(fname = font_path).get_name()\n",
    "    rc('font', family = font_name)\n",
    "elif platform.system() == 'Darwin':\n",
    "    font_path = '/Users/$USER/Library/Fonts/AppleGothic.ttf'\n",
    "    rc('font', family = 'AppleGothic')\n",
    "else: \n",
    "    print('Check your OS system')\n",
    "    \n",
    "%matplotlib inline"
   ]
  },
  {
   "cell_type": "markdown",
   "metadata": {},
   "source": [
    "## 2. 결측값 제거하기"
   ]
  },
  {
   "cell_type": "code",
   "execution_count": 16,
   "metadata": {},
   "outputs": [
    {
     "data": {
      "text/plain": [
       "192"
      ]
     },
     "execution_count": 16,
     "metadata": {},
     "output_type": "execute_result"
    }
   ],
   "source": [
    "chart_data = danawa_data.dropna(axis='index')\n",
    "len(chart_data)"
   ]
  },
  {
   "cell_type": "markdown",
   "metadata": {},
   "source": [
    "## 3. 흡입력, 사용시간의 최대/최소값 정리"
   ]
  },
  {
   "cell_type": "code",
   "execution_count": 18,
   "metadata": {},
   "outputs": [],
   "source": [
    "suction_max_value = chart_data['흡입력'].max()\n",
    "suction_mean_value = chart_data['흡입력'].mean()\n",
    "use_time_max_value = chart_data['사용시간'].max()\n",
    "use_time_mean_value = chart_data['사용시간'].mean()"
   ]
  },
  {
   "cell_type": "markdown",
   "metadata": {},
   "source": [
    "## 4. 청소기 성능 시각화"
   ]
  },
  {
   "cell_type": "code",
   "execution_count": 24,
   "metadata": {},
   "outputs": [
    {
     "data": {
      "image/png": "[encoded data removed]",
      "text/plain": [
       "<Figure size 1440x720 with 1 Axes>"
      ]
     },
     "metadata": {
      "needs_background": "light"
     },
     "output_type": "display_data"
    }
   ],
   "source": [
    "plt.figure(figsize=(20,10))\n",
    "plt.title('무선 핸디/스틱청소기 챠트',fontsize=40)\n",
    "sns.scatterplot(x='흡입력',y='사용시간',size='가격',hue= chart_data['회사명'],data=chart_data,sizes=(10,1000),legend=False)\n",
    "plt.plot([0,suction_max_value],\n",
    "        [use_time_mean_value, use_time_mean_value],\n",
    "        'r--',\n",
    "        lw = 1)\n",
    "plt.plot([suction_mean_value, suction_mean_value],\n",
    "         [0,use_time_max_value],\n",
    "        'r--',\n",
    "        lw = 1)\n",
    "plt.show()"
   ]
  },
  {
   "cell_type": "markdown",
   "metadata": {},
   "source": [
    "## 5. 인기제품 20개 데이터 시각화"
   ]
  },
  {
   "cell_type": "code",
   "execution_count": 30,
   "metadata": {},
   "outputs": [
    {
     "name": "stdout",
     "output_type": "stream",
     "text": [
      "        카테고리      회사명                   제품       가격   사용시간    흡입력\n",
      "0   핸디/스틱청소기      샤오미              드리미 V10   148080   60.0  220.0\n",
      "1   핸디/스틱청소기     LG전자       코드제로 A9S A9700  1001200  120.0  200.0\n",
      "2   핸디/스틱청소기     삼성전자     제트 VS20T9213QDCS   663400   60.0  200.0\n",
      "3   핸디/스틱청소기      다이슨            V10 카본파이버   597100   60.0  160.0\n",
      "4   핸디/스틱청소기     LG전자       코드제로 A9S A9570   919000  120.0  200.0\n",
      "5   핸디/스틱청소기     삼성전자       제트 VS15R8500BF   386270   40.0  150.0\n",
      "6   핸디/스틱청소기     삼성전자     제트 VS20T9258SDCS   899000  120.0  200.0\n",
      "8   핸디/스틱청소기     삼성전자       제트 VS20R9078S2   646910  120.0  200.0\n",
      "9   핸디/스틱청소기      다이슨               V8 플러피   395120   40.0  155.0\n",
      "10  핸디/스틱청소기    DIBEA           TSX-25000A   199000   45.0  250.0\n",
      "11  핸디/스틱청소기     LG전자       코드제로 A9S A9300   725820   60.0  200.0\n",
      "13  핸디/스틱청소기      다이슨        옴니 글라이드 컴플리트+   581950   20.0   50.0\n",
      "14  핸디/스틱청소기      샤오미  TROUVER TECH SOLO10    89500   48.0  180.0\n",
      "15  핸디/스틱청소기      다이슨          디지털 슬림 플러피+   709880   40.0  100.0\n",
      "17  핸디/스틱청소기      다이슨             V11 컴플리트   854040   60.0  185.0\n",
      "18  핸디/스틱청소기     삼성전자       제트 VS20R9044SB   612870   60.0  200.0\n",
      "19  핸디/스틱청소기      홈마블                  H80    49800   30.0   60.0\n",
      "20  핸디/스틱청소기  시원코퍼레이션            SRV-2010C    69900   28.0  150.0\n",
      "21  핸디/스틱청소기     삼성전자     제트 VS20T9278S3CS   894740  120.0  200.0\n",
      "23  핸디/스틱청소기      샤오미          SHUNZAO Z11   159000   60.0  260.0\n"
     ]
    }
   ],
   "source": [
    "chart_data_selected = chart_data[:20]\n",
    "len(chart_data_selected)\n",
    "print(chart_data_selected)"
   ]
  },
  {
   "cell_type": "code",
   "execution_count": 29,
   "metadata": {},
   "outputs": [
    {
     "data": {
      "image/png": "[encoded data removed]",
      "text/plain": [
       "<Figure size 1440x720 with 1 Axes>"
      ]
     },
     "metadata": {
      "needs_background": "light"
     },
     "output_type": "display_data"
    }
   ],
   "source": [
    "suction_max_value = chart_data_selected['흡입력'].max()\n",
    "suction_mean_value = chart_data_selected['흡입력'].mean()\n",
    "use_time_max_value = chart_data_selected['사용시간'].max()\n",
    "use_time_mean_value = chart_data_selected['사용시간'].mean()\n",
    "\n",
    "plt.figure(figsize=(20,10))\n",
    "plt.title('무선 핸디/스틱청소기 TOP 20',fontsize=40)\n",
    "\n",
    "sns.scatterplot(x='흡입력',\n",
    "                y='사용시간',\n",
    "                size='가격',\n",
    "                hue= chart_data_selected['회사명'],\n",
    "                data=chart_data_selected,\n",
    "                sizes=(100,2000),\n",
    "                legend=False)\n",
    "\n",
    "plt.plot([0,suction_max_value],\n",
    "        [use_time_mean_value, use_time_mean_value],\n",
    "        'r--',\n",
    "        lw = 1)\n",
    "plt.plot([suction_mean_value, suction_mean_value],\n",
    "         [0,use_time_max_value],\n",
    "        'r--',\n",
    "        lw = 1)\n",
    "\n",
    "for index, row in chart_data_selected.iterrows():\n",
    "    x = row['흡입력']\n",
    "    y = row['사용시간']\n",
    "    s = row['제품'].split(' ')[0]\n",
    "    plt.text(x,y,s,size=20)    \n",
    "    \n",
    "plt.show()"
   ]
  },
  {
   "cell_type": "code",
   "execution_count": null,
   "metadata": {},
   "outputs": [],
   "source": []
  }
 ],
 "metadata": {
  "kernelspec": {
   "display_name": "Python 3",
   "language": "python",
   "name": "python3"
  },
  "language_info": {
   "codemirror_mode": {
    "name": "ipython",
    "version": 3
   },
   "file_extension": ".py",
   "mimetype": "text/x-python",
   "name": "python",
   "nbconvert_exporter": "python",
   "pygments_lexer": "ipython3",
   "version": "3.7.6"
  }
 },
 "nbformat": 4,
 "nbformat_minor": 4
}
